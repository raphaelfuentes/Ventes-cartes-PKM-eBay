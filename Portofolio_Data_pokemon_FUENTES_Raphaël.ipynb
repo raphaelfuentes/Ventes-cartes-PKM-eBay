{
  "nbformat": 4,
  "nbformat_minor": 0,
  "metadata": {
    "colab": {
      "name": "Portofolio Data pokemon",
      "provenance": [],
      "collapsed_sections": []
    },
    "kernelspec": {
      "name": "python3",
      "display_name": "Python 3"
    },
    "language_info": {
      "name": "python"
    }
  },
  "cells": [
    {
      "cell_type": "code",
      "execution_count": 202,
      "metadata": {
        "id": "ABNnZYJQkagq"
      },
      "outputs": [],
      "source": [
        "import plotly.graph_objects as go\n",
        "import pandas as pd\n",
        "import numpy as np\n",
        "import matplotlib.pyplot as plt\n",
        "import datetime\n",
        "import plotly.express as px\n"
      ]
    },
    {
      "cell_type": "code",
      "source": [
        "#La fonction ci dessous nous permet de produire des graphiques interactifs, directement à partir d'un DataFrame. \n",
        "\n",
        "pd.options.plotting.backend = 'plotly'\n",
        "\n",
        "#pd.read_csv va permettre la lecture du doc. CSV importé sur google colab,\n",
        "#Séparation des éléments par la virgule\n",
        "#UTF-8 Permet de contourner les problèmes d'encodage pour les caractères indéchiffrables.\n",
        "#\"on_bad_lines\" va nous permettre de passer les lignes vides afin que python ne les interprète pas comme des erreurs.\n",
        "\n",
        "DF = pd.read_csv('/content/carte pokemon en vente_eBay_GOOD.csv', sep=',', encoding='utf-8', on_bad_lines='skip')\n",
        "\n",
        "DF.info()\n",
        "\n",
        "print(DF)"
      ],
      "metadata": {
        "colab": {
          "base_uri": "https://localhost:8080/"
        },
        "id": "iaiyqqhVkvRM",
        "outputId": "eecadc03-e37d-4730-f070-19bde42e540d"
      },
      "execution_count": 203,
      "outputs": [
        {
          "output_type": "stream",
          "name": "stdout",
          "text": [
            "<class 'pandas.core.frame.DataFrame'>\n",
            "RangeIndex: 8980 entries, 0 to 8979\n",
            "Data columns (total 8 columns):\n",
            " #   Column      Non-Null Count  Dtype \n",
            "---  ------      --------------  ----- \n",
            " 0   Titre       8980 non-null   object\n",
            " 1   URL         8980 non-null   object\n",
            " 2   Image       8920 non-null   object\n",
            " 3   Date        8980 non-null   object\n",
            " 4   Etat        8292 non-null   object\n",
            " 5   Prix        8980 non-null   object\n",
            " 6   Nb_enchere  3949 non-null   object\n",
            " 7   FDP         8837 non-null   object\n",
            "dtypes: object(8)\n",
            "memory usage: 561.4+ KB\n",
            "                                                  Titre  \\\n",
            "0     Carte Pokémon Shaymin V 152/172 Pokémon Stars ...   \n",
            "1         Carte Pokemon Deoxys 16/107 Ex Deoxys Holo FR   \n",
            "2                Carte Pikachu Gold Metal Certified PCA   \n",
            "3     Carte Pokemon Tortank 2/102 Holo 25 Ans Celebr...   \n",
            "4     Carte Pokemon Ectoplasma VMAX 271/264 secrète ...   \n",
            "...                                                 ...   \n",
            "8975  1 Carte Pokemon Rare Wizard Set De Base - boos...   \n",
            "8976  Lot 8 Cartes Pokémon Set de Base Wizards FR Ed...   \n",
            "8977  LOT 6 CARTES POKEMON SET DE BASE EDITION 2 TRE...   \n",
            "8978  1 Carte Pokemon Rare Wizard Set De Base - boos...   \n",
            "8979  Carte Pokémon Raikou 79/214 SL8 Soleil & Lune ...   \n",
            "\n",
            "                                                    URL  \\\n",
            "0     https://www.ebay.fr/itm/354035207779?hash=item...   \n",
            "1     https://www.ebay.fr/itm/374049073193?hash=item...   \n",
            "2     https://www.ebay.fr/itm/265669102080?hash=item...   \n",
            "3     https://www.ebay.fr/itm/203929663824?hash=item...   \n",
            "4     https://www.ebay.fr/itm/224965821836?hash=item...   \n",
            "...                                                 ...   \n",
            "8975  https://www.ebay.fr/itm/384840275725?hash=item...   \n",
            "8976  https://www.ebay.fr/itm/115342999765?hash=item...   \n",
            "8977  https://www.ebay.fr/itm/165433444032?hash=item...   \n",
            "8978  https://www.ebay.fr/itm/384840271207?hash=item...   \n",
            "8979  https://www.ebay.fr/itm/325150839017?hash=item...   \n",
            "\n",
            "                                                  Image  \\\n",
            "0     https://i.ebayimg.com/thumbs/images/g/S-kAAOSw...   \n",
            "1     https://i.ebayimg.com/thumbs/images/g/KqAAAOSw...   \n",
            "2     https://i.ebayimg.com/thumbs/images/g/zwEAAOSw...   \n",
            "3     https://i.ebayimg.com/thumbs/images/g/dFgAAOSw...   \n",
            "4     https://i.ebayimg.com/thumbs/images/g/enMAAOSw...   \n",
            "...                                                 ...   \n",
            "8975  https://i.ebayimg.com/thumbs/images/g/y3QAAOSw...   \n",
            "8976  https://i.ebayimg.com/thumbs/images/g/OlQAAOSw...   \n",
            "8977  https://i.ebayimg.com/thumbs/images/g/yXcAAOSw...   \n",
            "8978  https://i.ebayimg.com/thumbs/images/g/8foAAOSw...   \n",
            "8979  https://i.ebayimg.com/thumbs/images/g/UHcAAOSw...   \n",
            "\n",
            "                                 Date        Etat        Prix   Nb_enchere  \\\n",
            "0       Vendu 6 mai 2022\\nObjet vendu        Neuf   13,00 EUR  11 enchères   \n",
            "1       Vendu 6 mai 2022\\nObjet vendu  D'occasion    4,10 EUR   6 enchères   \n",
            "2       Vendu 6 mai 2022\\nObjet vendu         NaN   86,00 EUR  13 enchères   \n",
            "3       Vendu 6 mai 2022\\nObjet vendu        Neuf   10,00 EUR    1 enchère   \n",
            "4       Vendu 6 mai 2022\\nObjet vendu        Neuf  135,00 EUR          NaN   \n",
            "...                               ...         ...         ...          ...   \n",
            "8975  Vendu 24 avr. 2022\\nObjet vendu  D'occasion    8,50 EUR   9 enchères   \n",
            "8976  Vendu 24 avr. 2022\\nObjet vendu  D'occasion   30,00 EUR  29 enchères   \n",
            "8977  Vendu 24 avr. 2022\\nObjet vendu  D'occasion   20,00 EUR   8 enchères   \n",
            "8978  Vendu 24 avr. 2022\\nObjet vendu  D'occasion    1,00 EUR    1 enchère   \n",
            "8979  Vendu 24 avr. 2022\\nObjet vendu        Neuf    1,69 EUR    1 enchère   \n",
            "\n",
            "                        FDP  \n",
            "0     +2,00 EUR (livraison)  \n",
            "1     +1,74 EUR (livraison)  \n",
            "2     +8,90 EUR (livraison)  \n",
            "3        Livraison gratuite  \n",
            "4        Livraison gratuite  \n",
            "...                     ...  \n",
            "8975  +2,49 EUR (livraison)  \n",
            "8976  +3,00 EUR (livraison)  \n",
            "8977  +3,10 EUR (livraison)  \n",
            "8978  +2,49 EUR (livraison)  \n",
            "8979  +1,70 EUR (livraison)  \n",
            "\n",
            "[8980 rows x 8 columns]\n"
          ]
        }
      ]
    },
    {
      "cell_type": "markdown",
      "source": [
        "# **Changer intitulé de la colonne Date**"
      ],
      "metadata": {
        "id": "iNL-PoHborXk"
      }
    },
    {
      "cell_type": "code",
      "source": [
        "# Affichage du DF Date, que l'on va nettoyer pour son analyse.\n",
        "\n",
        "print(DF[\"Date\"])"
      ],
      "metadata": {
        "colab": {
          "base_uri": "https://localhost:8080/"
        },
        "id": "nQ-h7BLyXzfD",
        "outputId": "84436cc1-1b52-4b9d-e8c1-7049cd68ddb2"
      },
      "execution_count": 204,
      "outputs": [
        {
          "output_type": "stream",
          "name": "stdout",
          "text": [
            "0         Vendu 6 mai 2022\\nObjet vendu\n",
            "1         Vendu 6 mai 2022\\nObjet vendu\n",
            "2         Vendu 6 mai 2022\\nObjet vendu\n",
            "3         Vendu 6 mai 2022\\nObjet vendu\n",
            "4         Vendu 6 mai 2022\\nObjet vendu\n",
            "                     ...               \n",
            "8975    Vendu 24 avr. 2022\\nObjet vendu\n",
            "8976    Vendu 24 avr. 2022\\nObjet vendu\n",
            "8977    Vendu 24 avr. 2022\\nObjet vendu\n",
            "8978    Vendu 24 avr. 2022\\nObjet vendu\n",
            "8979    Vendu 24 avr. 2022\\nObjet vendu\n",
            "Name: Date, Length: 8980, dtype: object\n"
          ]
        }
      ]
    },
    {
      "cell_type": "code",
      "source": [
        "# Nous utilisons une fonction pour transformer la colonne date de \"Object\" à \"datetime\"\n",
        "def filtre_Date(x) :\n",
        "#Si l'insight est different d'une string, on garde le texte.\n",
        "  if type(x) != str :\n",
        "        return (x)\n",
        "#Sinon, on garde le texte compris entre 6 et 12 (la date) et on le remplace par les mois de la période de manière à ce qu'ils puissent être interprétés correctement.\n",
        "  else :\n",
        "      txt = x[6:-12] \n",
        "      txt = txt.replace(\"avr.\",\"04\")\n",
        "      txt = txt.replace(\"mai\",\"05\")\n",
        "      try:\n",
        "#Et on retourne le résultat sous format date.\n",
        "        return (pd.to_datetime(txt, format=\"%d %m %Y\"))\n",
        "#Si l'on rencontre une exception, on renvoit uniquement le texte qui nous intéresse et on le convertit en format datetime.\n",
        "      except:\n",
        "        txt = x[5:-10]\n",
        "        txt = txt.replace(\"Apr\",\"04\")\n",
        "        txt = txt.replace(\"May\",\"05\")\n",
        "        try:\n",
        "          return (pd.to_datetime(txt, format=\"%m %d, %Y\"))\n",
        "        except:\n",
        "          print(txt)\n",
        "\n",
        "#Enfin, on change l'ancienne colonne avec la nouvelle au format datetime.\n",
        "DF['Date_clean'] = DF['Date'].map(filtre_Date)\n",
        "\n",
        "# print(DF['Date_clean'])\n",
        "\n",
        "DF['Date_clean'] = pd.to_datetime(DF['Date_clean'], format=\"%d %m %Y\")\n",
        "\n",
        "print(DF['Date_clean'])\n",
        "\n",
        "# DF.info()\n",
        "\n",
        "# print(len(\"\\nObjet vendu\"))"
      ],
      "metadata": {
        "colab": {
          "base_uri": "https://localhost:8080/"
        },
        "id": "Vra6dG72ovWP",
        "outputId": "2c0a64b9-9326-40bf-f9fb-0e174f43fec9"
      },
      "execution_count": 205,
      "outputs": [
        {
          "output_type": "stream",
          "name": "stdout",
          "text": [
            "0      2022-05-06\n",
            "1      2022-05-06\n",
            "2      2022-05-06\n",
            "3      2022-05-06\n",
            "4      2022-05-06\n",
            "          ...    \n",
            "8975   2022-04-24\n",
            "8976   2022-04-24\n",
            "8977   2022-04-24\n",
            "8978   2022-04-24\n",
            "8979   2022-04-24\n",
            "Name: Date_clean, Length: 8980, dtype: datetime64[ns]\n"
          ]
        }
      ]
    },
    {
      "cell_type": "markdown",
      "source": [
        "# **Changer intitulé de la colonne Prix**\n"
      ],
      "metadata": {
        "id": "R3Oz6FcT_bTd"
      }
    },
    {
      "cell_type": "code",
      "source": [
        "# Affichage du DF Prix, que l'on va nettoyer, pour son analyse.\n",
        "\n",
        "print(DF[\"Prix\"])"
      ],
      "metadata": {
        "colab": {
          "base_uri": "https://localhost:8080/"
        },
        "id": "wYXyRZI9Xpuj",
        "outputId": "afde14a1-3530-4916-bae0-84b9d5f58de6"
      },
      "execution_count": 206,
      "outputs": [
        {
          "output_type": "stream",
          "name": "stdout",
          "text": [
            "0        13,00 EUR\n",
            "1         4,10 EUR\n",
            "2        86,00 EUR\n",
            "3        10,00 EUR\n",
            "4       135,00 EUR\n",
            "           ...    \n",
            "8975      8,50 EUR\n",
            "8976     30,00 EUR\n",
            "8977     20,00 EUR\n",
            "8978      1,00 EUR\n",
            "8979      1,69 EUR\n",
            "Name: Prix, Length: 8980, dtype: object\n"
          ]
        }
      ]
    },
    {
      "cell_type": "code",
      "source": [
        "#On va creer une fonction prix pour convertir la colonne des prix en float (nombre à virgule), afin de pouvoir faire des calculs et de la data viz.\n",
        "def filtre_Prix(x) :\n",
        "#Si l'insight est different d'une string, on garde le texte.\n",
        "  if type(x) != str :\n",
        "        return (x)\n",
        "#Si la longueur du texte est supérieure à 8 caractères, on garde une seule partie du texte.\n",
        "  else :\n",
        "    if len(x) > 8 :\n",
        "      txt = x[0:-5]\n",
        "#Sinon, on garde une autre partie du texte.\n",
        "    else :\n",
        "      txt = x[0:-5]\n",
        "#Ici on separe le texte avec une virgule et on la transforme en point.\n",
        "    txt = txt.split(\",\")\n",
        "    txt = \".\".join(txt)\n",
        "    try:\n",
        "      return (float(txt))\n",
        "    except:\n",
        "      print(x)\n",
        "\n",
        "#Et on remplace la colonne tranformée par l'ancienne.\n",
        "\n",
        "DF['Prix_clean'] = DF['Prix'].map(filtre_Prix)\n",
        "\n",
        "print(DF['Prix_clean'])\n",
        "\n",
        "# DF.info()\n",
        "\n",
        "# print(len(\"+ Frais de livraison estimÃ©s (\"))"
      ],
      "metadata": {
        "colab": {
          "base_uri": "https://localhost:8080/"
        },
        "id": "rHZzht5kDHVc",
        "outputId": "3fbe1d9f-acc1-42a9-f204-d3fedce61c7e"
      },
      "execution_count": 207,
      "outputs": [
        {
          "output_type": "stream",
          "name": "stdout",
          "text": [
            "1 499,00 EUR\n",
            "1 800,00 EUR\n",
            "1 300,00 EUR\n",
            "1 100,00 EUR\n",
            "1 100,00 EUR\n",
            "1 121,00 EUR\n",
            "3 009,00 EUR\n",
            "1 400,00 EUR\n",
            "1 017,00 EUR\n",
            "0        13.0\n",
            "1         4.1\n",
            "2        86.0\n",
            "3        10.0\n",
            "4       135.0\n",
            "        ...  \n",
            "8975      8.5\n",
            "8976     30.0\n",
            "8977     20.0\n",
            "8978      1.0\n",
            "8979      1.6\n",
            "Name: Prix_clean, Length: 8980, dtype: float64\n"
          ]
        }
      ]
    },
    {
      "cell_type": "markdown",
      "source": [
        "# **Changer intitulé de la colonne Nb d'enchere**\n",
        "\n",
        "\n",
        "\n"
      ],
      "metadata": {
        "id": "TcpN1iXQ_cjY"
      }
    },
    {
      "cell_type": "code",
      "source": [
        "# Affichage du DF Nb_enchere, que l'on va nettoyer, pour son analyse.\n",
        "\n",
        "\n",
        "print(DF[\"Nb_enchere\"])"
      ],
      "metadata": {
        "colab": {
          "base_uri": "https://localhost:8080/"
        },
        "id": "-uhhpvBFXcuz",
        "outputId": "d68bdff4-e523-4c4f-c35c-85077e71591e"
      },
      "execution_count": 208,
      "outputs": [
        {
          "output_type": "stream",
          "name": "stdout",
          "text": [
            "0       11 enchères\n",
            "1        6 enchères\n",
            "2       13 enchères\n",
            "3         1 enchère\n",
            "4               NaN\n",
            "           ...     \n",
            "8975     9 enchères\n",
            "8976    29 enchères\n",
            "8977     8 enchères\n",
            "8978      1 enchère\n",
            "8979      1 enchère\n",
            "Name: Nb_enchere, Length: 8980, dtype: object\n"
          ]
        }
      ]
    },
    {
      "cell_type": "code",
      "source": [
        "#On creer une fonction pour pouvoir garder uniquement le nombre d'encheres.\n",
        "def filtre_Enchere(x) :\n",
        "  if type(x) != str :\n",
        "        return (x)\n",
        "#On isole le texte qui nous interesse, soit le nombre d encheres.\n",
        "  else :\n",
        "      txt = x[:-9]\n",
        "      try :\n",
        "        return (int(txt))\n",
        "#Si on rencontre une exception, comme NaN ou vide, on renvoit 0.\n",
        "      except :\n",
        "        if x == \"NaN\" or x == \"\" :\n",
        "          return (0)\n",
        "          return(float)\n",
        "\n",
        "#On remplace la colonne tranformée par l'ancienne.\n",
        "\n",
        "DF['Enchere_clean'] = DF['Nb_enchere'].map(filtre_Enchere)\n",
        "\n",
        "print(DF['Enchere_clean'])\n",
        "\n",
        "# DF.info()"
      ],
      "metadata": {
        "id": "ssGxo7D9DOAz",
        "colab": {
          "base_uri": "https://localhost:8080/"
        },
        "outputId": "eea9f8c1-e88b-4c5c-b3a1-4f18404e3af6"
      },
      "execution_count": 209,
      "outputs": [
        {
          "output_type": "stream",
          "name": "stdout",
          "text": [
            "0       11.0\n",
            "1        6.0\n",
            "2       13.0\n",
            "3        NaN\n",
            "4        NaN\n",
            "        ... \n",
            "8975     9.0\n",
            "8976    29.0\n",
            "8977     8.0\n",
            "8978     NaN\n",
            "8979     NaN\n",
            "Name: Enchere_clean, Length: 8980, dtype: float64\n"
          ]
        }
      ]
    },
    {
      "cell_type": "markdown",
      "source": [
        "# **Changer intitulé de la colonne FDP**"
      ],
      "metadata": {
        "id": "WmZO09Ba_d4A"
      }
    },
    {
      "cell_type": "code",
      "source": [
        "# Affichage du DF Frais Pe Port, que l'on va nettoyer, pour son analyse.\n",
        "\n",
        "\n",
        "print(DF[\"FDP\"])"
      ],
      "metadata": {
        "colab": {
          "base_uri": "https://localhost:8080/"
        },
        "id": "FttF1LBqLKDn",
        "outputId": "75aee411-cd36-4cc4-c389-05ac7106e7df"
      },
      "execution_count": 210,
      "outputs": [
        {
          "output_type": "stream",
          "name": "stdout",
          "text": [
            "0       +2,00 EUR (livraison)\n",
            "1       +1,74 EUR (livraison)\n",
            "2       +8,90 EUR (livraison)\n",
            "3          Livraison gratuite\n",
            "4          Livraison gratuite\n",
            "                ...          \n",
            "8975    +2,49 EUR (livraison)\n",
            "8976    +3,00 EUR (livraison)\n",
            "8977    +3,10 EUR (livraison)\n",
            "8978    +2,49 EUR (livraison)\n",
            "8979    +1,70 EUR (livraison)\n",
            "Name: FDP, Length: 8980, dtype: object\n"
          ]
        }
      ]
    },
    {
      "cell_type": "code",
      "source": [
        "# On va creer une fonction pour isoler les frais de port et garder uniquement les valeurs numériques.\n",
        "def filtre_FDP(x) :\n",
        "# Si les valeurs de la colonne sont les textes ci dessous, on renvoit 0.\n",
        "  if x == \"Livraison gratuite\" or x == \"Free shipping\" :\n",
        "    return (0)\n",
        "# Sinon, on renvoit le texte et on se focalise sur les valeurs qui nous intéresse.\n",
        "  else :\n",
        "    if type(x) != str :\n",
        "      return (x)\n",
        "#Si la longueur de la ligne est différente de 41, on garde leS CARACTERES entre 1 et 5.\n",
        "    else :\n",
        "      if len(x) != 41:\n",
        "        txt = (x[1:5])\n",
        "#Sinon, si le texte de la ligne est plus long, on se focalise sur les caracteres importants.\n",
        "      else :\n",
        "        txt = x[31:-5]\n",
        "#On sépare ensuite les valeurs numériques isolées par des virgules et on remplace ensuite ces virgules par des points.\n",
        "      txt = txt.split(\",\")\n",
        "      txt = \".\".join(txt)\n",
        "      try :\n",
        "        return (float(txt))\n",
        "#Si on a une exception retournée, on remplace le texte par \"0\", puis on transforme le tout en float.\n",
        "      except :\n",
        "        if x == \"Fra\":\n",
        "          return (0)\n",
        "          return(float)\n",
        "\n",
        "DF['FDP_clean'] = DF['FDP'].map(filtre_FDP)\n",
        "\n",
        "print(DF['FDP_clean'])\n",
        "\n",
        "# DF.info()\n",
        "\n",
        "# print(len(\"+ Frais de livraison estimÃ©s (\"))"
      ],
      "metadata": {
        "colab": {
          "base_uri": "https://localhost:8080/"
        },
        "id": "322fvxSEFx9x",
        "outputId": "43006632-6ff3-47bc-da97-58c6a83508c4"
      },
      "execution_count": 211,
      "outputs": [
        {
          "output_type": "stream",
          "name": "stdout",
          "text": [
            "0       2.00\n",
            "1       1.74\n",
            "2       8.90\n",
            "3       0.00\n",
            "4       0.00\n",
            "        ... \n",
            "8975    2.49\n",
            "8976    3.00\n",
            "8977    3.10\n",
            "8978    2.49\n",
            "8979    1.70\n",
            "Name: FDP_clean, Length: 8980, dtype: float64\n"
          ]
        }
      ]
    },
    {
      "cell_type": "markdown",
      "source": [
        "# **Supression des colonnes qui ne nous intéresse pas**"
      ],
      "metadata": {
        "id": "_9b_u4PpsESX"
      }
    },
    {
      "cell_type": "code",
      "source": [
        "#On retire les anciennes colonnes prix, date, FDP et nb encheres\n",
        "\n",
        "DF.drop([\"Prix\", \"Date\", \"Nb_enchere\", \"FDP\"], axis = 1, inplace = True)\n",
        "\n",
        "DF.info()"
      ],
      "metadata": {
        "colab": {
          "base_uri": "https://localhost:8080/"
        },
        "id": "7F8JtgbYsL1l",
        "outputId": "9cd33ea4-cdce-42ba-e4fd-79e85c2a5b0a"
      },
      "execution_count": 212,
      "outputs": [
        {
          "output_type": "stream",
          "name": "stdout",
          "text": [
            "<class 'pandas.core.frame.DataFrame'>\n",
            "RangeIndex: 8980 entries, 0 to 8979\n",
            "Data columns (total 8 columns):\n",
            " #   Column         Non-Null Count  Dtype         \n",
            "---  ------         --------------  -----         \n",
            " 0   Titre          8980 non-null   object        \n",
            " 1   URL            8980 non-null   object        \n",
            " 2   Image          8920 non-null   object        \n",
            " 3   Etat           8292 non-null   object        \n",
            " 4   Date_clean     8980 non-null   datetime64[ns]\n",
            " 5   Prix_clean     8971 non-null   float64       \n",
            " 6   Enchere_clean  2147 non-null   float64       \n",
            " 7   FDP_clean      8802 non-null   float64       \n",
            "dtypes: datetime64[ns](1), float64(3), object(4)\n",
            "memory usage: 561.4+ KB\n"
          ]
        }
      ]
    },
    {
      "cell_type": "markdown",
      "source": [
        "# **Data Visualisation**"
      ],
      "metadata": {
        "id": "whpsnhGhtLSF"
      }
    },
    {
      "cell_type": "markdown",
      "source": [
        "# Datavisualisation\n",
        "\n",
        "1.   Segmentation par catégorie de prix des cartes.\n",
        "2.   Coût moyen de frais de port moyen par vente.\n",
        "3.   Ventes Max, moyenne  et somme des ventes quotidiennes\n",
        "  \n",
        "\n",
        "\n",
        "\n",
        "\n"
      ],
      "metadata": {
        "id": "SPAPLIDHtW04"
      }
    },
    {
      "cell_type": "markdown",
      "source": [
        "# **Segmentation par prix de carte**\n"
      ],
      "metadata": {
        "id": "2cvhnpC5B0KW"
      }
    },
    {
      "cell_type": "code",
      "source": [
        "# On va afficher le detail de la colonne Prix du DF pour comprendre comment optimiser la segmentation des prix et avoir une Data Viz intéressante.\n",
        "\n",
        "DF['Prix_clean'].describe()"
      ],
      "metadata": {
        "colab": {
          "base_uri": "https://localhost:8080/"
        },
        "id": "miG6wvJkDRDL",
        "outputId": "de006acc-31b7-406e-8165-dd7fb5894b0e"
      },
      "execution_count": 213,
      "outputs": [
        {
          "output_type": "execute_result",
          "data": {
            "text/plain": [
              "count    8971.000000\n",
              "mean       21.121124\n",
              "std        51.697918\n",
              "min         0.000000\n",
              "25%         2.500000\n",
              "50%         6.900000\n",
              "75%        17.900000\n",
              "max       999.000000\n",
              "Name: Prix_clean, dtype: float64"
            ]
          },
          "metadata": {},
          "execution_count": 213
        }
      ]
    },
    {
      "cell_type": "code",
      "source": [
        "#Segmentation par prix\n",
        "\n",
        "#Nous allons creer une fonction qui va recuperer et compter les prix vendus entre des intervalles définis ci-dessous :\n",
        "\n",
        "def score_PRICE(PRICE):\n",
        "  if PRICE <= 2:\n",
        "    return 0\n",
        "  if PRICE > 2 and PRICE <= 5:\n",
        "    return 1\n",
        "  if PRICE > 5 and PRICE <= 10:\n",
        "    return 2\n",
        "  if PRICE > 10 and PRICE <= 15:\n",
        "    return 3\n",
        "  if PRICE > 15 and PRICE <= 25:\n",
        "    return 4\n",
        "  else:\n",
        "    return 5\n",
        "\n",
        "# Selon l'intervalle dans lequel le prix est compris, nous allons retourner des valeurs entre 0 et 5 que nous allons stocker une colonne 'DF_Price'\n",
        "\n",
        "DF['scoring_PRICE'] = DF.apply(lambda row : score_PRICE(row['Prix_clean']), axis='columns')\n",
        "\n",
        "#On créer ensuite un histogramme pour visualiser les volumes présents dans chaque catégorie de prix.\n",
        "\n",
        "V_DARK = DF.scoring_PRICE.hist(bins=5)\n",
        "\n",
        "V_DARK.layout.template = 'plotly_dark'\n",
        "\n",
        "V_DARK.update_layout(bargap=0.4)\n",
        "\n",
        "V_DARK"
      ],
      "metadata": {
        "colab": {
          "base_uri": "https://localhost:8080/",
          "height": 542
        },
        "id": "iDnuB7_1B2ey",
        "outputId": "ad90e1fb-174b-4186-d654-d781900e1e8a"
      },
      "execution_count": 214,
      "outputs": [
        {
          "output_type": "display_data",
          "data": {
            "text/html": [
              "<html>\n",
              "<head><meta charset=\"utf-8\" /></head>\n",
              "<body>\n",
              "    <div>            <script src=\"https://cdnjs.cloudflare.com/ajax/libs/mathjax/2.7.5/MathJax.js?config=TeX-AMS-MML_SVG\"></script><script type=\"text/javascript\">if (window.MathJax) {MathJax.Hub.Config({SVG: {font: \"STIX-Web\"}});}</script>                <script type=\"text/javascript\">window.PlotlyConfig = {MathJaxConfig: 'local'};</script>\n",
              "        <script src=\"https://cdn.plot.ly/plotly-2.8.3.min.js\"></script>                <div id=\"8d25a18c-5ce0-4c01-b3ca-2e64f79eee9a\" class=\"plotly-graph-div\" style=\"height:525px; width:100%;\"></div>            <script type=\"text/javascript\">                                    window.PLOTLYENV=window.PLOTLYENV || {};                                    if (document.getElementById(\"8d25a18c-5ce0-4c01-b3ca-2e64f79eee9a\")) {                    Plotly.newPlot(                        \"8d25a18c-5ce0-4c01-b3ca-2e64f79eee9a\",                        [{\"alignmentgroup\":\"True\",\"bingroup\":\"x\",\"hovertemplate\":\"variable=scoring_PRICE<br>value=%{x}<br>count=%{y}<extra></extra>\",\"legendgroup\":\"scoring_PRICE\",\"marker\":{\"color\":\"#636efa\",\"pattern\":{\"shape\":\"\"}},\"name\":\"scoring_PRICE\",\"offsetgroup\":\"scoring_PRICE\",\"orientation\":\"v\",\"showlegend\":true,\"x\":[3,1,5,2,5,4,3,1,2,2,5,4,2,4,4,1,3,2,4,2,3,2,1,2,3,1,3,5,1,5,5,5,5,2,0,1,3,5,1,2,2,2,2,2,2,2,4,3,4,2,3,3,1,5,5,5,2,2,1,1,1,0,2,5,3,3,2,1,1,1,2,1,1,2,1,0,1,5,4,2,1,5,5,5,5,5,5,4,4,2,1,3,1,1,5,5,5,5,2,1,0,1,2,5,1,4,3,1,0,3,5,0,0,0,2,0,0,1,1,4,5,4,5,3,2,4,5,3,1,2,1,2,2,3,0,0,2,5,3,1,2,3,1,2,4,4,1,0,0,5,3,0,0,2,0,0,4,1,0,0,0,1,0,0,3,0,0,0,0,0,0,1,0,0,5,1,1,1,1,1,1,1,1,1,1,0,1,1,0,2,2,0,1,1,1,2,3,1,5,0,0,1,0,1,1,0,1,1,0,0,1,5,3,4,5,0,1,1,0,5,3,3,5,1,1,1,1,1,1,3,4,3,2,3,3,5,5,5,1,0,1,2,0,0,1,5,2,3,5,1,1,1,1,1,5,4,5,1,0,0,1,0,0,0,0,0,2,4,1,2,5,2,2,2,1,1,2,1,1,1,1,1,1,1,1,1,1,0,1,0,1,5,1,1,5,2,4,5,3,3,2,1,5,5,5,5,2,5,4,3,0,2,4,2,5,0,1,1,5,5,3,3,2,2,5,2,2,5,3,0,2,5,2,5,5,5,1,1,1,1,1,1,1,2,1,4,5,5,3,1,5,1,1,5,5,1,4,2,2,0,1,0,4,1,2,1,2,1,5,1,1,1,2,1,5,1,1,1,1,1,1,5,2,0,4,2,2,0,4,2,0,0,5,1,1,2,2,0,0,0,1,0,0,0,0,5,1,2,3,5,5,2,5,1,0,1,3,3,5,2,0,5,0,0,0,4,4,0,0,0,0,0,0,0,0,0,0,1,2,1,3,2,3,4,4,0,2,1,0,5,5,3,1,0,2,4,1,4,1,4,3,5,0,0,0,1,1,0,5,2,2,4,5,5,5,5,4,3,2,1,2,4,4,1,2,4,2,1,2,5,1,1,1,1,2,1,0,0,0,1,1,2,3,0,1,1,1,1,3,5,5,0,0,1,1,1,1,5,4,2,3,3,2,3,2,1,4,1,0,0,2,4,1,0,0,5,1,2,0,4,3,2,4,2,5,2,1,5,1,5,1,1,4,5,5,0,0,0,1,3,5,5,3,5,3,1,2,5,1,1,1,0,0,1,5,1,1,3,0,5,0,5,1,0,0,1,1,0,0,2,3,1,0,2,0,3,2,3,1,2,3,2,4,1,1,0,2,4,0,0,0,0,0,2,2,0,2,0,0,0,4,0,0,0,1,5,1,1,1,1,1,1,1,1,3,0,1,3,3,3,0,2,5,5,5,4,5,3,5,0,3,1,2,0,1,1,1,1,1,1,1,2,3,1,5,1,2,2,5,1,3,3,4,3,5,4,4,4,4,2,1,0,5,0,0,5,2,2,2,2,1,1,5,5,3,3,0,4,2,2,2,2,1,1,1,2,2,1,1,1,1,1,1,1,2,2,1,1,1,1,1,1,1,1,2,2,2,3,1,4,1,5,1,5,5,2,5,3,5,4,5,5,5,1,0,1,2,0,2,2,0,5,0,1,2,0,2,4,4,4,5,4,5,4,5,5,4,2,1,2,1,4,3,2,5,1,5,3,4,5,2,4,0,5,3,1,2,1,2,2,0,4,3,3,4,2,1,4,1,0,2,5,1,1,3,0,2,2,0,2,2,5,2,5,2,2,3,1,5,4,5,2,2,4,1,3,1,2,1,5,1,3,3,0,4,5,1,5,5,2,5,5,1,1,0,5,1,2,2,3,2,2,2,2,1,5,3,3,2,1,2,3,4,2,2,1,5,3,3,2,1,2,3,4,2,1,2,1,2,2,5,2,5,0,2,1,0,2,0,0,0,1,3,3,4,1,1,1,1,0,0,1,4,0,2,3,1,0,0,0,1,4,0,1,0,4,0,0,0,0,0,0,0,0,2,0,0,0,3,1,2,1,4,0,0,0,0,0,0,0,0,0,0,0,0,0,0,0,0,0,0,0,0,5,4,0,1,1,1,1,1,1,0,1,1,1,2,1,5,5,5,1,1,0,5,0,1,2,2,1,5,4,4,3,1,5,0,1,5,4,2,2,1,0,5,0,5,5,5,1,3,1,2,1,3,2,2,2,2,5,1,3,3,0,5,1,0,1,5,2,4,5,5,5,5,1,0,1,0,1,0,2,1,1,0,1,0,0,1,1,0,5,5,3,2,5,2,5,5,5,3,5,5,1,2,5,5,5,1,2,4,1,4,5,2,0,5,0,1,1,1,5,5,0,1,3,5,0,0,0,0,4,0,0,0,2,0,0,0,0,1,1,0,3,0,3,3,2,2,4,0,0,4,3,5,1,2,5,3,1,2,1,2,0,4,4,5,4,5,5,0,0,0,0,0,0,5,2,5,2,2,1,1,1,1,0,1,5,1,1,2,3,5,5,3,0,0,0,0,2,2,1,2,2,2,2,2,1,0,4,3,1,0,0,0,0,0,0,0,1,1,1,0,2,0,1,1,1,1,1,4,3,5,1,2,5,5,1,4,1,5,5,5,2,5,5,5,3,2,5,2,5,1,0,5,5,3,1,3,0,2,0,4,4,2,2,0,0,1,1,1,1,1,0,2,5,5,1,5,5,5,4,3,0,1,1,5,0,5,2,5,1,5,5,5,5,5,1,4,4,5,4,2,2,2,3,3,1,4,5,1,4,5,1,4,4,5,4,5,1,0,2,1,4,4,2,2,5,1,4,2,2,1,3,5,5,1,4,3,5,5,5,1,2,4,1,1,0,5,1,2,1,0,0,2,2,5,5,1,2,5,5,2,0,0,1,1,0,0,5,0,0,0,0,0,0,0,1,0,0,0,0,1,1,1,0,4,2,0,3,0,5,5,0,0,0,0,0,2,0,3,5,0,4,2,5,5,0,0,5,2,2,5,0,0,0,2,0,0,2,5,0,0,2,5,0,5,3,0,5,1,1,2,2,2,1,5,5,0,5,3,0,0,0,0,0,0,0,0,0,0,0,0,3,0,0,0,0,0,0,4,0,0,0,0,0,0,0,4,4,5,1,4,3,3,0,4,3,5,2,4,1,5,1,3,3,1,1,5,5,1,4,1,0,4,5,5,5,5,0,1,0,3,3,1,2,0,0,2,1,2,0,5,0,3,2,2,0,1,4,1,3,2,5,1,2,1,1,4,1,4,5,3,1,2,5,5,1,1,2,0,5,5,5,0,5,2,2,2,1,3,0,3,0,0,0,0,0,0,0,0,0,0,0,4,5,2,3,2,2,5,2,2,5,2,2,1,0,1,0,1,3,3,0,1,2,2,5,3,0,0,1,0,0,5,1,3,5,2,4,4,4,5,5,4,1,2,0,1,0,2,0,1,0,0,0,1,1,1,1,1,1,1,1,1,1,0,0,0,1,1,2,5,2,1,1,0,1,2,3,0,5,2,0,4,4,0,5,3,0,5,1,0,1,0,3,0,1,0,2,0,0,0,0,0,0,2,2,2,0,0,0,0,0,0,1,3,1,0,0,4,0,0,1,1,0,1,0,0,1,5,5,0,0,0,0,3,0,0,0,2,4,2,5,0,3,3,2,0,5,4,4,5,5,5,2,3,1,4,5,2,2,2,2,4,0,0,0,0,0,0,0,0,1,0,0,0,0,0,0,0,0,0,0,0,5,1,4,0,0,1,1,1,5,1,0,4,1,4,4,4,5,4,5,0,1,2,4,5,3,1,3,4,3,3,1,2,1,1,2,1,1,1,1,1,1,1,1,1,0,0,0,4,1,1,1,1,3,1,0,1,1,0,4,0,3,2,3,2,4,5,2,2,4,3,5,5,2,3,1,2,2,2,1,5,1,5,5,4,4,4,2,4,1,4,5,1,5,2,2,4,2,0,1,3,1,4,3,5,2,5,0,0,0,5,2,4,2,1,5,4,5,1,1,0,4,4,4,4,1,1,5,1,2,4,1,3,5,5,1,4,3,5,2,1,2,5,5,4,1,0,4,1,4,2,2,2,1,0,0,3,3,0,0,0,0,0,0,0,0,0,0,0,0,5,5,1,0,0,4,5,2,2,2,0,0,0,0,2,2,0,3,3,1,1,1,3,4,2,3,4,2,0,2,2,4,2,4,1,2,5,4,4,0,0,3,3,2,2,2,0,5,0,5,0,0,5,4,5,0,0,0,0,3,3,3,4,2,5,1,1,1,4,5,5,3,0,0,0,0,2,0,1,1,0,0,4,4,3,5,5,2,3,2,3,5,0,0,0,0,0,0,0,5,4,4,4,5,0,1,2,2,2,2,1,2,3,1,2,3,1,1,1,1,1,0,0,1,4,4,3,3,1,4,3,0,1,0,0,0,0,0,0,0,0,0,0,0,1,0,0,2,0,2,1,3,4,1,1,3,3,3,5,3,3,0,3,5,5,3,4,3,3,3,0,0,0,0,1,1,1,0,3,0,0,0,0,0,1,5,1,0,0,5,0,2,0,4,0,3,0,0,0,0,1,2,3,3,1,3,0,3,1,2,0,2,1,5,5,4,5,0,0,0,2,1,5,2,3,5,3,5,3,2,1,1,4,2,1,0,0,3,3,1,0,1,5,5,2,0,3,1,1,0,0,2,5,5,1,3,4,2,1,2,1,0,4,3,2,1,3,3,0,1,1,1,2,3,0,4,1,5,1,1,2,2,0,4,5,5,5,2,0,0,0,0,0,0,0,2,2,3,5,0,0,3,2,4,5,4,3,5,4,2,1,1,1,2,1,1,1,1,5,0,0,2,2,2,1,2,1,0,0,0,0,0,1,1,1,0,0,0,5,3,1,0,0,2,1,1,5,5,3,3,3,0,5,5,2,2,4,0,0,0,0,0,0,0,0,0,0,0,0,0,0,0,5,3,3,0,0,0,1,3,2,2,1,2,4,5,4,2,3,1,1,2,1,1,0,3,4,0,0,2,0,5,5,5,5,5,4,2,0,3,5,5,0,0,0,1,0,0,0,0,0,0,0,0,0,0,0,0,0,0,0,0,0,0,0,0,0,0,0,0,0,0,0,0,0,0,5,0,4,5,1,1,0,0,0,1,1,1,1,0,0,0,0,1,0,0,0,0,0,0,0,0,0,0,0,0,0,2,2,5,1,1,5,0,0,0,0,3,3,1,0,2,1,1,0,0,4,0,2,3,5,2,4,5,4,5,2,5,5,2,1,1,0,0,0,2,5,5,0,4,5,1,5,5,5,5,3,2,1,1,2,0,1,3,5,1,2,5,5,5,1,5,1,0,0,1,0,0,0,0,0,5,1,0,0,1,0,0,0,0,0,0,5,1,1,3,5,4,4,1,0,0,5,5,2,3,2,5,4,4,5,3,1,1,2,1,5,3,3,3,0,1,1,2,2,3,3,1,2,1,2,2,3,2,1,2,0,1,1,0,2,2,4,5,2,1,5,2,1,1,0,2,1,3,3,3,4,5,1,1,4,2,2,1,5,2,3,5,1,4,5,2,0,1,1,2,4,2,0,5,2,1,0,2,2,5,3,1,0,0,0,0,0,3,0,1,1,5,1,5,0,0,5,0,5,5,3,1,3,1,2,1,1,2,1,1,1,0,1,2,2,1,5,3,5,5,5,1,1,5,2,1,5,1,1,3,1,1,4,0,3,3,0,1,1,5,1,4,5,2,5,4,2,3,2,4,2,2,1,4,4,3,4,1,3,2,3,5,2,3,1,4,1,5,2,0,3,1,3,5,1,1,4,0,0,0,0,4,4,3,0,0,0,0,5,2,2,2,3,3,4,1,5,4,5,0,1,4,1,4,1,1,1,2,0,4,5,3,3,0,1,5,3,2,0,2,4,5,5,5,1,0,1,1,3,3,1,0,0,0,1,0,4,5,1,5,5,3,0,4,1,5,5,4,2,0,5,3,4,2,5,1,1,5,5,4,3,5,0,2,0,4,2,2,4,0,3,0,2,0,0,0,0,0,0,1,0,0,0,0,0,0,0,3,1,1,0,4,1,0,3,2,4,1,4,3,5,3,2,3,0,1,1,1,1,2,3,3,4,0,5,3,1,0,5,1,4,4,0,5,1,1,3,1,3,3,5,4,2,5,1,0,3,5,4,5,5,1,4,0,4,4,1,2,2,2,4,4,4,5,3,4,4,2,4,1,5,3,5,5,0,0,3,0,0,2,0,0,0,0,2,2,5,0,1,2,0,0,1,0,3,1,5,2,1,2,5,2,1,5,1,1,3,5,1,1,5,5,5,1,5,5,4,5,1,2,1,5,2,3,5,1,4,2,2,1,1,1,2,5,1,4,5,1,2,2,5,0,0,2,2,5,4,1,1,5,5,5,0,5,5,0,0,0,4,0,2,1,0,5,1,5,4,4,1,2,0,3,1,0,2,5,3,5,2,2,2,0,2,2,5,2,3,1,0,1,1,0,1,0,0,0,4,5,3,4,4,1,3,2,1,1,5,3,5,4,1,1,4,1,5,5,3,5,1,5,1,1,0,0,1,0,0,0,4,0,0,0,0,2,5,5,4,0,1,0,0,1,1,5,5,5,5,1,2,2,5,3,2,2,1,0,4,0,5,4,0,4,3,5,4,5,5,2,0,2,1,1,4,0,0,4,3,1,2,4,4,5,3,1,5,2,5,3,2,0,5,5,5,0,2,0,4,5,5,3,4,4,5,0,5,3,2,1,5,1,4,0,3,3,2,2,5,5,3,1,5,2,0,0,0,2,0,1,0,2,0,3,2,2,5,5,0,4,2,5,3,2,1,5,1,5,3,2,1,0,2,3,1,0,1,0,0,0,0,0,0,0,0,0,0,0,0,3,2,3,0,1,0,1,0,0,0,0,0,0,0,0,0,0,1,5,1,1,5,2,1,2,2,3,3,1,5,2,5,5,5,5,5,5,5,5,2,1,2,0,3,2,1,2,3,1,5,1,5,2,4,0,3,2,1,1,1,2,1,3,0,3,0,2,2,1,0,0,2,0,2,2,1,2,0,4,2,0,2,5,3,3,1,2,5,5,1,1,2,1,1,2,4,2,2,2,4,0,4,5,2,5,4,2,4,1,2,2,4,1,5,5,1,3,4,4,1,5,2,5,2,1,0,5,5,1,5,2,3,4,5,1,1,3,1,2,1,1,2,1,1,1,1,2,5,0,4,5,1,3,2,0,2,5,0,5,0,2,2,2,2,3,5,5,2,0,3,2,3,5,5,3,0,5,4,5,5,5,5,5,1,5,5,3,0,0,1,0,0,4,2,4,2,1,3,1,5,0,0,0,0,0,0,2,5,4,1,5,5,3,1,1,0,1,1,5,2,1,2,5,5,0,0,1,2,1,0,5,0,1,4,3,2,1,0,1,4,2,2,2,1,0,0,1,5,1,2,2,1,1,2,1,0,1,2,5,0,0,5,2,1,2,0,0,0,1,3,1,5,0,0,2,0,0,2,4,4,2,3,0,4,5,1,0,5,4,1,4,0,3,5,3,4,5,3,5,5,5,5,4,1,4,5,4,4,0,5,5,2,2,5,2,1,4,1,0,0,3,5,0,3,2,1,1,1,5,1,1,3,1,0,4,1,1,4,4,5,3,5,4,5,5,5,5,1,2,1,2,4,5,2,2,5,3,3,2,1,5,0,2,3,0,1,1,3,4,4,2,3,0,0,1,4,1,2,2,4,2,1,2,5,4,4,1,4,5,0,0,1,0,0,2,0,2,1,4,4,5,3,0,2,0,0,5,0,0,0,0,0,0,1,0,1,0,0,0,0,0,0,0,0,1,0,0,0,0,0,0,1,1,0,0,1,1,1,0,0,0,0,1,0,1,0,2,1,2,2,1,2,0,3,1,5,3,5,0,0,0,0,1,2,2,1,1,2,4,1,1,4,2,5,1,2,5,2,3,5,1,4,5,5,5,5,1,5,2,2,0,5,3,5,3,3,0,1,2,1,2,2,5,5,2,4,4,5,5,3,1,3,1,4,5,3,1,1,3,4,5,1,5,1,1,2,0,0,4,3,2,1,1,5,5,1,1,2,3,3,1,3,3,3,3,4,5,3,1,1,0,1,0,2,1,1,3,4,5,5,4,3,1,4,0,0,2,0,5,4,2,5,2,5,0,5,3,1,0,0,2,2,4,1,3,3,1,2,2,3,0,3,1,5,5,4,2,4,4,5,4,5,4,0,5,1,4,5,5,5,5,2,4,1,5,5,5,4,5,5,5,5,4,5,0,0,1,1,4,0,0,2,0,0,1,0,1,0,0,0,3,3,5,4,5,5,5,5,2,5,2,5,1,5,5,3,5,5,5,4,5,5,5,5,5,2,2,5,5,5,4,5,5,5,2,1,5,3,1,5,5,4,3,3,2,5,5,5,2,5,2,1,5,2,5,5,5,3,5,5,5,5,5,1,3,2,5,2,2,1,2,1,5,1,2,1,2,0,5,5,2,2,1,5,5,3,5,0,0,1,5,0,5,3,5,3,5,3,5,1,1,3,5,2,0,0,5,3,5,1,5,1,2,5,1,1,4,5,2,4,5,0,0,0,0,0,1,0,2,5,1,2,2,3,5,2,4,5,5,5,2,0,4,3,0,0,0,0,0,0,0,0,0,0,0,3,5,5,5,2,3,5,5,4,5,1,5,5,5,5,1,5,3,5,3,2,5,1,5,5,5,5,5,1,4,0,5,5,5,5,0,2,3,0,1,4,5,3,1,5,1,2,1,1,3,5,5,5,5,2,4,5,5,5,2,0,5,1,5,4,4,5,5,2,4,4,5,1,2,5,2,3,3,0,2,4,0,5,3,5,3,3,3,2,0,0,3,5,2,2,0,2,2,0,3,2,2,2,5,0,5,3,0,0,3,0,0,5,4,3,2,0,0,5,0,2,5,0,5,2,1,3,1,5,3,0,3,2,5,5,3,0,5,5,5,4,3,5,1,5,4,1,1,4,2,1,4,1,2,2,2,2,3,0,3,5,1,1,1,4,3,5,4,1,1,1,4,1,2,4,5,5,3,1,1,5,5,0,5,0,5,0,1,0,1,5,5,4,5,1,5,2,5,0,1,0,2,3,4,3,0,0,2,0,0,3,2,0,5,3,2,3,4,4,1,2,2,2,4,1,3,5,4,2,0,5,3,1,0,0,5,0,5,4,5,2,0,2,3,1,5,1,2,1,1,1,2,2,0,2,5,1,5,1,5,3,1,4,5,1,2,4,0,1,1,4,1,4,1,1,4,2,4,5,1,0,0,5,2,0,0,0,1,0,5,1,0,2,0,1,0,0,1,0,1,0,4,5,2,1,4,4,3,1,0,0,0,1,1,5,1,4,1,4,4,5,0,4,2,2,4,3,1,5,5,5,3,2,3,3,0,3,0,2,2,0,5,0,1,0,1,0,1,1,2,1,2,4,0,3,0,5,2,4,3,2,0,4,0,0,4,2,5,3,3,1,1,1,5,2,2,0,5,2,2,1,1,1,4,5,2,5,4,2,0,5,2,2,3,5,2,0,2,2,5,5,5,1,0,4,4,2,3,1,4,4,2,2,0,4,1,2,1,5,0,1,5,4,0,5,4,2,3,0,1,0,1,2,1,5,1,1,4,2,3,2,2,3,0,0,0,2,5,0,2,2,4,1,3,0,1,2,3,1,2,5,5,2,4,3,3,2,5,3,5,2,2,4,3,1,2,2,1,0,2,2,4,5,3,3,4,2,5,1,2,2,3,0,0,1,0,2,3,3,4,3,3,3,3,3,4,1,4,4,0,0,4,3,2,5,5,1,2,1,2,2,1,1,5,3,2,1,5,0,0,1,5,0,2,0,0,5,4,4,3,5,4,0,5,0,2,1,4,5,5,2,0,4,4,5,3,3,2,0,0,0,0,1,1,4,1,2,5,5,2,3,4,1,1,5,1,4,2,4,1,0,2,2,0,0,1,2,1,2,5,3,1,5,5,0,0,1,5,5,1,3,0,0,0,2,2,2,3,2,5,1,1,3,1,4,2,2,5,4,5,2,1,2,3,5,5,0,5,2,1,4,0,0,1,1,1,0,4,5,0,1,0,0,1,1,1,1,0,0,0,0,0,0,0,0,5,0,0,1,5,5,1,4,5,3,2,1,2,1,2,2,2,2,5,5,4,1,2,1,4,0,3,4,4,0,0,3,4,5,4,1,2,5,4,1,4,3,3,0,5,2,3,2,4,0,1,0,3,5,3,0,1,2,1,5,2,2,1,5,1,0,1,0,5,2,1,1,3,2,2,1,0,1,1,5,5,4,0,0,0,0,0,2,3,0,1,4,2,2,1,2,5,5,5,0,5,0,5,1,0,3,5,5,5,1,4,4,1,1,5,3,5,5,0,0,0,0,0,0,1,1,0,1,0,0,0,2,0,2,1,1,0,5,0,1,2,2,4,3,5,1,4,5,3,4,4,4,2,4,0,1,3,2,1,0,0,1,1,0,1,0,0,0,0,5,4,1,4,5,1,1,2,1,4,1,3,2,1,5,2,4,3,1,2,1,4,2,1,3,3,4,2,5,5,1,4,3,0,1,2,3,3,2,2,2,2,1,4,2,2,4,3,4,4,3,5,1,1,4,3,5,5,2,2,4,3,3,5,5,5,3,2,1,1,1,2,5,3,1,3,2,4,5,0,2,0,2,0,0,0,2,0,0,5,2,2,0,3,1,1,1,5,0,0,1,2,0,1,0,4,2,5,0,1,5,5,5,1,4,3,0,4,3,5,3,2,1,0,2,5,5,3,4,1,1,4,0,5,5,1,1,5,0,1,5,1,5,5,5,4,1,5,0,2,0,0,5,3,0,3,1,0,2,0,4,5,1,2,3,0,0,0,3,0,0,0,0,0,1,5,0,5,2,1,1,4,2,3,2,3,0,3,1,5,4,0,0,0,0,4,2,1,4,0,0,5,1,0,1,1,1,1,2,4,3,0,0,0,0,1,5,0,5,0,0,1,1,0,5,1,0,2,0,1,0,1,2,4,3,0,0,5,1,1,4,1,1,4,1,1,1,2,0,0,5,0,0,1,0,0,0,0,0,0,2,0,1,1,0,1,0,0,0,0,3,1,1,0,2,1,1,0,1,1,0,0,0,0,1,1,0,5,0,1,3,0,1,4,1,1,0,1,3,2,5,1,4,0,2,1,3,0,4,3,0,2,3,2,4,1,0,0,1,5,3,1,4,1,4,3,2,4,0,0,1,1,5,4,0,1,0,0,2,5,5,1,3,5,5,5,5,5,5,0,3,4,3,2,4,0,0,1,1,5,4,0,1,0,0,2,5,5,1,3,5,5,5,5,5,5,0,3,2,2,4,1,1,4,4,3,4,4,0,2,1,1,3,4,0,1,1,2,1,2,2,2,2,2,1,1,1,1,0,1,2,0,1,5,5,1,1,1,2,3,4,5,1,1,5,5,1,3,1,2,4,2,2,1,2,4,2,0,4,2,3,1,3,2,1,4,1,5,5,4,2,1,2,3,2,4,1,2,1,0,1,2,1,3,3,1,0,2,1,1,2,1,5,1,0,5,5,0,3,3,0,3,1,1,3,0,5,2,2,0,0,2,0,4,4,2,0,1,3,0,4,3,0,0,3,0,3,0,3,0,2,2,0,1,0,5,0,2,0,0,2,1,0,1,1,1,5,2,0,3,5,5,3,4,2,3,0,3,1,2,2,4,3,4,4,1,1,1,1,1,1,2,5,5,5,4,0,2,2,1,1,0,2,1,1,5,3,1,1,1,1,0,3,2,3,5,5,2,1,1,1,1,3,2,0,1,2,1,5,5,2,2,4,3,1,5,5,1,4,1,5,0,5,0,1,4,1,3,4,4,3,2,4,2,3,1,0,2,2,2,1,1,3,1,1,5,1,1,1,2,1,4,2,5,1,5,0,0,1,1,5,1,1,1,0,1,3,1,2,2,5,1,3,4,2,5,2,2,1,3,5,1,5,3,5,1,1,4,1,5,5,1,4,5,1,4,1,0,0,3,3,3,1,1,1,3,3,4,2,3,5,0,1,1,1,0,0,4,0,5,0,0,5,2,4,3,3,3,5,0,1,4,4,0,0,2,5,5,0,5,1,0,1,1,5,1,2,2,2,5,2,1,4,5,1,5,1,1,0,5,5,1,1,2,1,5,0,1,1,0,3,2,5,1,1,1,1,4,2,5,0,5,3,3,2,3,5,0,0,0,5,0,1,1,2,0,0,1,0,0,0,2,1,4,4,5,1,5,5,0,1,4,5,5,2,3,2,5,1,2,1,4,0,5,4,3,3,5,0,1,3,1,0,5,3,2,3,0,0,5,3,3,0,3,4,4,2,3,5,2,5,5,5,4,4,2,0,1,0,2,2,3,4,5,1,1,1,0,2,2,1,4,2,1,2,1,4,1,1,2,3,1,2,1,2,1,5,3,5,2,2,0,2,5,1,1,5,1,1,0,2,5,5,5,5,4,3,3,5,0,5,3,5,2,1,3,2,1,2,0,3,0,3,5,5,5,3,2,4,3,3,0,4,5,1,2,2,0,2,5,5,1,4,5,4,1,4,4,1,1,1,5,5,1,5,5,2,3,2,2,1,3,2,0,3,3,1,4,2,0,5,2,1,0,5,5,2,4,4,1,1,5,1,4,2,2,5,5,3,5,4,4,3,2,5,5,5,4,1,3,1,1,4,5,4,4,3,1,4,1,1,0,2,5,5,5,3,0,0,1,1,4,1,1,5,4,2,2,1,5,2,5,1,3,5,1,0,1,2,5,5,3,1,2,3,0,3,0,5,5,2,2,3,4,3,5,5,4,5,1,5,1,4,5,5,1,5,5,1,0,0,5,4,5,5,1,1,3,1,0,0,0,5,5,1,2,1,1,1,1,1,4,5,1,0,1,0,2,4,2,4,5,5,1,4,1,3,1,1,1,1,5,5,3,1,0,0,1,1,0,2,1,1,1,0,0,0,4,2,1,4,2,4,1,1,3,1,3,3,3,5,2,2,0,4,4,4,3,4,2,1,1,4,2,1,5,0,0,0,3,4,2,3,2,5,5,1,2,1,3,3,0,0,0,0,0,0,0,1,2,0,0,4,1,2,0,5,1,1,0,0,0,0,2,3,2,1,0,1,1,1,5,1,1,5,4,3,2,2,1,2,4,1,0,5,1,5,0,4,0,1,0,1,0,3,3,3,2,5,0,3,3,5,1,4,4,1,3,3,2,4,5,4,2,2,5,3,5,2,3,0,1,3,5,5,1,0,0,0,0,0,0,1,0,5,1,4,1,2,5,1,3,2,4,2,2,3,3,2,2,2,3,1,4,5,5,3,0,2,2,3,3,4,2,4,3,5,0,3,4,3,1,2,4,3,2,1,5,5,0,4,5,4,4,5,3,2,2,4,5,4,0,3,5,1,2,4,2,0,4,2,5,1,3,0,4,3,5,4,4,5,1,0,3,5,5,2,1,0,0,1,0,1,3,1,0,0,0,0,0,0,0,0,0,0,0,0,0,0,1,1,0,0,0,1,0,0,0,0,0,0,0,5,0,0,1,1,5,5,3,4,0,4,0,1,4,0,1,2,3,5,2,4,4,1,2,1,4,1,0,1,1,2,2,2,0,5,5,1,2,5,4,1,1,0,5,5,5,1,0,0,0,0,0,1,0,3,2,0,0,1,0,0,2,2,4,3,2,5,5,2,1,3,2,5,4,1,0,4,4,2,2,1,3,5,5,2,1,0,3,4,1,5,1,4,2,5,2,4,4,1,5,4,2,5,0,4,0,0,2,2,2,2,5,2,0,2,1,0,5,1,1,0,5,2,2,5,3,4,5,4,4,5,2,1,0,5,1,1,1,3,3,4,0,5,0,5,5,1,1,1,1,1,3,3,3,1,5,1,5,5,1,5,3,5,5,0,0,3,0,0,4,1,2,1,0,4,5,2,3,0,5,3,2,1,2,2,2,2,2,1,2,0,1,1,1,4,2,2,2,2,3,1,2,5,5,0,0,2,1,1,3,0,5,2,2,0,1,5,0,0,1,0,0,4,0,0,3,0,5,0,1,0,1,1,1,0,0,0,1,0,0,4,3,3,2,2,5,4,1,1,2,1,2,1,4,4,0,0,1,5,2,3,4,5,2,2,5,4,0,5,5,0,5,5,1,4,5,5,2,1,1,5,5,1,0,3,2,2,1,2,4,4,3,2,4,0,2,1,5,2,2,4,2,5,1,5,4,3,0,3,2,5,1,1,0,5,5,5,4,2,5,5,2,1,1,1,0,1,0,0,0,0,0,0,0,0,0,5,4,2,5,4,0,4,0,0,0,5,0,0,5,4,2,3,5,1,2,3,5,0,1,2,5,5,0,0,0,0,4,5,0,5,4,1,5,3,5,4,0,1,2,2,0,0,3,1,4,2,2,1,0,0,5,1,5,4,1,5,5,1,1,0,1,1,0,0,0,0,0,0,0,0,0,0,1,0,0,0,0,0,0,0,0,0,0,3,2,1,1,0,0,3,2,1,0,1,0,0,0,0,3,1,1,1,2,2,2,0,4,5,5,4,2,2,1,0,2,2,5,2,2,2,1,1,1,2,1,1,5,4,1,2,5,4,2,1,5,3,0,2,0,2,2,0,5,2,4,0,3,4,0,0,0,0,0,0,0,0,4,4,0,0,1,3,4,1,1,1,1,1,0,1,1,1,1,2,4,2,5,2,3,2,2,3,5,4,5,0,0,0,0,0,0,0,0,0,0,0,0,0,0,2,4,4,0,5,5,5,5,4,2,1,0,1,1,0,0,4,2,4,2,5,0,4,3,2,2,0,0,0,0,4,0,0,0,1,4,2,0,3,5,5,2,5,5,2,4,0,0,0,0,0,5,5,0,0,3,1,5,2,4,3,0,0,2,4,5,0,4,3,3,2,0,5,3,1,0,1,0,0,1,0,1,0,4,5,5,5,1,1,5,3,0,2,5,3,4,2,5,4,4,0,2,3,4,4,5,5,0,1,0,4,2,0,4,2,5,2,5,5,5,4,2,5,0,1,2,2,1,2,1,1,5,4,1,2,3,4,5,0,0,0,1,0,5,0,1,4,4,1,3,0,1,1,1,0,2,2,2,5,4,3,2,1,2,2,3,3,2,5,0,3,1,0,0,0,3,0,1,5,0,1,4,4,0,2,4,5,4,1,5,4,1,2,3,1,5,5,2,3,1,3,0,1,5,2,3,5,5,3,1,0,0,1,2,2,1,2,5,5,0,4,2,3,1,0,1,1,1,5,4,2,1,2,0,4,2,3,3,3,1,5,2,4,3,5,3,3,4,2,5,2,0,4,0,0,1,5,0,0,0,0,0,0,4,5,2,2,0,3,2,3,2,1,2,5,5,0,5,5,5,0,0,0,4,4,5,3,4,1,5,4,3,1,4,4,1,2,0,2,1,3,4,1,3,2,2,0,2,1,1,4,4,2,2,0,1,5,0,2,1,0,3,2,1,4,2,1,5,2,2,5,1,1,1,1,1,3,3,3,0,0,0,0,0,0,4,5,2,2,2,3,0,0,0,4,0,2,4,3,0,1,0,3,0,5,3,5,0,2,5,5,0,3,4,0,2,2,3,0,5,2,5,4,4,5,1,0,5,1,3,5,0,4,2,2,2,2,5,0,0,1,0,1,5,3,0,0,5,1,4,1,0,1,0,2,0,3,3,1,1,5,1,5,1,5,3,0,2,3,3,0,0,0,0,0,0,2,0,0,0,0,0,0,0,0,0,0,0,0,0,0,0,0,1,5,1,5,5,1,2,1,2,5,5,1,1,0,4,0,4,0,0,2,3,5,2,0,3,5,1,1,3,1,0,1,3,1,5,1,1,1,1,1,5,1,1,1,5,1,5,2,4,5,1,1,1,2,1,1,2,5,4,5,4,1,2,5,1,2,2,3,3,0,2,3,0,0,1,2,2,0,2,5,5,3,5,5,2,4,5,1,0,5,4,2,1,2,0,0,2,0,0,0,0,0,0,0,0,0,0,0,0,0,2,2,2,1,2,1,2,2,3,3,4,5,1,1,1,2,2,1,3,1,0,1,3,0,1,5,2,1,2,5,3,1,1,1,1,1,1,1,1,1,1,2,5,2,1,1,1,2,2,1,2,5,5,5,5,2,3,5,5,3,0,0,0,0,0,0,0,0,0,0,0,0,0,1,1,2,1,1,0,0,0,0,0,0,0,0,0,0,0,0,1,1,0,0,0,0,0,1,0,1,0,0,0,0,3,2,1,0,0,2,0,1,1,2,0,0,0,1,2,4,3,3,2,4,3,3,4,2,3,3,3,1,2,1,1,1,5,0,0,5,5,1,3,3,1,5,1,3,5,2,0,4,5,4,2,0,3,0,0,2,0,0,1,1,0,1,0,1,1,1,3,0,0,0,0,0,0,5,4,5,4,2,2,0,1,3,4,0,1,1,5,2,5,0,0,1,5,3,4,5,4,0,2,2,0,1,3,3,1,4,3,2,2,1,2,1,2,3,0,2,0,1,1,1,1,1,1,1,2,1,1,2,2,1,4,0,0,1,3,0,2,1,1,1,1,2,2,0,0,1,1,0,0,0,0,0,0,0,2,1,4,3,3,2,3,2,5,3,5,1,2,5,4,0,1,1,1,0,2,2,2,3,4,3,3,3,0,5,5,0,5,1,1,0,0,5,3,0,1,2,1,1,4,5,1,0,3,1,3,2,4,2,3,4,0,4,0,1,2,1,0,4,1,5,4,1,3,2,5,2,3,0,3,4,2,0,5,3,2,2,2,2,5,3,2,4,0,2,4,4,5,3,2,3,3,4,3,4,3,2,3,4,2,3,2,2,5,5,2,4,5,1,2,3,2,2,4,1,4,5,5,5,3,4,4,5,1,0,5,2,2,3,2,5,1,4,2,3,5,5,3,3,2,3,5,4,0,5,0,5,5,3,5,3,2,4,1,1,4,5,2,2,2,2,5,3,0,3,3,1,2,5,4,3,0,1,3,5,3,4,5,4,0,4,4,2,1,5,5,3,5,2,5,5,5,0,0,2,3,4,0,3,0,3,5,0,3,0,1,1,1,1,5,3,5,2,3,1,0,5,4,1,0,1,1,0,1,1,0,1,0,3,1,1,4,0,5,0,1,4,4,2,2,2,2,5,1,0,1,5,3,3,3,5,2,3,4,2,5,5,1,1,0,0,1,0,0,1,3,4,5,1,1,1,3,5,5,3,4,1,2,0,2,4,3,4,3,2,5,0,4,2,5,5,2,3,3,1,5,5,5,5,4,0,3,5,5,1,5,0,5,1,2,1,1,0,5,0,2,3,2,0,0,5,3,4,2,0,4,0,1,2,0,0,2,1,5,0,5,2,5,2,3,4,4,0,2,4,1,2,5,2,5,2,1,5,1,1,2,1,4,3,2,0,1,0,5,2,0,4,1,2,2,1,1,1,1,1,3,3,1,5,4,2,1,2,3,2,4,4,1,1,1,0,0,1,2,0,0,0,0,0,0,0,0,0,1,2,2,3,2,2,4,1,3,2,2,0,0,0,0,0,0,0,0,2,2,3,2,5,2,2,3,5,1,0,1,0,4,4,4,5,4,2,0,0,0,0,4,3,5,0,1,1,2,4,5,0,0,2,0,5,5,0,0,0,0,0,0,0,0,0,0,1,4,4,2,4,5,0,3,4,3,3,0,1,4,0,0,3,2,0,0,0,5,5,2,0,5,4,1,5,2,5,1,0,0,0,3,1,4,0,2,1,0,0,0,1,1,2,4,0,2,1,2,1,0,1,5,1,0,0,0,0,5,3,0,0,4,0,0,2,1,1,1,1,1,5,4,0,5,4,0,5,2,4,0,1,0,1,0,5,3,0,2,3,1,5,1,4,5,4,4,3,1,1,2,0,0,4,2,3,1,5,0,2,1,0,2,5,2,4,2,1,4,3,4,0,4,3,0,1,1,5,2,1,5,1,1,3,1,0,3,1,1,0,1,1,0,3,1,2,2,5,1,3,0,0,1,2,5,0,1,0,4,0,1,1,5,0,2,5,0,1,2,0,4,0,3,3,0,0,5,0,0,5,0,2,0,5,2,1,3,4,4,0,1,2,1,0,4,4,1,2,5,3,5,0,5,0,5,5,0,2,0,2,0,5,4,0,0,3,0,4,4,5,5,0,1,4,5,0,0,2,0,0,1,1,2,3,2,5,2,0,2,3,0,1,0,5,5,4,0,0,2,2,5,0,4,1,3,1,5,5,3,4,4,5,4,4,2,1,1,2,5,0,1,2,5,2,4,2,2,2,2,2,2,1,2,1,1,2,1,3,2,2,3,1,2,3,2,2,1,2,0,2,2,2,2,2,2,2,2,2,2,2,2,2,2,2,2,1,1,2,1,3,0,5,3,2,2,5,0,2,5,5,5,3,5,5,0,0,0,0,0,5,0,1,1,0,3,1,0,1,3,0,2,0,0,0,0,0,0,3,1,5,0,1,0,2,1,1,2,4,5,5,4,4,1,4,2,3,1,4,1,2,2,3,5,0,0,1,5,4,3,5,0,5,2,4,1,0,1,1,0,0,1,1,1,1,0,0,1,4,2,4,4,0,0,1,2,5,5,1,4,1,2,5,1,2,2,2,2,2,2,4,5,4,4,2,3,0,2,2,2,0,3,2,5,5,3,2,5,5,2,2,4,1,1,3,1,1,2,1,1,1,4,1,0,1,3,2,4,5,1,2,3,2,5,4,2,2,2,1,1,1,2,5,5,4,3,2,5,0,2,5,5,1,1,0,3,2,2,3,2,2,0,2,1,1,1,1,5,5,5,5,1,0,0,0,1,1,1,0,0,1,1,2,5,1,1,3,3,3,1,1,5,2,0,2,0,2,2,2,1,1,2,4,2,1,2,1,2,5,1,1,5,2,2,2,2,4,5,5,5,3,5,1,4,1,1,1,5,0,5,1,2,2,2,1,0,1,5,2,3,2,1,1,2,1,2,1,0,0,0,0,0,0,0,4,0,1,4,3,2,1,1,5,0,2,5,1,2,2,1,5,1,5,3,2,0,2,3,5,5,5,5,5,1,0,5,4,0,0,1,2,1,5,0,5,2,2,2,2,5,1,0,0,0,0,0,0,0,1,1,5,2,5,1,2,5,4,4,4,5,5,1,0,4,3,5,4,5,0,5,1,0,4,4,0,2,4,5,3,5,5,5,0,4,4,4,3,1,4,4,1,4,5,2,5,0,0,0,1,0,1,1,0,0,4,0,4,0,5,5,2,5,5,4,2,5,5,4,4,5,5,1,5,2,5,4,5,4,4,1,5,5,4,5,5,3,5,5,1,3,1,5,2,2,5,5,2,3,0,0,0,0,0,0,0,3,5,5,4,5,3,5,5,2,5,5,5,5,4,5,3,3,5,0,5,3,5,2,1,0,1,0,0,1,4,1,5,4,5,1,5,3,5,5,0,0,0,2,2,5,4,5,5,0,2,5,5,2,3,2,4,5,4,3,5,3,4,2,5,3,5,3,5,2,2,2,1,3,2,5,0,0,4,0,2,2,1,5,0,5,4,1,3,3,0,5,0,0,5,5,2,2,2,3,0,2,2,2,0,1,3,3,0,3,1,0,0,0,1,1,4,0,0,0,0,1,5,0,2,0,0,3,3,1,1,1,2,2,3,0,5,1,1,5,1,0,5,0,1,5,1,5,0,0,0,1,3,1,1,0,3,5,3,5,0,4,2,1,0,0,5,1,1,2,5,2,5,1,0,1,1,4,1,3,2,5,1,1,0,5,1,2,3,5,2,2,2,1,4,3,2,2,2,3,2,3,5,3,2,1,3,3,2,5,3,4,2,1,4,1,5,1,1,0,0,4,1,1,5,1,2,1,5,3,5,1,0,0,5,1,5,2,1,2,1,1,1,1,1,3,1,2,5,4,2,1,5,1,3,1,3,3,1,2,3,4,1,4,4,3,3,3,3,0,1,4,3,3,3,5,0,2,1,0,1,0,1,2,2,1,2,1,2,1,1,1,1,2,1,1,2,1,1,2,1,1,1,0,0,2,5,4,0,0],\"xaxis\":\"x\",\"yaxis\":\"y\",\"type\":\"histogram\"}],                        {\"template\":{\"data\":{\"barpolar\":[{\"marker\":{\"line\":{\"color\":\"rgb(17,17,17)\",\"width\":0.5},\"pattern\":{\"fillmode\":\"overlay\",\"size\":10,\"solidity\":0.2}},\"type\":\"barpolar\"}],\"bar\":[{\"error_x\":{\"color\":\"#f2f5fa\"},\"error_y\":{\"color\":\"#f2f5fa\"},\"marker\":{\"line\":{\"color\":\"rgb(17,17,17)\",\"width\":0.5},\"pattern\":{\"fillmode\":\"overlay\",\"size\":10,\"solidity\":0.2}},\"type\":\"bar\"}],\"carpet\":[{\"aaxis\":{\"endlinecolor\":\"#A2B1C6\",\"gridcolor\":\"#506784\",\"linecolor\":\"#506784\",\"minorgridcolor\":\"#506784\",\"startlinecolor\":\"#A2B1C6\"},\"baxis\":{\"endlinecolor\":\"#A2B1C6\",\"gridcolor\":\"#506784\",\"linecolor\":\"#506784\",\"minorgridcolor\":\"#506784\",\"startlinecolor\":\"#A2B1C6\"},\"type\":\"carpet\"}],\"choropleth\":[{\"colorbar\":{\"outlinewidth\":0,\"ticks\":\"\"},\"type\":\"choropleth\"}],\"contourcarpet\":[{\"colorbar\":{\"outlinewidth\":0,\"ticks\":\"\"},\"type\":\"contourcarpet\"}],\"contour\":[{\"colorbar\":{\"outlinewidth\":0,\"ticks\":\"\"},\"colorscale\":[[0.0,\"#0d0887\"],[0.1111111111111111,\"#46039f\"],[0.2222222222222222,\"#7201a8\"],[0.3333333333333333,\"#9c179e\"],[0.4444444444444444,\"#bd3786\"],[0.5555555555555556,\"#d8576b\"],[0.6666666666666666,\"#ed7953\"],[0.7777777777777778,\"#fb9f3a\"],[0.8888888888888888,\"#fdca26\"],[1.0,\"#f0f921\"]],\"type\":\"contour\"}],\"heatmapgl\":[{\"colorbar\":{\"outlinewidth\":0,\"ticks\":\"\"},\"colorscale\":[[0.0,\"#0d0887\"],[0.1111111111111111,\"#46039f\"],[0.2222222222222222,\"#7201a8\"],[0.3333333333333333,\"#9c179e\"],[0.4444444444444444,\"#bd3786\"],[0.5555555555555556,\"#d8576b\"],[0.6666666666666666,\"#ed7953\"],[0.7777777777777778,\"#fb9f3a\"],[0.8888888888888888,\"#fdca26\"],[1.0,\"#f0f921\"]],\"type\":\"heatmapgl\"}],\"heatmap\":[{\"colorbar\":{\"outlinewidth\":0,\"ticks\":\"\"},\"colorscale\":[[0.0,\"#0d0887\"],[0.1111111111111111,\"#46039f\"],[0.2222222222222222,\"#7201a8\"],[0.3333333333333333,\"#9c179e\"],[0.4444444444444444,\"#bd3786\"],[0.5555555555555556,\"#d8576b\"],[0.6666666666666666,\"#ed7953\"],[0.7777777777777778,\"#fb9f3a\"],[0.8888888888888888,\"#fdca26\"],[1.0,\"#f0f921\"]],\"type\":\"heatmap\"}],\"histogram2dcontour\":[{\"colorbar\":{\"outlinewidth\":0,\"ticks\":\"\"},\"colorscale\":[[0.0,\"#0d0887\"],[0.1111111111111111,\"#46039f\"],[0.2222222222222222,\"#7201a8\"],[0.3333333333333333,\"#9c179e\"],[0.4444444444444444,\"#bd3786\"],[0.5555555555555556,\"#d8576b\"],[0.6666666666666666,\"#ed7953\"],[0.7777777777777778,\"#fb9f3a\"],[0.8888888888888888,\"#fdca26\"],[1.0,\"#f0f921\"]],\"type\":\"histogram2dcontour\"}],\"histogram2d\":[{\"colorbar\":{\"outlinewidth\":0,\"ticks\":\"\"},\"colorscale\":[[0.0,\"#0d0887\"],[0.1111111111111111,\"#46039f\"],[0.2222222222222222,\"#7201a8\"],[0.3333333333333333,\"#9c179e\"],[0.4444444444444444,\"#bd3786\"],[0.5555555555555556,\"#d8576b\"],[0.6666666666666666,\"#ed7953\"],[0.7777777777777778,\"#fb9f3a\"],[0.8888888888888888,\"#fdca26\"],[1.0,\"#f0f921\"]],\"type\":\"histogram2d\"}],\"histogram\":[{\"marker\":{\"pattern\":{\"fillmode\":\"overlay\",\"size\":10,\"solidity\":0.2}},\"type\":\"histogram\"}],\"mesh3d\":[{\"colorbar\":{\"outlinewidth\":0,\"ticks\":\"\"},\"type\":\"mesh3d\"}],\"parcoords\":[{\"line\":{\"colorbar\":{\"outlinewidth\":0,\"ticks\":\"\"}},\"type\":\"parcoords\"}],\"pie\":[{\"automargin\":true,\"type\":\"pie\"}],\"scatter3d\":[{\"line\":{\"colorbar\":{\"outlinewidth\":0,\"ticks\":\"\"}},\"marker\":{\"colorbar\":{\"outlinewidth\":0,\"ticks\":\"\"}},\"type\":\"scatter3d\"}],\"scattercarpet\":[{\"marker\":{\"colorbar\":{\"outlinewidth\":0,\"ticks\":\"\"}},\"type\":\"scattercarpet\"}],\"scattergeo\":[{\"marker\":{\"colorbar\":{\"outlinewidth\":0,\"ticks\":\"\"}},\"type\":\"scattergeo\"}],\"scattergl\":[{\"marker\":{\"line\":{\"color\":\"#283442\"}},\"type\":\"scattergl\"}],\"scattermapbox\":[{\"marker\":{\"colorbar\":{\"outlinewidth\":0,\"ticks\":\"\"}},\"type\":\"scattermapbox\"}],\"scatterpolargl\":[{\"marker\":{\"colorbar\":{\"outlinewidth\":0,\"ticks\":\"\"}},\"type\":\"scatterpolargl\"}],\"scatterpolar\":[{\"marker\":{\"colorbar\":{\"outlinewidth\":0,\"ticks\":\"\"}},\"type\":\"scatterpolar\"}],\"scatter\":[{\"marker\":{\"line\":{\"color\":\"#283442\"}},\"type\":\"scatter\"}],\"scatterternary\":[{\"marker\":{\"colorbar\":{\"outlinewidth\":0,\"ticks\":\"\"}},\"type\":\"scatterternary\"}],\"surface\":[{\"colorbar\":{\"outlinewidth\":0,\"ticks\":\"\"},\"colorscale\":[[0.0,\"#0d0887\"],[0.1111111111111111,\"#46039f\"],[0.2222222222222222,\"#7201a8\"],[0.3333333333333333,\"#9c179e\"],[0.4444444444444444,\"#bd3786\"],[0.5555555555555556,\"#d8576b\"],[0.6666666666666666,\"#ed7953\"],[0.7777777777777778,\"#fb9f3a\"],[0.8888888888888888,\"#fdca26\"],[1.0,\"#f0f921\"]],\"type\":\"surface\"}],\"table\":[{\"cells\":{\"fill\":{\"color\":\"#506784\"},\"line\":{\"color\":\"rgb(17,17,17)\"}},\"header\":{\"fill\":{\"color\":\"#2a3f5f\"},\"line\":{\"color\":\"rgb(17,17,17)\"}},\"type\":\"table\"}]},\"layout\":{\"annotationdefaults\":{\"arrowcolor\":\"#f2f5fa\",\"arrowhead\":0,\"arrowwidth\":1},\"autotypenumbers\":\"strict\",\"coloraxis\":{\"colorbar\":{\"outlinewidth\":0,\"ticks\":\"\"}},\"colorscale\":{\"diverging\":[[0,\"#8e0152\"],[0.1,\"#c51b7d\"],[0.2,\"#de77ae\"],[0.3,\"#f1b6da\"],[0.4,\"#fde0ef\"],[0.5,\"#f7f7f7\"],[0.6,\"#e6f5d0\"],[0.7,\"#b8e186\"],[0.8,\"#7fbc41\"],[0.9,\"#4d9221\"],[1,\"#276419\"]],\"sequential\":[[0.0,\"#0d0887\"],[0.1111111111111111,\"#46039f\"],[0.2222222222222222,\"#7201a8\"],[0.3333333333333333,\"#9c179e\"],[0.4444444444444444,\"#bd3786\"],[0.5555555555555556,\"#d8576b\"],[0.6666666666666666,\"#ed7953\"],[0.7777777777777778,\"#fb9f3a\"],[0.8888888888888888,\"#fdca26\"],[1.0,\"#f0f921\"]],\"sequentialminus\":[[0.0,\"#0d0887\"],[0.1111111111111111,\"#46039f\"],[0.2222222222222222,\"#7201a8\"],[0.3333333333333333,\"#9c179e\"],[0.4444444444444444,\"#bd3786\"],[0.5555555555555556,\"#d8576b\"],[0.6666666666666666,\"#ed7953\"],[0.7777777777777778,\"#fb9f3a\"],[0.8888888888888888,\"#fdca26\"],[1.0,\"#f0f921\"]]},\"colorway\":[\"#636efa\",\"#EF553B\",\"#00cc96\",\"#ab63fa\",\"#FFA15A\",\"#19d3f3\",\"#FF6692\",\"#B6E880\",\"#FF97FF\",\"#FECB52\"],\"font\":{\"color\":\"#f2f5fa\"},\"geo\":{\"bgcolor\":\"rgb(17,17,17)\",\"lakecolor\":\"rgb(17,17,17)\",\"landcolor\":\"rgb(17,17,17)\",\"showlakes\":true,\"showland\":true,\"subunitcolor\":\"#506784\"},\"hoverlabel\":{\"align\":\"left\"},\"hovermode\":\"closest\",\"mapbox\":{\"style\":\"dark\"},\"paper_bgcolor\":\"rgb(17,17,17)\",\"plot_bgcolor\":\"rgb(17,17,17)\",\"polar\":{\"angularaxis\":{\"gridcolor\":\"#506784\",\"linecolor\":\"#506784\",\"ticks\":\"\"},\"bgcolor\":\"rgb(17,17,17)\",\"radialaxis\":{\"gridcolor\":\"#506784\",\"linecolor\":\"#506784\",\"ticks\":\"\"}},\"scene\":{\"xaxis\":{\"backgroundcolor\":\"rgb(17,17,17)\",\"gridcolor\":\"#506784\",\"gridwidth\":2,\"linecolor\":\"#506784\",\"showbackground\":true,\"ticks\":\"\",\"zerolinecolor\":\"#C8D4E3\"},\"yaxis\":{\"backgroundcolor\":\"rgb(17,17,17)\",\"gridcolor\":\"#506784\",\"gridwidth\":2,\"linecolor\":\"#506784\",\"showbackground\":true,\"ticks\":\"\",\"zerolinecolor\":\"#C8D4E3\"},\"zaxis\":{\"backgroundcolor\":\"rgb(17,17,17)\",\"gridcolor\":\"#506784\",\"gridwidth\":2,\"linecolor\":\"#506784\",\"showbackground\":true,\"ticks\":\"\",\"zerolinecolor\":\"#C8D4E3\"}},\"shapedefaults\":{\"line\":{\"color\":\"#f2f5fa\"}},\"sliderdefaults\":{\"bgcolor\":\"#C8D4E3\",\"bordercolor\":\"rgb(17,17,17)\",\"borderwidth\":1,\"tickwidth\":0},\"ternary\":{\"aaxis\":{\"gridcolor\":\"#506784\",\"linecolor\":\"#506784\",\"ticks\":\"\"},\"baxis\":{\"gridcolor\":\"#506784\",\"linecolor\":\"#506784\",\"ticks\":\"\"},\"bgcolor\":\"rgb(17,17,17)\",\"caxis\":{\"gridcolor\":\"#506784\",\"linecolor\":\"#506784\",\"ticks\":\"\"}},\"title\":{\"x\":0.05},\"updatemenudefaults\":{\"bgcolor\":\"#506784\",\"borderwidth\":0},\"xaxis\":{\"automargin\":true,\"gridcolor\":\"#283442\",\"linecolor\":\"#506784\",\"ticks\":\"\",\"title\":{\"standoff\":15},\"zerolinecolor\":\"#283442\",\"zerolinewidth\":2},\"yaxis\":{\"automargin\":true,\"gridcolor\":\"#283442\",\"linecolor\":\"#506784\",\"ticks\":\"\",\"title\":{\"standoff\":15},\"zerolinecolor\":\"#283442\",\"zerolinewidth\":2}}},\"xaxis\":{\"anchor\":\"y\",\"domain\":[0.0,1.0],\"title\":{\"text\":\"value\"}},\"yaxis\":{\"anchor\":\"x\",\"domain\":[0.0,1.0],\"title\":{\"text\":\"count\"}},\"legend\":{\"title\":{\"text\":\"variable\"},\"tracegroupgap\":0},\"margin\":{\"t\":60},\"barmode\":\"relative\",\"bargap\":0.4},                        {\"responsive\": true}                    ).then(function(){\n",
              "                            \n",
              "var gd = document.getElementById('8d25a18c-5ce0-4c01-b3ca-2e64f79eee9a');\n",
              "var x = new MutationObserver(function (mutations, observer) {{\n",
              "        var display = window.getComputedStyle(gd).display;\n",
              "        if (!display || display === 'none') {{\n",
              "            console.log([gd, 'removed!']);\n",
              "            Plotly.purge(gd);\n",
              "            observer.disconnect();\n",
              "        }}\n",
              "}});\n",
              "\n",
              "// Listen for the removal of the full notebook cells\n",
              "var notebookContainer = gd.closest('#notebook-container');\n",
              "if (notebookContainer) {{\n",
              "    x.observe(notebookContainer, {childList: true});\n",
              "}}\n",
              "\n",
              "// Listen for the clearing of the current output cell\n",
              "var outputEl = gd.closest('.output');\n",
              "if (outputEl) {{\n",
              "    x.observe(outputEl, {childList: true});\n",
              "}}\n",
              "\n",
              "                        })                };                            </script>        </div>\n",
              "</body>\n",
              "</html>"
            ]
          },
          "metadata": {}
        }
      ]
    },
    {
      "cell_type": "markdown",
      "source": [
        "# **Comparaison total prix achat Vs Frais de port**"
      ],
      "metadata": {
        "id": "WisyKhYgHhM8"
      }
    },
    {
      "cell_type": "code",
      "source": [
        "# On va afficher le detail de la colonne FDP du DF pour comprendre comment optimiser la segmentation des frais de port et avoir une Data Viz intéressante.\n",
        "\n",
        "\n",
        "DF['FDP_clean'].describe()"
      ],
      "metadata": {
        "colab": {
          "base_uri": "https://localhost:8080/"
        },
        "id": "rD14bpoxKfxZ",
        "outputId": "a1feb968-57f7-484f-b85f-c229a09766c0"
      },
      "execution_count": 215,
      "outputs": [
        {
          "output_type": "execute_result",
          "data": {
            "text/plain": [
              "count    8802.000000\n",
              "mean        1.927299\n",
              "std         2.694095\n",
              "min         0.000000\n",
              "25%         0.000000\n",
              "50%         1.660000\n",
              "75%         2.300000\n",
              "max       100.000000\n",
              "Name: FDP_clean, dtype: float64"
            ]
          },
          "metadata": {},
          "execution_count": 215
        }
      ]
    },
    {
      "cell_type": "code",
      "source": [
        "#Segmentation par frais de port\n",
        "\n",
        "#Nous allons creer une fonction qui va recuperer et compter les frais de port, selon la segmentation définit ci-dessous :\n",
        "\n",
        "def score_FEES(FEES):\n",
        "  if FEES <= 0:\n",
        "    return 0\n",
        "  if FEES > 0 and FEES <= 1.3:\n",
        "    return 1\n",
        "  if FEES > 1.3 and FEES <= 1.5:\n",
        "    return 2\n",
        "  if FEES > 1.5 and FEES <= 2:\n",
        "    return 3\n",
        "  if FEES > 2 and FEES <= 3:\n",
        "    return 4\n",
        "  else:\n",
        "    return 5\n",
        "\n",
        "# Selon l'intervalle dans lequel leS FRAIS sont compris, nous allons retourner des valeurs entre 0 et 5, que nous allons stocker une colonne 'DF_FEES'\n",
        "\n",
        "DF['scoring_FEES'] = DF.apply(lambda row : score_FEES(row['FDP_clean']), axis='columns')\n",
        "\n",
        "#On créer ensuite un histogramme pour visualiser les volumes présents dans chaque catégorie de prix.\n",
        "\n",
        "V_DARK = DF.scoring_FEES.hist(bins=5)\n",
        "\n",
        "V_DARK.layout.template = 'plotly_dark'\n",
        "\n",
        "V_DARK.update_layout(bargap=0.4)\n",
        "\n",
        "V_DARK"
      ],
      "metadata": {
        "colab": {
          "base_uri": "https://localhost:8080/",
          "height": 542
        },
        "id": "qsi464Dthtpi",
        "outputId": "fb99a89b-79b4-4ab7-c52a-d2af7744af48"
      },
      "execution_count": 216,
      "outputs": [
        {
          "output_type": "display_data",
          "data": {
            "text/html": [
              "<html>\n",
              "<head><meta charset=\"utf-8\" /></head>\n",
              "<body>\n",
              "    <div>            <script src=\"https://cdnjs.cloudflare.com/ajax/libs/mathjax/2.7.5/MathJax.js?config=TeX-AMS-MML_SVG\"></script><script type=\"text/javascript\">if (window.MathJax) {MathJax.Hub.Config({SVG: {font: \"STIX-Web\"}});}</script>                <script type=\"text/javascript\">window.PlotlyConfig = {MathJaxConfig: 'local'};</script>\n",
              "        <script src=\"https://cdn.plot.ly/plotly-2.8.3.min.js\"></script>                <div id=\"c21a18d1-b1e3-4982-b18d-0bae4b21800c\" class=\"plotly-graph-div\" style=\"height:525px; width:100%;\"></div>            <script type=\"text/javascript\">                                    window.PLOTLYENV=window.PLOTLYENV || {};                                    if (document.getElementById(\"c21a18d1-b1e3-4982-b18d-0bae4b21800c\")) {                    Plotly.newPlot(                        \"c21a18d1-b1e3-4982-b18d-0bae4b21800c\",                        [{\"alignmentgroup\":\"True\",\"bingroup\":\"x\",\"hovertemplate\":\"variable=scoring_FEES<br>value=%{x}<br>count=%{y}<extra></extra>\",\"legendgroup\":\"scoring_FEES\",\"marker\":{\"color\":\"#636efa\",\"pattern\":{\"shape\":\"\"}},\"name\":\"scoring_FEES\",\"offsetgroup\":\"scoring_FEES\",\"orientation\":\"v\",\"showlegend\":true,\"x\":[3,3,5,0,0,3,3,3,3,3,4,3,1,3,4,5,0,0,4,4,3,3,1,3,0,1,4,5,4,0,5,0,0,4,2,1,3,4,3,5,5,5,5,5,5,5,4,0,3,4,4,3,3,0,0,0,0,4,3,4,1,4,3,3,3,3,3,3,3,3,3,3,3,3,4,4,3,4,0,4,3,4,5,5,3,5,3,3,5,4,1,0,3,3,0,0,0,0,3,0,3,3,0,0,2,3,3,4,3,3,5,1,5,1,3,3,1,3,1,5,0,3,3,5,5,5,5,5,3,4,4,3,0,3,0,0,3,3,5,3,3,5,1,3,5,5,3,3,1,5,5,3,3,0,3,3,5,0,1,3,1,0,3,0,0,3,0,3,3,3,3,4,3,3,0,0,0,0,0,0,0,0,0,0,0,0,0,0,1,0,2,1,1,4,3,3,1,0,5,3,3,3,3,0,1,1,1,3,3,3,3,3,3,3,3,3,0,0,3,0,4,3,0,1,0,0,0,0,0,3,0,0,3,4,4,0,0,5,1,2,0,0,2,2,0,0,4,3,5,3,1,0,3,0,3,3,5,3,0,0,0,0,0,0,0,0,1,5,2,4,0,5,5,5,5,5,5,5,5,5,5,5,5,5,5,5,5,5,5,5,5,4,5,5,5,5,3,4,3,5,0,4,4,0,3,4,2,5,5,3,0,2,0,2,4,1,0,3,5,5,5,4,4,4,5,4,3,5,1,3,3,0,3,4,5,5,0,0,0,0,0,0,0,5,3,3,0,4,0,0,4,3,0,0,3,0,0,3,3,0,0,0,5,0,0,0,0,0,0,3,3,1,3,1,3,1,3,3,3,3,3,5,3,2,4,5,3,4,0,0,1,5,0,1,2,2,3,0,0,0,0,0,0,0,0,3,3,3,0,3,5,4,5,0,0,4,3,3,5,3,3,5,3,3,0,3,1,3,3,3,3,1,3,3,3,3,3,0,3,3,5,3,5,3,3,3,0,3,1,5,5,0,0,1,3,4,3,5,0,3,0,5,1,1,1,0,3,1,5,0,0,3,0,0,5,5,0,3,0,1,0,0,0,2,2,0,3,0,3,0,0,1,0,0,0,0,1,0,3,1,1,2,2,3,1,1,5,3,5,0,0,0,0,0,0,0,0,5,2,2,3,3,2,0,3,0,2,2,0,0,5,0,2,1,0,5,0,3,0,4,0,3,5,3,5,3,0,0,3,3,3,3,0,0,1,0,1,3,3,3,5,3,3,0,3,1,3,3,2,0,0,0,0,0,3,2,1,3,1,3,1,3,0,0,0,0,0,1,1,3,3,1,3,3,1,3,3,3,0,3,3,3,3,1,1,3,3,0,0,0,0,0,1,3,3,0,4,0,0,1,0,1,0,0,1,3,2,2,5,5,5,5,5,5,5,3,4,0,0,0,1,1,5,5,3,4,3,5,4,5,0,0,0,0,0,0,0,0,0,0,0,0,3,0,5,0,3,5,3,5,3,3,5,0,4,3,0,5,4,3,0,3,4,0,0,3,5,3,3,3,0,3,0,5,3,3,0,2,2,2,3,2,2,3,3,3,3,0,0,0,0,0,0,0,0,0,0,0,0,0,0,0,0,0,0,2,3,1,3,3,0,3,3,3,4,4,5,3,3,3,3,5,3,0,1,0,0,1,0,0,0,0,0,3,3,0,5,3,3,3,3,3,3,3,3,3,3,3,0,0,0,0,0,0,5,5,0,4,0,5,0,2,0,5,5,3,3,3,4,0,3,5,3,3,4,0,0,4,5,0,4,4,2,3,4,3,4,0,0,4,0,5,3,0,0,0,3,0,3,4,5,4,0,3,0,3,4,0,5,5,5,2,2,0,5,0,0,0,3,4,4,4,0,0,0,5,0,0,4,4,0,0,0,0,0,5,3,3,3,3,0,3,3,0,0,0,5,3,3,3,3,0,3,3,3,3,0,3,4,4,5,0,5,2,5,3,2,4,3,3,3,1,3,2,3,5,3,0,0,3,3,4,0,3,4,0,3,0,0,0,0,0,0,0,0,0,0,0,0,0,0,0,0,3,1,0,0,1,3,0,0,3,4,1,1,0,0,0,0,0,0,0,0,0,0,0,0,0,0,0,0,0,0,3,3,5,1,1,3,0,0,0,0,0,0,0,3,2,4,4,3,1,1,0,0,1,5,0,5,0,3,4,5,3,3,3,3,3,3,2,3,2,0,3,3,3,4,5,3,0,0,1,4,0,0,0,0,0,0,0,3,4,4,0,3,4,0,4,5,4,5,5,0,4,5,2,5,2,2,2,2,3,3,3,3,3,3,3,3,3,3,3,4,2,2,3,5,3,0,0,3,3,1,0,1,3,5,2,3,0,4,2,2,2,3,5,3,1,1,0,0,4,5,2,5,0,4,4,4,4,4,4,3,3,3,3,3,3,3,3,1,4,3,4,3,3,0,4,4,0,1,1,3,4,0,3,3,0,5,4,4,4,5,0,3,0,0,3,0,4,0,0,0,0,0,0,5,3,3,4,1,2,4,4,2,1,1,0,4,0,0,4,0,5,0,3,1,1,0,0,0,0,0,0,0,0,0,5,1,0,3,3,1,4,4,4,4,4,4,1,1,4,1,3,1,0,0,0,0,3,5,0,5,3,3,4,4,5,3,4,5,0,5,2,0,4,5,3,3,5,0,4,1,0,4,5,3,1,5,0,0,0,0,0,5,5,1,1,0,1,1,1,0,0,0,5,0,0,0,3,5,2,3,0,1,0,0,0,0,4,1,3,3,0,0,5,0,3,4,0,0,0,2,0,5,5,5,0,0,4,5,3,3,3,3,3,4,5,4,0,0,4,2,1,4,2,3,0,5,0,0,0,0,5,5,5,5,4,0,0,3,3,3,5,0,0,0,4,5,1,4,0,4,0,0,3,5,0,4,3,4,5,4,0,0,0,0,0,0,5,0,0,0,0,0,0,0,0,0,0,0,0,0,0,0,0,0,4,3,4,3,3,5,3,3,3,3,3,0,1,4,0,2,4,4,3,3,2,3,3,4,3,3,3,3,2,0,0,0,4,0,3,3,3,3,3,3,4,3,4,3,3,3,3,3,3,5,3,3,0,4,0,0,0,0,0,0,0,0,0,0,0,0,4,0,0,0,0,0,0,0,0,0,0,0,0,0,0,5,4,5,1,4,3,4,3,3,0,0,0,3,3,3,3,4,0,0,1,3,5,4,0,3,1,3,3,4,4,4,0,3,3,0,3,0,0,2,0,4,4,4,3,5,1,3,3,4,4,3,5,3,3,3,4,3,3,3,3,4,3,4,4,3,0,5,5,0,5,5,0,0,5,5,5,5,0,5,5,5,5,5,5,5,5,5,5,5,5,5,5,5,5,5,5,5,5,5,5,5,5,5,5,5,0,5,5,5,5,5,5,5,5,5,5,5,5,5,5,5,5,5,5,5,5,1,4,5,4,2,0,0,5,3,0,2,3,0,2,3,3,3,0,0,4,4,3,4,0,0,0,0,0,0,0,0,0,3,3,3,1,3,0,5,3,3,2,2,1,3,2,3,4,2,3,5,0,3,0,0,4,0,0,4,4,3,3,4,3,3,3,3,3,3,3,3,3,4,0,0,3,3,3,3,3,0,3,3,3,3,3,5,3,0,3,5,3,0,0,3,3,5,3,3,3,3,3,4,3,3,3,4,0,3,5,3,5,3,3,3,5,0,5,0,5,0,3,1,3,3,3,3,3,3,4,3,1,1,1,1,1,1,1,1,1,1,1,1,1,1,1,1,1,1,1,1,2,0,1,1,1,0,0,0,5,4,3,5,3,3,4,4,4,4,4,1,0,0,0,1,5,0,4,0,4,3,1,5,0,0,4,4,4,4,4,4,4,3,4,4,1,1,1,3,0,0,0,0,3,0,0,0,0,0,3,4,0,3,4,0,4,5,0,3,0,0,0,5,3,5,0,0,4,0,1,5,3,4,4,3,3,4,0,5,1,3,5,0,4,3,3,4,3,0,3,4,0,0,0,0,0,3,5,5,5,5,3,4,0,3,4,3,5,3,0,2,0,0,0,0,3,0,5,0,3,0,4,3,0,3,5,3,4,0,1,0,3,5,3,5,2,0,4,3,5,3,3,3,2,0,0,2,3,1,1,1,1,1,1,1,1,1,1,1,2,0,0,0,0,0,0,4,1,2,2,1,1,0,0,0,2,1,3,3,0,3,3,3,2,3,5,3,3,4,2,4,3,3,4,4,4,4,4,4,3,3,3,3,3,2,3,0,5,0,5,0,0,5,2,5,0,0,0,0,5,0,3,4,3,0,0,0,3,3,4,5,5,2,2,2,2,2,2,3,2,2,2,5,3,3,4,4,1,4,0,0,3,0,0,0,0,0,0,3,3,3,3,3,0,3,4,0,3,4,0,1,4,0,3,4,3,2,2,3,3,3,3,0,0,3,3,2,3,1,0,0,2,1,1,1,1,1,1,1,1,1,1,1,1,1,1,1,2,0,1,2,2,4,4,2,2,0,4,0,2,2,0,5,3,2,5,4,0,0,0,3,2,2,3,2,2,2,2,4,3,3,3,3,3,3,5,3,0,3,5,1,3,1,0,3,2,3,3,2,3,1,2,0,3,4,2,1,1,1,3,1,3,0,5,0,1,0,1,1,1,5,5,0,5,1,2,4,5,5,3,4,1,5,0,3,0,0,0,0,0,0,0,5,5,5,3,3,0,2,0,0,3,4,5,0,4,3,3,3,5,3,3,0,3,2,4,4,4,1,1,1,1,0,0,1,5,4,3,4,4,0,3,1,3,5,5,5,0,0,0,0,0,0,0,0,3,0,3,0,0,1,1,5,1,1,1,0,1,2,0,0,0,0,0,0,0,0,0,2,1,1,1,1,4,0,0,0,0,0,0,0,0,0,0,0,0,0,0,5,4,1,0,0,4,4,1,2,3,3,5,4,1,3,0,3,3,3,1,1,1,1,1,1,1,1,1,1,1,1,3,3,3,5,0,4,3,3,3,4,3,1,3,0,0,0,0,3,0,3,0,0,5,3,5,0,0,0,0,5,5,0,4,5,4,0,0,5,0,1,4,5,5,0,0,0,0,0,0,0,0,0,0,0,0,0,0,0,0,0,0,0,0,0,0,0,0,0,0,0,0,0,0,0,0,0,0,5,3,5,3,0,0,0,0,0,0,0,0,0,0,0,0,0,0,0,0,0,0,0,0,0,0,0,0,0,0,0,5,4,0,4,0,5,0,0,0,0,3,3,0,0,0,0,0,0,0,0,0,0,4,4,5,3,5,0,4,4,5,5,0,4,4,0,0,0,2,0,5,0,5,0,4,5,3,3,3,3,4,0,4,0,1,1,0,5,2,2,3,2,5,4,0,3,0,3,0,1,1,1,3,1,2,0,1,1,0,0,3,0,1,1,3,5,1,4,3,4,5,3,2,2,1,2,0,1,3,4,3,3,3,3,4,3,0,0,3,1,3,3,5,0,3,4,3,4,3,3,3,3,4,3,3,5,3,3,1,0,3,5,1,5,2,3,5,5,3,4,3,1,3,0,0,3,3,3,5,0,5,3,0,5,4,5,0,0,3,5,0,3,4,5,5,5,0,5,4,3,3,4,0,3,1,4,5,3,5,5,5,1,0,0,0,0,3,0,3,3,3,4,0,4,1,5,0,4,0,3,5,3,4,1,4,0,4,3,3,0,4,0,2,3,0,3,3,3,3,4,0,3,5,3,3,0,3,1,1,1,1,3,0,4,0,5,3,3,0,3,1,0,1,1,0,0,4,1,1,4,3,3,1,3,5,1,4,4,3,0,2,4,5,0,5,0,0,0,0,5,5,4,5,0,4,3,0,0,0,0,4,0,5,0,0,0,5,0,1,5,3,5,4,0,3,0,3,0,1,4,5,2,5,3,3,3,3,4,3,5,4,0,4,5,0,0,2,4,2,3,5,0,0,5,4,3,3,3,3,0,0,0,4,3,4,5,3,3,5,0,0,4,2,4,0,5,0,5,1,5,3,4,0,5,5,3,5,0,0,0,0,4,0,4,0,0,3,4,4,4,0,5,0,0,0,0,0,0,0,0,0,0,0,0,0,0,4,4,2,5,2,2,4,3,1,1,1,4,4,5,2,2,0,2,2,3,4,4,4,2,4,3,2,5,0,3,0,0,3,0,0,1,4,2,3,3,4,3,1,4,3,0,0,2,0,3,4,3,5,4,5,1,1,3,4,3,0,0,3,5,1,0,5,0,5,3,5,5,4,3,0,0,5,0,5,5,0,0,2,3,3,3,3,0,0,3,0,0,0,0,0,3,1,4,3,1,0,3,3,4,4,4,5,2,4,5,0,0,1,3,4,0,1,0,3,3,4,0,0,0,1,5,3,1,0,1,3,3,3,5,1,3,1,0,0,5,1,0,1,3,0,0,4,0,0,1,4,5,1,1,3,1,5,5,1,1,1,0,1,0,1,1,1,0,4,1,1,0,0,3,1,0,0,1,0,0,3,0,3,1,0,1,0,1,0,1,4,0,0,0,0,0,0,0,0,1,3,3,0,1,2,3,0,0,0,3,1,0,4,3,3,0,3,5,5,0,5,1,4,3,1,0,0,0,0,0,0,4,3,3,3,0,0,0,5,3,0,0,0,0,0,2,4,3,3,3,0,0,0,4,4,0,3,4,1,0,1,4,4,1,4,4,5,4,4,0,1,4,4,3,0,3,0,0,3,3,1,0,0,0,3,5,3,5,3,0,3,4,4,0,5,0,0,0,0,3,4,0,0,0,0,5,0,5,3,4,3,4,2,3,2,3,1,1,1,3,4,1,3,5,1,1,3,3,1,3,5,3,1,0,4,4,1,5,1,0,3,1,3,4,0,1,4,0,5,1,1,0,3,4,4,4,1,1,1,0,3,1,1,1,1,0,0,0,2,1,0,0,0,0,0,2,4,0,0,0,0,0,1,1,1,0,0,0,2,1,3,2,0,2,0,2,1,5,2,3,2,5,0,0,0,0,0,3,3,1,4,1,3,1,3,1,1,0,1,5,0,0,1,5,2,3,2,3,2,0,1,1,4,2,0,2,1,3,3,2,2,3,1,3,3,1,4,2,4,1,2,1,5,5,1,4,1,4,4,4,0,4,1,3,5,4,4,3,4,3,3,3,5,0,4,3,5,3,0,4,3,2,2,4,4,2,4,5,4,4,5,3,3,2,5,2,3,5,4,2,2,1,0,2,4,4,2,5,5,5,5,0,5,5,5,5,4,0,0,3,0,4,5,3,3,4,5,3,3,3,4,0,0,0,0,5,3,4,4,4,2,4,0,4,3,4,5,4,4,5,5,5,4,4,5,5,3,1,1,1,0,0,4,3,5,2,0,3,2,5,0,0,0,0,0,0,3,0,0,4,0,0,4,0,0,0,0,0,0,0,4,2,4,0,0,0,2,4,0,0,3,1,4,3,3,4,4,4,1,3,0,3,3,3,0,0,1,0,4,0,3,0,3,3,3,2,3,3,5,2,2,5,3,2,2,3,2,2,2,3,3,0,3,3,3,3,2,0,1,0,0,0,0,4,3,4,1,4,3,4,3,1,0,5,3,0,5,2,5,5,5,4,5,4,4,4,4,5,0,4,5,0,3,4,1,0,0,0,0,0,0,4,3,4,0,0,5,3,5,3,4,3,4,0,3,0,4,4,4,0,3,4,3,3,0,4,3,0,0,3,0,0,0,3,3,0,5,4,1,0,3,0,3,3,0,5,3,3,3,0,5,3,1,1,1,3,4,3,3,3,3,1,0,5,3,4,3,3,5,0,3,0,0,1,3,5,4,0,5,0,0,5,0,3,1,1,5,1,1,1,1,1,1,1,2,1,1,1,0,0,1,1,1,1,1,1,1,1,1,1,1,1,1,1,1,1,1,1,1,1,1,1,1,1,3,0,4,3,1,1,1,0,3,3,2,5,3,5,0,0,0,0,3,3,0,1,1,4,3,4,3,4,0,3,3,0,4,3,5,5,0,0,0,0,0,3,3,0,0,4,3,3,0,4,3,4,3,4,0,1,0,3,5,0,4,3,3,4,3,5,4,3,0,3,0,3,3,3,3,5,5,1,3,3,3,5,1,0,3,0,5,0,3,4,5,4,3,2,0,3,2,3,3,0,3,3,4,3,3,4,5,3,3,0,0,4,3,3,0,5,3,1,4,5,0,1,0,0,3,3,3,0,3,5,0,5,4,0,0,3,3,0,3,3,0,0,0,0,0,0,0,0,0,0,0,0,2,3,3,3,3,3,0,0,3,4,0,3,3,3,5,4,3,1,3,3,3,3,3,3,3,5,3,3,0,0,0,0,0,0,0,0,0,0,0,0,0,0,0,0,0,5,3,3,3,0,3,3,4,3,4,3,0,0,3,1,3,3,3,3,5,3,3,3,3,0,0,3,5,4,0,3,3,3,3,1,3,3,1,4,3,3,4,0,0,0,0,5,4,3,3,0,3,3,4,3,3,3,3,3,3,3,0,0,3,3,3,1,4,1,0,4,3,4,1,0,3,0,3,3,4,3,3,0,3,3,5,1,1,3,3,3,5,2,3,0,4,0,4,3,0,0,3,3,0,0,3,4,5,0,3,3,3,4,2,3,3,3,3,3,3,0,0,0,0,0,0,1,3,3,3,4,3,3,3,3,3,3,3,5,4,1,3,4,0,0,0,0,0,0,0,0,0,0,0,2,4,3,3,3,4,3,3,4,3,1,5,3,5,4,3,4,3,3,0,3,5,3,0,4,3,3,5,5,5,4,5,3,3,3,3,3,0,1,3,5,5,3,3,5,0,0,3,5,3,3,5,1,5,5,4,4,5,4,0,0,3,0,4,3,5,4,3,4,2,2,3,3,3,2,4,2,2,3,4,2,3,4,0,5,3,5,3,0,0,5,3,3,0,5,3,3,3,4,0,5,3,3,3,3,4,5,3,3,5,3,3,3,3,5,0,3,3,5,3,5,0,3,5,4,3,3,3,5,4,3,3,4,5,5,3,2,0,3,3,3,2,3,3,5,5,0,3,3,2,3,5,4,3,3,3,0,5,1,3,5,3,4,4,4,4,0,5,3,2,5,5,3,0,5,0,5,2,3,3,4,4,3,4,3,0,4,5,3,4,4,5,1,0,4,4,3,5,3,2,3,3,3,5,3,3,3,0,3,2,4,1,3,4,4,2,3,0,3,4,3,3,0,1,1,4,5,4,2,3,5,4,2,3,2,5,3,5,3,5,3,3,2,3,0,5,3,3,3,3,3,3,2,1,3,5,3,1,1,4,2,3,4,5,3,3,5,2,3,3,1,3,4,3,3,3,3,5,5,3,2,3,4,2,3,4,3,3,3,4,2,3,3,3,0,3,3,3,3,1,3,2,2,4,0,5,4,5,0,3,0,3,0,0,2,3,4,0,2,2,2,3,2,3,2,2,2,3,2,4,2,3,2,2,2,3,2,3,2,2,3,2,3,1,1,1,1,1,1,2,3,2,4,3,5,3,4,2,0,0,4,3,4,3,3,3,2,4,2,5,4,4,3,4,2,2,4,0,5,3,4,3,4,4,4,2,3,4,2,3,0,2,0,4,4,2,4,0,4,4,4,4,0,3,4,4,3,4,4,4,0,4,4,4,4,4,4,4,4,4,4,0,3,4,4,3,2,0,3,3,3,4,3,4,5,4,4,0,4,3,1,3,4,3,3,3,3,3,3,4,3,4,4,3,3,3,4,5,3,3,4,3,5,3,3,0,3,4,3,3,3,5,3,0,3,3,3,3,3,3,5,0,5,3,4,3,5,5,0,0,0,5,3,1,0,5,3,0,5,3,5,0,5,5,5,3,0,5,5,3,3,4,3,5,0,0,0,3,0,4,0,0,3,5,3,3,2,5,3,3,3,5,3,3,2,3,5,5,0,0,5,5,3,5,3,3,3,3,5,5,5,3,1,3,0,3,3,5,0,0,0,0,0,4,3,3,1,0,0,3,3,3,3,5,3,3,3,2,5,3,4,5,5,0,4,3,3,0,4,4,4,5,4,4,4,5,0,4,0,3,4,4,4,3,4,4,5,5,4,0,0,3,2,1,3,1,4,0,5,4,5,1,0,4,3,0,0,4,3,1,0,0,0,0,3,0,0,3,5,0,0,0,0,0,0,0,0,0,0,0,0,0,0,0,5,5,0,0,0,5,0,0,3,0,0,3,2,2,2,2,4,3,2,4,5,0,0,2,3,3,4,2,2,4,0,2,2,3,4,5,3,2,0,0,0,4,0,2,3,2,3,3,4,3,3,3,3,3,3,3,2,1,3,3,5,0,0,1,5,1,3,4,4,5,3,4,3,5,0,3,3,3,3,3,5,3,3,3,3,3,3,3,2,5,3,0,0,0,0,0,3,3,3,5,3,5,1,5,0,1,0,4,0,4,0,3,3,1,5,0,0,5,1,1,0,0,0,1,1,0,0,1,0,1,1,1,4,0,0,1,0,1,4,1,3,0,0,4,4,4,0,0,5,2,5,0,0,3,3,3,3,3,0,0,0,0,0,0,0,0,0,0,0,0,5,3,4,0,3,4,4,0,0,4,0,3,3,0,4,3,3,5,0,0,0,0,5,0,3,3,3,3,4,5,3,4,3,3,4,0,0,4,4,4,4,4,0,3,4,4,4,5,4,5,3,5,4,3,4,3,4,4,4,3,4,4,4,4,4,4,4,0,0,0,0,0,1,0,3,0,3,3,3,1,2,3,3,1,1,1,0,3,3,5,5,0,3,3,3,2,0,5,3,3,3,3,3,3,3,4,3,3,3,2,4,4,4,1,4,4,3,4,4,4,4,2,5,3,4,3,3,3,3,3,4,3,3,4,3,3,5,5,3,3,5,5,3,5,5,5,4,5,3,5,3,3,5,0,3,5,4,3,5,3,3,0,3,5,3,3,3,3,4,3,3,3,3,3,0,5,3,3,4,3,0,3,0,5,3,3,3,5,2,0,0,3,3,3,3,3,4,0,0,3,3,0,0,1,3,0,3,3,0,1,3,3,3,3,3,0,3,3,3,3,3,0,3,3,5,4,3,4,3,4,0,4,3,0,4,3,4,3,3,4,4,4,4,4,0,0,3,0,3,4,0,3,3,3,4,4,3,3,3,3,3,3,4,1,3,4,3,4,3,3,0,4,4,3,4,4,3,3,4,4,3,4,3,3,4,1,3,4,3,4,4,3,4,4,4,0,3,4,4,3,4,4,3,3,5,0,3,3,5,5,1,0,5,0,4,0,0,1,3,0,3,3,4,3,0,3,4,5,0,1,5,3,0,5,3,3,3,3,0,0,0,0,3,0,4,3,0,0,4,0,3,0,3,4,5,0,1,5,3,0,5,3,3,3,3,0,0,0,0,3,0,4,3,0,0,4,0,3,4,3,5,4,4,5,5,5,5,5,0,5,1,5,3,4,1,3,3,3,3,3,3,3,3,3,1,1,1,1,1,1,4,0,0,0,0,3,3,3,3,3,4,4,4,0,0,4,0,3,3,4,0,3,4,3,3,4,3,4,4,4,3,0,0,4,0,0,4,3,4,4,2,0,3,0,4,0,0,4,2,1,1,0,4,4,4,0,3,3,3,3,3,4,0,4,1,0,4,1,4,4,1,4,1,1,3,1,4,4,4,5,1,0,1,4,3,4,1,5,1,3,4,4,1,1,1,1,1,1,3,1,3,3,1,1,1,3,1,4,1,3,1,1,0,1,0,0,5,1,1,0,0,4,1,3,1,5,0,5,0,4,4,5,0,5,3,0,0,0,0,4,0,1,5,5,5,1,2,1,4,1,1,1,3,4,1,0,1,1,5,1,1,5,0,2,0,0,4,0,0,0,3,3,3,0,0,0,4,0,4,5,3,0,0,3,4,0,5,3,3,4,5,1,5,4,0,3,3,3,3,3,3,4,4,4,4,0,1,1,5,4,4,0,5,3,3,5,3,3,0,3,3,4,3,4,3,4,0,0,0,0,4,0,3,0,1,3,4,3,5,3,0,0,3,5,3,5,3,3,3,3,4,0,3,3,5,1,3,3,3,0,4,0,4,5,3,3,0,0,0,0,0,0,0,3,0,3,0,5,0,3,4,1,0,3,3,3,3,0,3,5,3,3,4,3,3,3,0,0,3,3,3,5,4,1,0,3,0,4,1,4,3,1,0,0,5,0,1,0,4,5,0,3,3,5,0,3,1,0,0,0,0,0,1,0,3,5,1,0,1,0,4,3,4,3,3,3,3,0,4,3,3,5,3,3,0,3,5,0,0,0,3,0,0,3,0,3,1,0,0,1,0,0,0,0,2,0,3,3,3,0,3,0,5,4,3,0,3,0,4,5,4,0,0,5,3,0,0,5,1,0,0,3,1,5,1,0,0,1,1,4,3,0,1,0,3,4,3,5,3,3,4,4,4,0,0,3,1,4,0,3,3,4,4,5,0,0,4,3,4,3,2,0,4,4,4,4,0,4,3,4,4,1,4,4,4,3,0,4,0,4,3,4,4,4,3,5,5,4,1,3,4,4,3,0,0,0,0,0,4,0,4,3,0,3,1,5,3,3,3,3,3,1,4,4,5,5,0,5,5,3,0,4,5,4,5,1,1,1,1,3,3,3,5,0,3,4,3,5,3,1,3,5,5,3,4,3,3,0,3,3,1,1,0,1,3,0,1,2,1,3,0,3,1,3,5,5,1,3,3,1,1,3,1,0,0,2,3,0,4,3,0,0,0,3,5,0,3,4,3,0,3,4,0,5,3,4,3,4,5,1,1,1,3,3,0,5,4,1,4,0,3,0,0,0,5,1,0,0,2,5,0,3,0,0,4,1,0,1,0,3,4,2,4,0,3,3,3,3,5,5,0,0,0,3,3,0,0,3,5,3,3,4,3,5,5,3,5,5,3,3,3,5,5,0,5,3,5,3,4,5,4,1,5,0,4,3,1,0,0,4,0,0,5,0,0,0,0,5,0,2,0,0,5,0,5,0,1,0,3,3,0,3,3,0,0,1,1,0,0,0,3,0,0,0,0,0,4,5,4,0,5,4,3,0,0,5,0,3,5,3,5,4,0,0,0,4,3,0,4,3,4,4,5,4,0,0,3,3,3,3,3,5,3,3,0,5,5,0,0,3,3,1,1,1,3,3,3,1,4,4,0,0,2,1,3,3,5,3,3,1,1,3,3,3,3,1,4,3,2,1,3,3,4,4,3,0,0,0,3,0,3,4,1,3,5,3,4,3,5,3,0,2,3,1,0,0,0,0,0,3,4,0,0,0,3,3,3,4,4,3,4,4,3,5,3,4,4,5,4,4,2,5,1,3,4,3,0,0,0,0,0,0,0,1,5,3,0,3,2,0,0,3,4,3,5,3,5,5,5,0,0,4,4,5,4,5,5,3,5,3,5,5,5,5,1,5,0,1,5,5,3,0,1,3,5,5,1,0,5,0,5,5,5,5,5,5,4,4,5,5,5,5,0,5,5,5,5,4,3,5,5,5,5,4,4,4,4,0,5,5,4,4,2,0,3,5,3,0,0,0,0,1,5,0,4,0,0,0,0,0,0,0,0,0,0,0,0,0,0,0,0,0,2,0,0,0,0,0,0,1,0,0,4,3,3,4,4,3,3,3,4,3,5,3,3,0,4,0,3,3,4,0,3,4,2,3,2,0,0,1,0,1,0,0,1,1,5,4,3,0,5,4,0,0,0,0,0,2,3,0,0,1,1,1,1,1,1,1,1,1,1,1,0,3,0,4,3,4,3,4,4,4,4,4,3,5,4,3,3,1,1,1,3,0,3,5,2,3,3,4,3,4,4,0,3,3,4,1,5,3,1,3,4,3,5,3,3,4,3,3,3,0,5,5,0,3,5,0,3,2,5,3,2,4,2,5,4,3,3,5,3,0,3,0,4,4,5,4,0,0,3,4,0,4,5,2,0,5,0,0,0,0,0,4,0,2,0,5,0,0,0,3,4,2,4,0,0,0,0,3,3,0,3,0,0,0,0,5,0,1,2,0,4,0,0,0,0,0,0,0,0,0,0,0,0,0,0,0,0,0,0,0,0,0,2,4,3,1,4,1,3,5,3,0,0,0,3,3,0,3,1,4,3,0,2,3,3,4,0,0,2,3,0,0,0,0,0,0,0,0,0,0,3,3,0,1,3,4,5,0,0,3,0,1,0,5,4,4,4,3,5,4,5,0,0,3,0,5,5,5,5,5,2,5,0,3,4,5,4,3,1,1,5,5,3,1,0,3,0,0,0,5,5,5,5,5,4,0,3,5,1,2,2,0,5,1,0,4,3,3,3,0,0,5,3,0,4,4,3,5,0,0,5,3,0,0,0,1,1,0,0,0,0,0,0,0,0,0,5,0,5,0,0,5,5,5,5,5,5,5,5,5,5,5,0,5,5,5,5,5,5,0,5,5,5,5,5,5,5,0,5,4,5,0,5,5,5,0,5,5,5,5,5,4,5,5,5,5,5,0,5,5,5,5,5,5,5,5,5,5,3,3,0,0,0,0,0,0,0,0,0,0,0,0,0,0,0,0,0,0,0,0,0,0,0,0,0,4,4,3,3,3,3,2,5,2,2,2,2,1,1,3,0,5,0,0,0,3,1,4,5,3,3,0,0,3,2,0,0,4,3,1,1,1,1,1,1,1,1,0,2,0,0,5,4,4,1,0,4,1,0,0,0,3,4,3,3,0,0,4,5,1,1,1,0,1,1,1,1,3,0,1,5,0,1,3,0,0,0,0,0,0,0,0,0,0,0,3,4,5,3,3,0,0,0,3,3,5,0,0,0,0,0,0,0,0,0,0,0,0,0,0,3,3,0,1,5,3,5,5,2,5,0,0,0,1,1,1,4,4,3,4,0,3,3,5,0,3,3,3,3,3,5,3,0,3,3,0,4,3,5,4,4,0,5,5,1,3,0,0,0,0,0,1,5,0,0,3,0,3,5,3,3,1,3,2,4,4,3,2,1,3,3,3,3,4,0,3,0,3,1,3,1,0,3,0,0,5,5,5,0,0,3,3,3,5,5,0,3,4,3,3,3,0,0,0,4,5,4,2,2,2,4,4,4,4,4,4,1,5,4,3,2,0,4,3,0,0,5,3,3,1,4,5,4,0,0,0,0,0,1,1,1,1,1,4,5,1,0,0,1,0,2,5,2,3,5,5,5,5,5,3,2,2,3,3,3,5,4,1,5,2,0,3,1,1,3,5,3,4,0,0,4,0,0,3,0,3,0,0,1,5,5,3,5,4,3,0,0,4,0,4,0,3,1,3,4,4,4,4,3,4,1,1,4,4,3,3,3,5,5,0,1,0,0,5,4,0,3,4,5,0,5,5,0,4,4,3,3,0,0,3,0,5,0,3,0,3,5,0,3,5,4,2,0,0,0,3,0,3,3,0,1,0,2,0,4,3,0,2,0,0,5,2,0,0,0,3,3,4,0,5,3,0,3,0,3,5,2,3,1,5,4,0,5,3,0,2,3,3,3,2,2,4,0,3,1,1,0,2,0,2,4,4,3,0,1,2,5,3,3,2,2,3,4,0,4,4,0,4,4,5,0,3,4,4,4,4,3,5,3,1,0,0,0,0,0,4,5,3,0,5,3,3,3,3,3,4,4,2,0,1,2,2,4,1,2,0,3,4,1,3,5,0,0,4,0,3,0,3,0,5,4,4,2,4,0,0,0,0,0,2,0,0,3,3,0,0,0,0,1,1,3,1,3,5,3,0,0,5,4,4,3,1,0,3,5,3,4,5,3,4,4,5,3,0,4,0,3,3,3,0,1,1,1,1,1,1,3,1,1,1,1,1,1,1,1,1,1,1,1,1,1,1,1,1,4,2,4,0,3,3,3,3,4,3,3,0,1,4,3,3,0,0,3,3,0,3,1,4,3,4,4,3,3,1,1,1,0,5,4,4,4,4,4,4,3,4,4,4,0,0,0,3,5,2,1,2,4,0,0,0,2,3,0,3,3,2,4,0,0,0,0,0,0,0,0,0,0,0,5,5,0,0,5,0,1,5,0,1,5,3,3,1,3,3,3,0,1,0,4,0,1,0,0,0,0,0,0,0,0,0,0,0,0,3,0,3,0,0,0,0,3,0,0,0,0,0,0,0,4,3,3,3,0,0,2,0,0,2,5,1,0,4,0,3,3,3,3,3,3,3,3,3,3,3,3,3,3,3,3,3,3,3,3,0,3,0,4,3,3,0,0,0,0,3,3,3,3,3,3,3,3,3,3,2,2,2,4,5,3,1,1,1,1,1,1,1,1,1,1,1,1,1,1,1,1,1,1,1,1,1,1,1,1,1,1,1,1,3,3,3,1,0,0,0,0,0,0,0,0,0,0,4,0,0,5,0,3,3,3,3,3,3,0,3,5,3,0,0,0,5,0,0,0,5,2,3,0,0,4,3,1,5,0,3,0,0,0,3,3,3,0,0,0,3,3,3,1,3,3,3,1,2,3,3,1,1,1,1,1,1,5,4,5,4,0,3,3,3,3,0,3,3,4,3,3,4,0,3,3,4,4,0,2,0,3,3,0,0,3,0,0,3,5,0,0,0,0,0,0,0,0,2,4,1,1,1,1,1,1,1,1,3,3,0,3,3,3,3,0,1,1,4,1,3,0,2,1,0,1,3,0,0,0,0,0,0,0,0,0,0,0,1,1,4,1,3,3,2,0,5,0,5,4,5,4,5,3,4,3,4,5,4,4,3,5,3,0,0,3,0,4,4,4,5,3,3,3,3,0,5,3,4,4,5,5,4,5,1,0,4,4,2,5,4,1,3,3,4,0,4,4,4,4,1,4,4,3,3,1,5,3,4,1,3,0,3,3,3,3,4,4,4,5,4,4,4,4,4,4,0,5,0,0,0,5,4,5,5,4,4,2,0,2,5,5,5,4,0,0,3,5,2,1,3,0,1,3,4,1,4,3,5,5,0,3,3,3,5,5,0,3,3,5,5,5,0,0,3,5,5,5,5,3,3,1,3,5,3,5,3,5,0,5,4,3,5,5,1,0,3,2,3,2,2,2,2,2,0,3,0,4,3,0,3,0,3,3,0,0,1,4,3,0,5,5,4,5,0,3,3,5,5,4,5,4,4,5,0,1,3,3,5,5,3,4,3,5,0,4,1,0,0,0,0,4,0,3,5,5,2,3,3,3,4,1,1,3,3,1,1,0,1,0,1,3,4,3,5,0,5,0,0,0,0,0,0,0,0,5,1,0,1,5,3,4,1,5,5,1,3,1,5,2,4,0,0,0,0,0,5,3,0,3,5,3,3,4,0,0,0,0,0,0,4,1,2,3,3,0,3,4,3,0,2,1,4,5,3,0,0,3,5,5,5,0,0,3,5,4,5,0,5,5,5,5,5,5,5,5,5,5,5,5,3,5,5,5,5,5,5,5,5,3,4,3,4,0,3,4,0,0,5,4,3,3,3,3,3,4,3,5,0,0,5,3,0,0,4,4,4,4,4,4,2,3,3,0,0,0,4,3,0,3,0,4,3,1,1,1,1,1,4,2,4,5,4,4,0,4,3,3,5,3,0,3,3,0,0,0,3,0,0,0,0,0,0,0,0,0,0,2,3,2,4,2,3,4,2,3,2,0,0,0,0,0,0,0,0,3,3,2,4,2,2,5,2,0,4,2,4,4,0,5,0,5,0,4,0,0,0,0,3,4,0,0,0,0,2,0,4,2,5,3,2,0,2,1,1,1,1,1,1,1,1,2,1,1,0,3,3,3,3,2,3,3,3,3,2,2,0,2,2,4,3,2,2,2,5,0,3,2,0,5,2,5,4,4,3,0,0,3,4,3,0,3,4,1,1,1,1,1,1,3,5,3,1,3,5,0,4,3,0,1,3,3,3,3,5,3,3,3,4,3,3,4,3,3,3,3,3,5,3,3,3,3,3,5,4,4,3,4,4,4,3,0,3,3,4,4,3,5,3,1,4,4,4,4,4,1,0,3,3,4,1,3,3,5,3,4,3,3,3,5,3,3,3,3,4,3,5,3,5,3,3,3,3,4,1,0,4,0,0,4,0,3,0,3,3,3,0,1,3,1,4,3,5,5,3,0,3,3,4,3,5,3,3,3,3,3,2,0,3,3,2,3,3,4,2,3,0,3,2,2,3,3,5,3,3,3,3,2,3,5,2,2,0,4,5,3,3,3,3,1,3,4,4,0,2,4,2,3,5,4,5,0,3,3,3,5,3,3,3,5,0,3,3,0,3,4,4,3,0,5,4,3,3,4,3,3,4,3,3,0,0,3,5,3,4,3,0,1,3,5,3,4,3,3,0,3,0,3,0,3,1,5,0,0,0,0,0,0,0,0,4,4,0,0,5,3,1,3,5,0,0,0,0,0,3,3,3,3,3,3,0,4,4,3,3,0,4,3,3,3,3,3,0,3,1,3,3,3,3,3,3,3,3,3,3,3,3,5,3,3,3,3,3,5,0,3,5,5,3,3,3,5,2,3,5,0,5,3,5,4,0,0,3,3,3,0,3,3,3,3,3,3,3,2,5,3,0,3,0,3,3,0,0,4,3,4,3,3,1,1,3,3,3,3,0,4,0,5,0,3,5,3,1,3,5,4,0,3,3,0,0,0,0,2,3,5,1,0,0,0,0,0,0,0,0,0,0,0,0,0,0,0,0,5,0,3,2,1,1,3,4,5,3,5,5,3,0,0,1,0,0,0,0,0,0,0,4,3,0,0,3,3,3,4,3,5,3,3,0,4,0,3,4,0,3,3,3,4,3,4,3,3,3,3,3,3,3,3,1,1,5,1,4,0,0,0,0,4,0,0,5,4,5,4,0,0,0,5,5,0,4,3,5,3,3,5,0,3,0,1,1,2,3,1,3,0,0,0,0,4,3,3,4,3,3,3,0,1,1,1,3,3,0,3,3,0,1,4,5,0,0,3,0,3,4,3,4,0,3,3,5,5,4,0,0,0,4,3,3,3,3,0,4,5,0,4,5,4,1,0,0,0,0,0,0,0,0,3,5,3,2,3,0,0,4,1,1,1,3,3,3,3,5,1,2,3,0,3,3,0,0,0,0,0,0,0,0,0,0,3,3,0,4,3,3,3,1,3,3,3,4,3,5,3,3,5,3,5,3,3,0,3,3,3,3,3,3,3,0,0,5,3,1,0,3,3,3,0,3,5,0,3,3,0,0,1,1,1,1,1,1,1,1,1,1,3,5,3,3,0,3,4,3,3,3,3,3,0,3,4,5,3,3,0,3,3,0,3,3,3,3,3,3,3,3,3,5,3,3,3,3,5,3,3,4,3,5,3,3,3,1,1,1,2,1,2,2,2,1,3,3,3,4,3,3,3,5,3,3,3,3,5,3,4,5,4,0,3,3,3,3,0,3,3,3,3,5,3,3,3,3,4,3,3,3,3,3,3,3,3,5,3,3,0,0,0,0,0,0,0,3,3,3,3,3,3,4,3,3,3,3,4,3,5,3,3,3,3,4,3,3,3,3,1,1,1,1,1,3,3,0,3,3,4,1,3,4,3,3,4,4,4,0,0,3,3,3,3,4,3,4,3,1,3,4,5,5,3,3,3,3,4,0,4,4,5,4,4,4,4,4,4,4,1,4,5,5,4,3,0,4,4,4,3,3,3,3,4,4,4,5,3,3,0,4,0,0,0,0,3,4,4,3,4,3,0,3,4,3,3,4,0,2,3,3,4,3,0,0,0,3,4,4,3,3,4,3,3,3,3,2,3,2,4,3,3,3,3,3,3,2,3,3,3,3,3,3,4,2,4,3,4,0,4,3,2,4,4,5,3,3,4,3,4,3,4,3,4,3,5,3,5,3,3,0,3,3,3,3,3,5,3,3,1,3,0,3,4,3,4,4,4,3,3,3,0,4,3,3,3,4,0,4,3,1,4,3,2,5,3,4,3,3,5,3,5,3,1,3,2,2,3,5,3,1,4,3,5,4,5,3,4,4,5,0,0,4,3,4,4,2,4,1,0,4,0,3,0,4,0,3,5,5,2,3,5,5,3,0,2,5,3,0,1,5,5,5,2,3,1,4,5,5,5,5,4,3,3,4,5,4,4,3,4,4,5,3,5,4,4,4,5,4,3,4,2,4,3,5,4,3,3,0,0,4,4,5,4,3],\"xaxis\":\"x\",\"yaxis\":\"y\",\"type\":\"histogram\"}],                        {\"template\":{\"data\":{\"barpolar\":[{\"marker\":{\"line\":{\"color\":\"rgb(17,17,17)\",\"width\":0.5},\"pattern\":{\"fillmode\":\"overlay\",\"size\":10,\"solidity\":0.2}},\"type\":\"barpolar\"}],\"bar\":[{\"error_x\":{\"color\":\"#f2f5fa\"},\"error_y\":{\"color\":\"#f2f5fa\"},\"marker\":{\"line\":{\"color\":\"rgb(17,17,17)\",\"width\":0.5},\"pattern\":{\"fillmode\":\"overlay\",\"size\":10,\"solidity\":0.2}},\"type\":\"bar\"}],\"carpet\":[{\"aaxis\":{\"endlinecolor\":\"#A2B1C6\",\"gridcolor\":\"#506784\",\"linecolor\":\"#506784\",\"minorgridcolor\":\"#506784\",\"startlinecolor\":\"#A2B1C6\"},\"baxis\":{\"endlinecolor\":\"#A2B1C6\",\"gridcolor\":\"#506784\",\"linecolor\":\"#506784\",\"minorgridcolor\":\"#506784\",\"startlinecolor\":\"#A2B1C6\"},\"type\":\"carpet\"}],\"choropleth\":[{\"colorbar\":{\"outlinewidth\":0,\"ticks\":\"\"},\"type\":\"choropleth\"}],\"contourcarpet\":[{\"colorbar\":{\"outlinewidth\":0,\"ticks\":\"\"},\"type\":\"contourcarpet\"}],\"contour\":[{\"colorbar\":{\"outlinewidth\":0,\"ticks\":\"\"},\"colorscale\":[[0.0,\"#0d0887\"],[0.1111111111111111,\"#46039f\"],[0.2222222222222222,\"#7201a8\"],[0.3333333333333333,\"#9c179e\"],[0.4444444444444444,\"#bd3786\"],[0.5555555555555556,\"#d8576b\"],[0.6666666666666666,\"#ed7953\"],[0.7777777777777778,\"#fb9f3a\"],[0.8888888888888888,\"#fdca26\"],[1.0,\"#f0f921\"]],\"type\":\"contour\"}],\"heatmapgl\":[{\"colorbar\":{\"outlinewidth\":0,\"ticks\":\"\"},\"colorscale\":[[0.0,\"#0d0887\"],[0.1111111111111111,\"#46039f\"],[0.2222222222222222,\"#7201a8\"],[0.3333333333333333,\"#9c179e\"],[0.4444444444444444,\"#bd3786\"],[0.5555555555555556,\"#d8576b\"],[0.6666666666666666,\"#ed7953\"],[0.7777777777777778,\"#fb9f3a\"],[0.8888888888888888,\"#fdca26\"],[1.0,\"#f0f921\"]],\"type\":\"heatmapgl\"}],\"heatmap\":[{\"colorbar\":{\"outlinewidth\":0,\"ticks\":\"\"},\"colorscale\":[[0.0,\"#0d0887\"],[0.1111111111111111,\"#46039f\"],[0.2222222222222222,\"#7201a8\"],[0.3333333333333333,\"#9c179e\"],[0.4444444444444444,\"#bd3786\"],[0.5555555555555556,\"#d8576b\"],[0.6666666666666666,\"#ed7953\"],[0.7777777777777778,\"#fb9f3a\"],[0.8888888888888888,\"#fdca26\"],[1.0,\"#f0f921\"]],\"type\":\"heatmap\"}],\"histogram2dcontour\":[{\"colorbar\":{\"outlinewidth\":0,\"ticks\":\"\"},\"colorscale\":[[0.0,\"#0d0887\"],[0.1111111111111111,\"#46039f\"],[0.2222222222222222,\"#7201a8\"],[0.3333333333333333,\"#9c179e\"],[0.4444444444444444,\"#bd3786\"],[0.5555555555555556,\"#d8576b\"],[0.6666666666666666,\"#ed7953\"],[0.7777777777777778,\"#fb9f3a\"],[0.8888888888888888,\"#fdca26\"],[1.0,\"#f0f921\"]],\"type\":\"histogram2dcontour\"}],\"histogram2d\":[{\"colorbar\":{\"outlinewidth\":0,\"ticks\":\"\"},\"colorscale\":[[0.0,\"#0d0887\"],[0.1111111111111111,\"#46039f\"],[0.2222222222222222,\"#7201a8\"],[0.3333333333333333,\"#9c179e\"],[0.4444444444444444,\"#bd3786\"],[0.5555555555555556,\"#d8576b\"],[0.6666666666666666,\"#ed7953\"],[0.7777777777777778,\"#fb9f3a\"],[0.8888888888888888,\"#fdca26\"],[1.0,\"#f0f921\"]],\"type\":\"histogram2d\"}],\"histogram\":[{\"marker\":{\"pattern\":{\"fillmode\":\"overlay\",\"size\":10,\"solidity\":0.2}},\"type\":\"histogram\"}],\"mesh3d\":[{\"colorbar\":{\"outlinewidth\":0,\"ticks\":\"\"},\"type\":\"mesh3d\"}],\"parcoords\":[{\"line\":{\"colorbar\":{\"outlinewidth\":0,\"ticks\":\"\"}},\"type\":\"parcoords\"}],\"pie\":[{\"automargin\":true,\"type\":\"pie\"}],\"scatter3d\":[{\"line\":{\"colorbar\":{\"outlinewidth\":0,\"ticks\":\"\"}},\"marker\":{\"colorbar\":{\"outlinewidth\":0,\"ticks\":\"\"}},\"type\":\"scatter3d\"}],\"scattercarpet\":[{\"marker\":{\"colorbar\":{\"outlinewidth\":0,\"ticks\":\"\"}},\"type\":\"scattercarpet\"}],\"scattergeo\":[{\"marker\":{\"colorbar\":{\"outlinewidth\":0,\"ticks\":\"\"}},\"type\":\"scattergeo\"}],\"scattergl\":[{\"marker\":{\"line\":{\"color\":\"#283442\"}},\"type\":\"scattergl\"}],\"scattermapbox\":[{\"marker\":{\"colorbar\":{\"outlinewidth\":0,\"ticks\":\"\"}},\"type\":\"scattermapbox\"}],\"scatterpolargl\":[{\"marker\":{\"colorbar\":{\"outlinewidth\":0,\"ticks\":\"\"}},\"type\":\"scatterpolargl\"}],\"scatterpolar\":[{\"marker\":{\"colorbar\":{\"outlinewidth\":0,\"ticks\":\"\"}},\"type\":\"scatterpolar\"}],\"scatter\":[{\"marker\":{\"line\":{\"color\":\"#283442\"}},\"type\":\"scatter\"}],\"scatterternary\":[{\"marker\":{\"colorbar\":{\"outlinewidth\":0,\"ticks\":\"\"}},\"type\":\"scatterternary\"}],\"surface\":[{\"colorbar\":{\"outlinewidth\":0,\"ticks\":\"\"},\"colorscale\":[[0.0,\"#0d0887\"],[0.1111111111111111,\"#46039f\"],[0.2222222222222222,\"#7201a8\"],[0.3333333333333333,\"#9c179e\"],[0.4444444444444444,\"#bd3786\"],[0.5555555555555556,\"#d8576b\"],[0.6666666666666666,\"#ed7953\"],[0.7777777777777778,\"#fb9f3a\"],[0.8888888888888888,\"#fdca26\"],[1.0,\"#f0f921\"]],\"type\":\"surface\"}],\"table\":[{\"cells\":{\"fill\":{\"color\":\"#506784\"},\"line\":{\"color\":\"rgb(17,17,17)\"}},\"header\":{\"fill\":{\"color\":\"#2a3f5f\"},\"line\":{\"color\":\"rgb(17,17,17)\"}},\"type\":\"table\"}]},\"layout\":{\"annotationdefaults\":{\"arrowcolor\":\"#f2f5fa\",\"arrowhead\":0,\"arrowwidth\":1},\"autotypenumbers\":\"strict\",\"coloraxis\":{\"colorbar\":{\"outlinewidth\":0,\"ticks\":\"\"}},\"colorscale\":{\"diverging\":[[0,\"#8e0152\"],[0.1,\"#c51b7d\"],[0.2,\"#de77ae\"],[0.3,\"#f1b6da\"],[0.4,\"#fde0ef\"],[0.5,\"#f7f7f7\"],[0.6,\"#e6f5d0\"],[0.7,\"#b8e186\"],[0.8,\"#7fbc41\"],[0.9,\"#4d9221\"],[1,\"#276419\"]],\"sequential\":[[0.0,\"#0d0887\"],[0.1111111111111111,\"#46039f\"],[0.2222222222222222,\"#7201a8\"],[0.3333333333333333,\"#9c179e\"],[0.4444444444444444,\"#bd3786\"],[0.5555555555555556,\"#d8576b\"],[0.6666666666666666,\"#ed7953\"],[0.7777777777777778,\"#fb9f3a\"],[0.8888888888888888,\"#fdca26\"],[1.0,\"#f0f921\"]],\"sequentialminus\":[[0.0,\"#0d0887\"],[0.1111111111111111,\"#46039f\"],[0.2222222222222222,\"#7201a8\"],[0.3333333333333333,\"#9c179e\"],[0.4444444444444444,\"#bd3786\"],[0.5555555555555556,\"#d8576b\"],[0.6666666666666666,\"#ed7953\"],[0.7777777777777778,\"#fb9f3a\"],[0.8888888888888888,\"#fdca26\"],[1.0,\"#f0f921\"]]},\"colorway\":[\"#636efa\",\"#EF553B\",\"#00cc96\",\"#ab63fa\",\"#FFA15A\",\"#19d3f3\",\"#FF6692\",\"#B6E880\",\"#FF97FF\",\"#FECB52\"],\"font\":{\"color\":\"#f2f5fa\"},\"geo\":{\"bgcolor\":\"rgb(17,17,17)\",\"lakecolor\":\"rgb(17,17,17)\",\"landcolor\":\"rgb(17,17,17)\",\"showlakes\":true,\"showland\":true,\"subunitcolor\":\"#506784\"},\"hoverlabel\":{\"align\":\"left\"},\"hovermode\":\"closest\",\"mapbox\":{\"style\":\"dark\"},\"paper_bgcolor\":\"rgb(17,17,17)\",\"plot_bgcolor\":\"rgb(17,17,17)\",\"polar\":{\"angularaxis\":{\"gridcolor\":\"#506784\",\"linecolor\":\"#506784\",\"ticks\":\"\"},\"bgcolor\":\"rgb(17,17,17)\",\"radialaxis\":{\"gridcolor\":\"#506784\",\"linecolor\":\"#506784\",\"ticks\":\"\"}},\"scene\":{\"xaxis\":{\"backgroundcolor\":\"rgb(17,17,17)\",\"gridcolor\":\"#506784\",\"gridwidth\":2,\"linecolor\":\"#506784\",\"showbackground\":true,\"ticks\":\"\",\"zerolinecolor\":\"#C8D4E3\"},\"yaxis\":{\"backgroundcolor\":\"rgb(17,17,17)\",\"gridcolor\":\"#506784\",\"gridwidth\":2,\"linecolor\":\"#506784\",\"showbackground\":true,\"ticks\":\"\",\"zerolinecolor\":\"#C8D4E3\"},\"zaxis\":{\"backgroundcolor\":\"rgb(17,17,17)\",\"gridcolor\":\"#506784\",\"gridwidth\":2,\"linecolor\":\"#506784\",\"showbackground\":true,\"ticks\":\"\",\"zerolinecolor\":\"#C8D4E3\"}},\"shapedefaults\":{\"line\":{\"color\":\"#f2f5fa\"}},\"sliderdefaults\":{\"bgcolor\":\"#C8D4E3\",\"bordercolor\":\"rgb(17,17,17)\",\"borderwidth\":1,\"tickwidth\":0},\"ternary\":{\"aaxis\":{\"gridcolor\":\"#506784\",\"linecolor\":\"#506784\",\"ticks\":\"\"},\"baxis\":{\"gridcolor\":\"#506784\",\"linecolor\":\"#506784\",\"ticks\":\"\"},\"bgcolor\":\"rgb(17,17,17)\",\"caxis\":{\"gridcolor\":\"#506784\",\"linecolor\":\"#506784\",\"ticks\":\"\"}},\"title\":{\"x\":0.05},\"updatemenudefaults\":{\"bgcolor\":\"#506784\",\"borderwidth\":0},\"xaxis\":{\"automargin\":true,\"gridcolor\":\"#283442\",\"linecolor\":\"#506784\",\"ticks\":\"\",\"title\":{\"standoff\":15},\"zerolinecolor\":\"#283442\",\"zerolinewidth\":2},\"yaxis\":{\"automargin\":true,\"gridcolor\":\"#283442\",\"linecolor\":\"#506784\",\"ticks\":\"\",\"title\":{\"standoff\":15},\"zerolinecolor\":\"#283442\",\"zerolinewidth\":2}}},\"xaxis\":{\"anchor\":\"y\",\"domain\":[0.0,1.0],\"title\":{\"text\":\"value\"}},\"yaxis\":{\"anchor\":\"x\",\"domain\":[0.0,1.0],\"title\":{\"text\":\"count\"}},\"legend\":{\"title\":{\"text\":\"variable\"},\"tracegroupgap\":0},\"margin\":{\"t\":60},\"barmode\":\"relative\",\"bargap\":0.4},                        {\"responsive\": true}                    ).then(function(){\n",
              "                            \n",
              "var gd = document.getElementById('c21a18d1-b1e3-4982-b18d-0bae4b21800c');\n",
              "var x = new MutationObserver(function (mutations, observer) {{\n",
              "        var display = window.getComputedStyle(gd).display;\n",
              "        if (!display || display === 'none') {{\n",
              "            console.log([gd, 'removed!']);\n",
              "            Plotly.purge(gd);\n",
              "            observer.disconnect();\n",
              "        }}\n",
              "}});\n",
              "\n",
              "// Listen for the removal of the full notebook cells\n",
              "var notebookContainer = gd.closest('#notebook-container');\n",
              "if (notebookContainer) {{\n",
              "    x.observe(notebookContainer, {childList: true});\n",
              "}}\n",
              "\n",
              "// Listen for the clearing of the current output cell\n",
              "var outputEl = gd.closest('.output');\n",
              "if (outputEl) {{\n",
              "    x.observe(outputEl, {childList: true});\n",
              "}}\n",
              "\n",
              "                        })                };                            </script>        </div>\n",
              "</body>\n",
              "</html>"
            ]
          },
          "metadata": {}
        }
      ]
    },
    {
      "cell_type": "markdown",
      "source": [
        "# **Une majorité des frais de port sont compris entre 1,5 et 2 euros !**"
      ],
      "metadata": {
        "id": "cU7zfTE9cVPP"
      }
    },
    {
      "cell_type": "code",
      "source": [
        "#Comparaison cout total achat article et total Frais de port.\n",
        "\n",
        "DF_Count_price = DF['Prix_clean'].sum()\n",
        "\n",
        "DF_Count_fees = DF['FDP_clean'].sum()\n",
        "\n",
        "# Affichage des resultats\n",
        "\n",
        "print('le total des prix est de :', DF_Count_price)\n",
        "\n",
        "print('le total des frais de port est de :', DF_Count_fees)"
      ],
      "metadata": {
        "colab": {
          "base_uri": "https://localhost:8080/"
        },
        "id": "eLF_T3OnznH9",
        "outputId": "2f0997ed-fae0-4d2b-e59f-e360a0303b56"
      },
      "execution_count": 217,
      "outputs": [
        {
          "output_type": "stream",
          "name": "stdout",
          "text": [
            "le total des prix est de : 189477.6\n",
            "le total des frais de port est de : 16964.09\n"
          ]
        }
      ]
    },
    {
      "cell_type": "code",
      "source": [
        "#Camembert\n",
        "\n",
        "values = [189500, 17000]\n",
        "labels = ['Ventes', 'Frais de port']\n",
        " \n",
        "fig = px.pie(values=values, names=labels, width=400, height=400, hover_name=labels, title='Comparaison Vente Vs Fraid de port', color=labels,\n",
        "color_discrete_sequence = px.colors.sequential.haline)\n",
        "\n",
        "fig.layout.template = 'plotly_dark'\n",
        "\n",
        "fig.show()"
      ],
      "metadata": {
        "colab": {
          "base_uri": "https://localhost:8080/",
          "height": 417
        },
        "id": "r4MrL1XA-JKT",
        "outputId": "e02d9a2d-e0cd-4953-f951-62e3f5d2997b"
      },
      "execution_count": 218,
      "outputs": [
        {
          "output_type": "display_data",
          "data": {
            "text/html": [
              "<html>\n",
              "<head><meta charset=\"utf-8\" /></head>\n",
              "<body>\n",
              "    <div>            <script src=\"https://cdnjs.cloudflare.com/ajax/libs/mathjax/2.7.5/MathJax.js?config=TeX-AMS-MML_SVG\"></script><script type=\"text/javascript\">if (window.MathJax) {MathJax.Hub.Config({SVG: {font: \"STIX-Web\"}});}</script>                <script type=\"text/javascript\">window.PlotlyConfig = {MathJaxConfig: 'local'};</script>\n",
              "        <script src=\"https://cdn.plot.ly/plotly-2.8.3.min.js\"></script>                <div id=\"fcca7e3b-cd2e-4ea0-9b64-2a7d5d31ccdf\" class=\"plotly-graph-div\" style=\"height:400px; width:400px;\"></div>            <script type=\"text/javascript\">                                    window.PLOTLYENV=window.PLOTLYENV || {};                                    if (document.getElementById(\"fcca7e3b-cd2e-4ea0-9b64-2a7d5d31ccdf\")) {                    Plotly.newPlot(                        \"fcca7e3b-cd2e-4ea0-9b64-2a7d5d31ccdf\",                        [{\"customdata\":[[\"Ventes\"],[\"Frais de port\"]],\"domain\":{\"x\":[0.0,1.0],\"y\":[0.0,1.0]},\"hovertemplate\":\"<b>%{hovertext}</b><br><br>label=%{label}<br>value=%{value}<br>color=%{customdata[0]}<extra></extra>\",\"hovertext\":[\"Ventes\",\"Frais de port\"],\"labels\":[\"Ventes\",\"Frais de port\"],\"legendgroup\":\"\",\"marker\":{\"colors\":[\"rgb(41, 24, 107)\",\"rgb(42, 35, 160)\"]},\"name\":\"\",\"showlegend\":true,\"values\":[189500,17000],\"type\":\"pie\"}],                        {\"template\":{\"data\":{\"barpolar\":[{\"marker\":{\"line\":{\"color\":\"rgb(17,17,17)\",\"width\":0.5},\"pattern\":{\"fillmode\":\"overlay\",\"size\":10,\"solidity\":0.2}},\"type\":\"barpolar\"}],\"bar\":[{\"error_x\":{\"color\":\"#f2f5fa\"},\"error_y\":{\"color\":\"#f2f5fa\"},\"marker\":{\"line\":{\"color\":\"rgb(17,17,17)\",\"width\":0.5},\"pattern\":{\"fillmode\":\"overlay\",\"size\":10,\"solidity\":0.2}},\"type\":\"bar\"}],\"carpet\":[{\"aaxis\":{\"endlinecolor\":\"#A2B1C6\",\"gridcolor\":\"#506784\",\"linecolor\":\"#506784\",\"minorgridcolor\":\"#506784\",\"startlinecolor\":\"#A2B1C6\"},\"baxis\":{\"endlinecolor\":\"#A2B1C6\",\"gridcolor\":\"#506784\",\"linecolor\":\"#506784\",\"minorgridcolor\":\"#506784\",\"startlinecolor\":\"#A2B1C6\"},\"type\":\"carpet\"}],\"choropleth\":[{\"colorbar\":{\"outlinewidth\":0,\"ticks\":\"\"},\"type\":\"choropleth\"}],\"contourcarpet\":[{\"colorbar\":{\"outlinewidth\":0,\"ticks\":\"\"},\"type\":\"contourcarpet\"}],\"contour\":[{\"colorbar\":{\"outlinewidth\":0,\"ticks\":\"\"},\"colorscale\":[[0.0,\"#0d0887\"],[0.1111111111111111,\"#46039f\"],[0.2222222222222222,\"#7201a8\"],[0.3333333333333333,\"#9c179e\"],[0.4444444444444444,\"#bd3786\"],[0.5555555555555556,\"#d8576b\"],[0.6666666666666666,\"#ed7953\"],[0.7777777777777778,\"#fb9f3a\"],[0.8888888888888888,\"#fdca26\"],[1.0,\"#f0f921\"]],\"type\":\"contour\"}],\"heatmapgl\":[{\"colorbar\":{\"outlinewidth\":0,\"ticks\":\"\"},\"colorscale\":[[0.0,\"#0d0887\"],[0.1111111111111111,\"#46039f\"],[0.2222222222222222,\"#7201a8\"],[0.3333333333333333,\"#9c179e\"],[0.4444444444444444,\"#bd3786\"],[0.5555555555555556,\"#d8576b\"],[0.6666666666666666,\"#ed7953\"],[0.7777777777777778,\"#fb9f3a\"],[0.8888888888888888,\"#fdca26\"],[1.0,\"#f0f921\"]],\"type\":\"heatmapgl\"}],\"heatmap\":[{\"colorbar\":{\"outlinewidth\":0,\"ticks\":\"\"},\"colorscale\":[[0.0,\"#0d0887\"],[0.1111111111111111,\"#46039f\"],[0.2222222222222222,\"#7201a8\"],[0.3333333333333333,\"#9c179e\"],[0.4444444444444444,\"#bd3786\"],[0.5555555555555556,\"#d8576b\"],[0.6666666666666666,\"#ed7953\"],[0.7777777777777778,\"#fb9f3a\"],[0.8888888888888888,\"#fdca26\"],[1.0,\"#f0f921\"]],\"type\":\"heatmap\"}],\"histogram2dcontour\":[{\"colorbar\":{\"outlinewidth\":0,\"ticks\":\"\"},\"colorscale\":[[0.0,\"#0d0887\"],[0.1111111111111111,\"#46039f\"],[0.2222222222222222,\"#7201a8\"],[0.3333333333333333,\"#9c179e\"],[0.4444444444444444,\"#bd3786\"],[0.5555555555555556,\"#d8576b\"],[0.6666666666666666,\"#ed7953\"],[0.7777777777777778,\"#fb9f3a\"],[0.8888888888888888,\"#fdca26\"],[1.0,\"#f0f921\"]],\"type\":\"histogram2dcontour\"}],\"histogram2d\":[{\"colorbar\":{\"outlinewidth\":0,\"ticks\":\"\"},\"colorscale\":[[0.0,\"#0d0887\"],[0.1111111111111111,\"#46039f\"],[0.2222222222222222,\"#7201a8\"],[0.3333333333333333,\"#9c179e\"],[0.4444444444444444,\"#bd3786\"],[0.5555555555555556,\"#d8576b\"],[0.6666666666666666,\"#ed7953\"],[0.7777777777777778,\"#fb9f3a\"],[0.8888888888888888,\"#fdca26\"],[1.0,\"#f0f921\"]],\"type\":\"histogram2d\"}],\"histogram\":[{\"marker\":{\"pattern\":{\"fillmode\":\"overlay\",\"size\":10,\"solidity\":0.2}},\"type\":\"histogram\"}],\"mesh3d\":[{\"colorbar\":{\"outlinewidth\":0,\"ticks\":\"\"},\"type\":\"mesh3d\"}],\"parcoords\":[{\"line\":{\"colorbar\":{\"outlinewidth\":0,\"ticks\":\"\"}},\"type\":\"parcoords\"}],\"pie\":[{\"automargin\":true,\"type\":\"pie\"}],\"scatter3d\":[{\"line\":{\"colorbar\":{\"outlinewidth\":0,\"ticks\":\"\"}},\"marker\":{\"colorbar\":{\"outlinewidth\":0,\"ticks\":\"\"}},\"type\":\"scatter3d\"}],\"scattercarpet\":[{\"marker\":{\"colorbar\":{\"outlinewidth\":0,\"ticks\":\"\"}},\"type\":\"scattercarpet\"}],\"scattergeo\":[{\"marker\":{\"colorbar\":{\"outlinewidth\":0,\"ticks\":\"\"}},\"type\":\"scattergeo\"}],\"scattergl\":[{\"marker\":{\"line\":{\"color\":\"#283442\"}},\"type\":\"scattergl\"}],\"scattermapbox\":[{\"marker\":{\"colorbar\":{\"outlinewidth\":0,\"ticks\":\"\"}},\"type\":\"scattermapbox\"}],\"scatterpolargl\":[{\"marker\":{\"colorbar\":{\"outlinewidth\":0,\"ticks\":\"\"}},\"type\":\"scatterpolargl\"}],\"scatterpolar\":[{\"marker\":{\"colorbar\":{\"outlinewidth\":0,\"ticks\":\"\"}},\"type\":\"scatterpolar\"}],\"scatter\":[{\"marker\":{\"line\":{\"color\":\"#283442\"}},\"type\":\"scatter\"}],\"scatterternary\":[{\"marker\":{\"colorbar\":{\"outlinewidth\":0,\"ticks\":\"\"}},\"type\":\"scatterternary\"}],\"surface\":[{\"colorbar\":{\"outlinewidth\":0,\"ticks\":\"\"},\"colorscale\":[[0.0,\"#0d0887\"],[0.1111111111111111,\"#46039f\"],[0.2222222222222222,\"#7201a8\"],[0.3333333333333333,\"#9c179e\"],[0.4444444444444444,\"#bd3786\"],[0.5555555555555556,\"#d8576b\"],[0.6666666666666666,\"#ed7953\"],[0.7777777777777778,\"#fb9f3a\"],[0.8888888888888888,\"#fdca26\"],[1.0,\"#f0f921\"]],\"type\":\"surface\"}],\"table\":[{\"cells\":{\"fill\":{\"color\":\"#506784\"},\"line\":{\"color\":\"rgb(17,17,17)\"}},\"header\":{\"fill\":{\"color\":\"#2a3f5f\"},\"line\":{\"color\":\"rgb(17,17,17)\"}},\"type\":\"table\"}]},\"layout\":{\"annotationdefaults\":{\"arrowcolor\":\"#f2f5fa\",\"arrowhead\":0,\"arrowwidth\":1},\"autotypenumbers\":\"strict\",\"coloraxis\":{\"colorbar\":{\"outlinewidth\":0,\"ticks\":\"\"}},\"colorscale\":{\"diverging\":[[0,\"#8e0152\"],[0.1,\"#c51b7d\"],[0.2,\"#de77ae\"],[0.3,\"#f1b6da\"],[0.4,\"#fde0ef\"],[0.5,\"#f7f7f7\"],[0.6,\"#e6f5d0\"],[0.7,\"#b8e186\"],[0.8,\"#7fbc41\"],[0.9,\"#4d9221\"],[1,\"#276419\"]],\"sequential\":[[0.0,\"#0d0887\"],[0.1111111111111111,\"#46039f\"],[0.2222222222222222,\"#7201a8\"],[0.3333333333333333,\"#9c179e\"],[0.4444444444444444,\"#bd3786\"],[0.5555555555555556,\"#d8576b\"],[0.6666666666666666,\"#ed7953\"],[0.7777777777777778,\"#fb9f3a\"],[0.8888888888888888,\"#fdca26\"],[1.0,\"#f0f921\"]],\"sequentialminus\":[[0.0,\"#0d0887\"],[0.1111111111111111,\"#46039f\"],[0.2222222222222222,\"#7201a8\"],[0.3333333333333333,\"#9c179e\"],[0.4444444444444444,\"#bd3786\"],[0.5555555555555556,\"#d8576b\"],[0.6666666666666666,\"#ed7953\"],[0.7777777777777778,\"#fb9f3a\"],[0.8888888888888888,\"#fdca26\"],[1.0,\"#f0f921\"]]},\"colorway\":[\"#636efa\",\"#EF553B\",\"#00cc96\",\"#ab63fa\",\"#FFA15A\",\"#19d3f3\",\"#FF6692\",\"#B6E880\",\"#FF97FF\",\"#FECB52\"],\"font\":{\"color\":\"#f2f5fa\"},\"geo\":{\"bgcolor\":\"rgb(17,17,17)\",\"lakecolor\":\"rgb(17,17,17)\",\"landcolor\":\"rgb(17,17,17)\",\"showlakes\":true,\"showland\":true,\"subunitcolor\":\"#506784\"},\"hoverlabel\":{\"align\":\"left\"},\"hovermode\":\"closest\",\"mapbox\":{\"style\":\"dark\"},\"paper_bgcolor\":\"rgb(17,17,17)\",\"plot_bgcolor\":\"rgb(17,17,17)\",\"polar\":{\"angularaxis\":{\"gridcolor\":\"#506784\",\"linecolor\":\"#506784\",\"ticks\":\"\"},\"bgcolor\":\"rgb(17,17,17)\",\"radialaxis\":{\"gridcolor\":\"#506784\",\"linecolor\":\"#506784\",\"ticks\":\"\"}},\"scene\":{\"xaxis\":{\"backgroundcolor\":\"rgb(17,17,17)\",\"gridcolor\":\"#506784\",\"gridwidth\":2,\"linecolor\":\"#506784\",\"showbackground\":true,\"ticks\":\"\",\"zerolinecolor\":\"#C8D4E3\"},\"yaxis\":{\"backgroundcolor\":\"rgb(17,17,17)\",\"gridcolor\":\"#506784\",\"gridwidth\":2,\"linecolor\":\"#506784\",\"showbackground\":true,\"ticks\":\"\",\"zerolinecolor\":\"#C8D4E3\"},\"zaxis\":{\"backgroundcolor\":\"rgb(17,17,17)\",\"gridcolor\":\"#506784\",\"gridwidth\":2,\"linecolor\":\"#506784\",\"showbackground\":true,\"ticks\":\"\",\"zerolinecolor\":\"#C8D4E3\"}},\"shapedefaults\":{\"line\":{\"color\":\"#f2f5fa\"}},\"sliderdefaults\":{\"bgcolor\":\"#C8D4E3\",\"bordercolor\":\"rgb(17,17,17)\",\"borderwidth\":1,\"tickwidth\":0},\"ternary\":{\"aaxis\":{\"gridcolor\":\"#506784\",\"linecolor\":\"#506784\",\"ticks\":\"\"},\"baxis\":{\"gridcolor\":\"#506784\",\"linecolor\":\"#506784\",\"ticks\":\"\"},\"bgcolor\":\"rgb(17,17,17)\",\"caxis\":{\"gridcolor\":\"#506784\",\"linecolor\":\"#506784\",\"ticks\":\"\"}},\"title\":{\"x\":0.05},\"updatemenudefaults\":{\"bgcolor\":\"#506784\",\"borderwidth\":0},\"xaxis\":{\"automargin\":true,\"gridcolor\":\"#283442\",\"linecolor\":\"#506784\",\"ticks\":\"\",\"title\":{\"standoff\":15},\"zerolinecolor\":\"#283442\",\"zerolinewidth\":2},\"yaxis\":{\"automargin\":true,\"gridcolor\":\"#283442\",\"linecolor\":\"#506784\",\"ticks\":\"\",\"title\":{\"standoff\":15},\"zerolinecolor\":\"#283442\",\"zerolinewidth\":2}}},\"legend\":{\"tracegroupgap\":0},\"title\":{\"text\":\"Comparaison Vente Vs Fraid de port\"},\"piecolorway\":[\"rgb(41, 24, 107)\",\"rgb(42, 35, 160)\",\"rgb(15, 71, 153)\",\"rgb(18, 95, 142)\",\"rgb(38, 116, 137)\",\"rgb(53, 136, 136)\",\"rgb(65, 157, 133)\",\"rgb(81, 178, 124)\",\"rgb(111, 198, 107)\",\"rgb(160, 214, 91)\",\"rgb(212, 225, 112)\",\"rgb(253, 238, 153)\"],\"height\":400,\"width\":400},                        {\"responsive\": true}                    ).then(function(){\n",
              "                            \n",
              "var gd = document.getElementById('fcca7e3b-cd2e-4ea0-9b64-2a7d5d31ccdf');\n",
              "var x = new MutationObserver(function (mutations, observer) {{\n",
              "        var display = window.getComputedStyle(gd).display;\n",
              "        if (!display || display === 'none') {{\n",
              "            console.log([gd, 'removed!']);\n",
              "            Plotly.purge(gd);\n",
              "            observer.disconnect();\n",
              "        }}\n",
              "}});\n",
              "\n",
              "// Listen for the removal of the full notebook cells\n",
              "var notebookContainer = gd.closest('#notebook-container');\n",
              "if (notebookContainer) {{\n",
              "    x.observe(notebookContainer, {childList: true});\n",
              "}}\n",
              "\n",
              "// Listen for the clearing of the current output cell\n",
              "var outputEl = gd.closest('.output');\n",
              "if (outputEl) {{\n",
              "    x.observe(outputEl, {childList: true});\n",
              "}}\n",
              "\n",
              "                        })                };                            </script>        </div>\n",
              "</body>\n",
              "</html>"
            ]
          },
          "metadata": {}
        }
      ]
    },
    {
      "cell_type": "code",
      "source": [
        "# Les prix des cartes pokémon étant tirées vers le haut par les grosses cartes, on va regarder la mediane des prix de ventes afin que le résultat soit mieux interprété, car une majorité des cartes vendues sont entre 0 et 5 euros !\n",
        "\n",
        "# On va donc comparer la moyenne des frais de port avec la médiane des cartes vendues pour que le résultat ne soit pas biaisé.\n",
        "\n",
        "Average_FEES = DF['FDP_clean'].mean() / DF['Prix_clean'].median() \n",
        "\n",
        "Average_FEES"
      ],
      "metadata": {
        "colab": {
          "base_uri": "https://localhost:8080/"
        },
        "id": "9sLQsud9lG-V",
        "outputId": "832d9d27-4e3c-44ed-a58b-3db49e587f4b"
      },
      "execution_count": 219,
      "outputs": [
        {
          "output_type": "execute_result",
          "data": {
            "text/plain": [
              "0.2793187648393481"
            ]
          },
          "metadata": {},
          "execution_count": 219
        }
      ]
    },
    {
      "cell_type": "markdown",
      "source": [
        "**Nous avons donc presque 1/3 des frais de port dans le prix d achat de la carte !**\n"
      ],
      "metadata": {
        "id": "0pr1Ef9cfbFV"
      }
    },
    {
      "cell_type": "markdown",
      "source": [
        "# **Ventes quotidiennes**"
      ],
      "metadata": {
        "id": "8bw8MCqehNaE"
      }
    },
    {
      "cell_type": "code",
      "source": [
        "# On regarde la plage de date de l'analyse pour être sûr des valeurs qui remontent.\n",
        "\n",
        "DF['Date_clean'].describe()"
      ],
      "metadata": {
        "id": "dU3bV2IXt7l-",
        "outputId": "e92f597b-9a5e-4318-bc69-23f12974ed87",
        "colab": {
          "base_uri": "https://localhost:8080/"
        }
      },
      "execution_count": 220,
      "outputs": [
        {
          "output_type": "stream",
          "name": "stderr",
          "text": [
            "/usr/local/lib/python3.7/dist-packages/ipykernel_launcher.py:3: FutureWarning:\n",
            "\n",
            "Treating datetime data as categorical rather than numeric in `.describe` is deprecated and will be removed in a future version of pandas. Specify `datetime_is_numeric=True` to silence this warning and adopt the future behavior now.\n",
            "\n"
          ]
        },
        {
          "output_type": "execute_result",
          "data": {
            "text/plain": [
              "count                    8980\n",
              "unique                     13\n",
              "top       2022-05-01 00:00:00\n",
              "freq                     1020\n",
              "first     2022-04-24 00:00:00\n",
              "last      2022-05-06 00:00:00\n",
              "Name: Date_clean, dtype: object"
            ]
          },
          "metadata": {},
          "execution_count": 220
        }
      ]
    },
    {
      "cell_type": "code",
      "source": [
        "# Meilleures ventes quotidiennes par dates\n",
        "\n",
        "#Dans cette partie, on creer un DF avec comme index les dates, classées par prix avec un top quotidien.\n",
        "\n",
        "index = DF.groupby([\"Date_clean\"])['Prix_clean'].transform(max)== DF['Prix_clean']\n",
        "\n",
        "#On va creer un drop_duplicates afin de ne garder qu'une seule valeur, dans le cas ou plusieurs valeurs identiques ressortent.\n",
        "\n",
        "DF_Max = DF[index].drop_duplicates('Prix_clean')\n",
        "\n",
        "# On créer un histogramme avec les date en abscisse et la somme des prix en ordonnée.\n",
        "\n",
        "fig = px.histogram(DF_Max, \n",
        "             x='Date_clean',\n",
        "             y='Prix_clean',  \n",
        "             title='Meilleurs Ventes quotidiennes', nbins = len(DF_Max),#nbins permet de compter chaque élément et de compter chaque élément de Date pour garder le maximum.\n",
        "             color_discrete_sequence = px.colors.sequential.haline) \n",
        "\n",
        "fig.layout.template = 'plotly_dark'\n",
        "\n",
        "fig.update_layout(bargap=0.3)\n",
        "\n",
        "fig.show()\n",
        "\n",
        "# DF_Max"
      ],
      "metadata": {
        "id": "wrloe4fFsrxj",
        "colab": {
          "base_uri": "https://localhost:8080/",
          "height": 542
        },
        "outputId": "5400c5e8-1168-4191-b22c-5555afa6571d"
      },
      "execution_count": 221,
      "outputs": [
        {
          "output_type": "display_data",
          "data": {
            "text/html": [
              "<html>\n",
              "<head><meta charset=\"utf-8\" /></head>\n",
              "<body>\n",
              "    <div>            <script src=\"https://cdnjs.cloudflare.com/ajax/libs/mathjax/2.7.5/MathJax.js?config=TeX-AMS-MML_SVG\"></script><script type=\"text/javascript\">if (window.MathJax) {MathJax.Hub.Config({SVG: {font: \"STIX-Web\"}});}</script>                <script type=\"text/javascript\">window.PlotlyConfig = {MathJaxConfig: 'local'};</script>\n",
              "        <script src=\"https://cdn.plot.ly/plotly-2.8.3.min.js\"></script>                <div id=\"2023896f-9911-44af-af57-6f0da9e31471\" class=\"plotly-graph-div\" style=\"height:525px; width:100%;\"></div>            <script type=\"text/javascript\">                                    window.PLOTLYENV=window.PLOTLYENV || {};                                    if (document.getElementById(\"2023896f-9911-44af-af57-6f0da9e31471\")) {                    Plotly.newPlot(                        \"2023896f-9911-44af-af57-6f0da9e31471\",                        [{\"alignmentgroup\":\"True\",\"bingroup\":\"x\",\"histfunc\":\"sum\",\"hovertemplate\":\"Date_clean=%{x}<br>sum of Prix_clean=%{y}<extra></extra>\",\"legendgroup\":\"\",\"marker\":{\"color\":\"rgb(41, 24, 107)\",\"pattern\":{\"shape\":\"\"}},\"name\":\"\",\"nbinsx\":13,\"offsetgroup\":\"\",\"orientation\":\"v\",\"showlegend\":false,\"x\":[\"2022-05-06T00:00:00\",\"2022-05-05T00:00:00\",\"2022-05-04T00:00:00\",\"2022-05-03T00:00:00\",\"2022-05-02T00:00:00\",\"2022-05-01T00:00:00\",\"2022-04-30T00:00:00\",\"2022-04-29T00:00:00\",\"2022-04-28T00:00:00\",\"2022-04-27T00:00:00\",\"2022-04-26T00:00:00\",\"2022-04-25T00:00:00\",\"2022-04-24T00:00:00\"],\"xaxis\":\"x\",\"y\":[469.0,850.0,550.0,450.0,869.0,707.0,321.0,911.0,971.0,999.0,380.0,700.0,460.0],\"yaxis\":\"y\",\"type\":\"histogram\"}],                        {\"template\":{\"data\":{\"barpolar\":[{\"marker\":{\"line\":{\"color\":\"rgb(17,17,17)\",\"width\":0.5},\"pattern\":{\"fillmode\":\"overlay\",\"size\":10,\"solidity\":0.2}},\"type\":\"barpolar\"}],\"bar\":[{\"error_x\":{\"color\":\"#f2f5fa\"},\"error_y\":{\"color\":\"#f2f5fa\"},\"marker\":{\"line\":{\"color\":\"rgb(17,17,17)\",\"width\":0.5},\"pattern\":{\"fillmode\":\"overlay\",\"size\":10,\"solidity\":0.2}},\"type\":\"bar\"}],\"carpet\":[{\"aaxis\":{\"endlinecolor\":\"#A2B1C6\",\"gridcolor\":\"#506784\",\"linecolor\":\"#506784\",\"minorgridcolor\":\"#506784\",\"startlinecolor\":\"#A2B1C6\"},\"baxis\":{\"endlinecolor\":\"#A2B1C6\",\"gridcolor\":\"#506784\",\"linecolor\":\"#506784\",\"minorgridcolor\":\"#506784\",\"startlinecolor\":\"#A2B1C6\"},\"type\":\"carpet\"}],\"choropleth\":[{\"colorbar\":{\"outlinewidth\":0,\"ticks\":\"\"},\"type\":\"choropleth\"}],\"contourcarpet\":[{\"colorbar\":{\"outlinewidth\":0,\"ticks\":\"\"},\"type\":\"contourcarpet\"}],\"contour\":[{\"colorbar\":{\"outlinewidth\":0,\"ticks\":\"\"},\"colorscale\":[[0.0,\"#0d0887\"],[0.1111111111111111,\"#46039f\"],[0.2222222222222222,\"#7201a8\"],[0.3333333333333333,\"#9c179e\"],[0.4444444444444444,\"#bd3786\"],[0.5555555555555556,\"#d8576b\"],[0.6666666666666666,\"#ed7953\"],[0.7777777777777778,\"#fb9f3a\"],[0.8888888888888888,\"#fdca26\"],[1.0,\"#f0f921\"]],\"type\":\"contour\"}],\"heatmapgl\":[{\"colorbar\":{\"outlinewidth\":0,\"ticks\":\"\"},\"colorscale\":[[0.0,\"#0d0887\"],[0.1111111111111111,\"#46039f\"],[0.2222222222222222,\"#7201a8\"],[0.3333333333333333,\"#9c179e\"],[0.4444444444444444,\"#bd3786\"],[0.5555555555555556,\"#d8576b\"],[0.6666666666666666,\"#ed7953\"],[0.7777777777777778,\"#fb9f3a\"],[0.8888888888888888,\"#fdca26\"],[1.0,\"#f0f921\"]],\"type\":\"heatmapgl\"}],\"heatmap\":[{\"colorbar\":{\"outlinewidth\":0,\"ticks\":\"\"},\"colorscale\":[[0.0,\"#0d0887\"],[0.1111111111111111,\"#46039f\"],[0.2222222222222222,\"#7201a8\"],[0.3333333333333333,\"#9c179e\"],[0.4444444444444444,\"#bd3786\"],[0.5555555555555556,\"#d8576b\"],[0.6666666666666666,\"#ed7953\"],[0.7777777777777778,\"#fb9f3a\"],[0.8888888888888888,\"#fdca26\"],[1.0,\"#f0f921\"]],\"type\":\"heatmap\"}],\"histogram2dcontour\":[{\"colorbar\":{\"outlinewidth\":0,\"ticks\":\"\"},\"colorscale\":[[0.0,\"#0d0887\"],[0.1111111111111111,\"#46039f\"],[0.2222222222222222,\"#7201a8\"],[0.3333333333333333,\"#9c179e\"],[0.4444444444444444,\"#bd3786\"],[0.5555555555555556,\"#d8576b\"],[0.6666666666666666,\"#ed7953\"],[0.7777777777777778,\"#fb9f3a\"],[0.8888888888888888,\"#fdca26\"],[1.0,\"#f0f921\"]],\"type\":\"histogram2dcontour\"}],\"histogram2d\":[{\"colorbar\":{\"outlinewidth\":0,\"ticks\":\"\"},\"colorscale\":[[0.0,\"#0d0887\"],[0.1111111111111111,\"#46039f\"],[0.2222222222222222,\"#7201a8\"],[0.3333333333333333,\"#9c179e\"],[0.4444444444444444,\"#bd3786\"],[0.5555555555555556,\"#d8576b\"],[0.6666666666666666,\"#ed7953\"],[0.7777777777777778,\"#fb9f3a\"],[0.8888888888888888,\"#fdca26\"],[1.0,\"#f0f921\"]],\"type\":\"histogram2d\"}],\"histogram\":[{\"marker\":{\"pattern\":{\"fillmode\":\"overlay\",\"size\":10,\"solidity\":0.2}},\"type\":\"histogram\"}],\"mesh3d\":[{\"colorbar\":{\"outlinewidth\":0,\"ticks\":\"\"},\"type\":\"mesh3d\"}],\"parcoords\":[{\"line\":{\"colorbar\":{\"outlinewidth\":0,\"ticks\":\"\"}},\"type\":\"parcoords\"}],\"pie\":[{\"automargin\":true,\"type\":\"pie\"}],\"scatter3d\":[{\"line\":{\"colorbar\":{\"outlinewidth\":0,\"ticks\":\"\"}},\"marker\":{\"colorbar\":{\"outlinewidth\":0,\"ticks\":\"\"}},\"type\":\"scatter3d\"}],\"scattercarpet\":[{\"marker\":{\"colorbar\":{\"outlinewidth\":0,\"ticks\":\"\"}},\"type\":\"scattercarpet\"}],\"scattergeo\":[{\"marker\":{\"colorbar\":{\"outlinewidth\":0,\"ticks\":\"\"}},\"type\":\"scattergeo\"}],\"scattergl\":[{\"marker\":{\"line\":{\"color\":\"#283442\"}},\"type\":\"scattergl\"}],\"scattermapbox\":[{\"marker\":{\"colorbar\":{\"outlinewidth\":0,\"ticks\":\"\"}},\"type\":\"scattermapbox\"}],\"scatterpolargl\":[{\"marker\":{\"colorbar\":{\"outlinewidth\":0,\"ticks\":\"\"}},\"type\":\"scatterpolargl\"}],\"scatterpolar\":[{\"marker\":{\"colorbar\":{\"outlinewidth\":0,\"ticks\":\"\"}},\"type\":\"scatterpolar\"}],\"scatter\":[{\"marker\":{\"line\":{\"color\":\"#283442\"}},\"type\":\"scatter\"}],\"scatterternary\":[{\"marker\":{\"colorbar\":{\"outlinewidth\":0,\"ticks\":\"\"}},\"type\":\"scatterternary\"}],\"surface\":[{\"colorbar\":{\"outlinewidth\":0,\"ticks\":\"\"},\"colorscale\":[[0.0,\"#0d0887\"],[0.1111111111111111,\"#46039f\"],[0.2222222222222222,\"#7201a8\"],[0.3333333333333333,\"#9c179e\"],[0.4444444444444444,\"#bd3786\"],[0.5555555555555556,\"#d8576b\"],[0.6666666666666666,\"#ed7953\"],[0.7777777777777778,\"#fb9f3a\"],[0.8888888888888888,\"#fdca26\"],[1.0,\"#f0f921\"]],\"type\":\"surface\"}],\"table\":[{\"cells\":{\"fill\":{\"color\":\"#506784\"},\"line\":{\"color\":\"rgb(17,17,17)\"}},\"header\":{\"fill\":{\"color\":\"#2a3f5f\"},\"line\":{\"color\":\"rgb(17,17,17)\"}},\"type\":\"table\"}]},\"layout\":{\"annotationdefaults\":{\"arrowcolor\":\"#f2f5fa\",\"arrowhead\":0,\"arrowwidth\":1},\"autotypenumbers\":\"strict\",\"coloraxis\":{\"colorbar\":{\"outlinewidth\":0,\"ticks\":\"\"}},\"colorscale\":{\"diverging\":[[0,\"#8e0152\"],[0.1,\"#c51b7d\"],[0.2,\"#de77ae\"],[0.3,\"#f1b6da\"],[0.4,\"#fde0ef\"],[0.5,\"#f7f7f7\"],[0.6,\"#e6f5d0\"],[0.7,\"#b8e186\"],[0.8,\"#7fbc41\"],[0.9,\"#4d9221\"],[1,\"#276419\"]],\"sequential\":[[0.0,\"#0d0887\"],[0.1111111111111111,\"#46039f\"],[0.2222222222222222,\"#7201a8\"],[0.3333333333333333,\"#9c179e\"],[0.4444444444444444,\"#bd3786\"],[0.5555555555555556,\"#d8576b\"],[0.6666666666666666,\"#ed7953\"],[0.7777777777777778,\"#fb9f3a\"],[0.8888888888888888,\"#fdca26\"],[1.0,\"#f0f921\"]],\"sequentialminus\":[[0.0,\"#0d0887\"],[0.1111111111111111,\"#46039f\"],[0.2222222222222222,\"#7201a8\"],[0.3333333333333333,\"#9c179e\"],[0.4444444444444444,\"#bd3786\"],[0.5555555555555556,\"#d8576b\"],[0.6666666666666666,\"#ed7953\"],[0.7777777777777778,\"#fb9f3a\"],[0.8888888888888888,\"#fdca26\"],[1.0,\"#f0f921\"]]},\"colorway\":[\"#636efa\",\"#EF553B\",\"#00cc96\",\"#ab63fa\",\"#FFA15A\",\"#19d3f3\",\"#FF6692\",\"#B6E880\",\"#FF97FF\",\"#FECB52\"],\"font\":{\"color\":\"#f2f5fa\"},\"geo\":{\"bgcolor\":\"rgb(17,17,17)\",\"lakecolor\":\"rgb(17,17,17)\",\"landcolor\":\"rgb(17,17,17)\",\"showlakes\":true,\"showland\":true,\"subunitcolor\":\"#506784\"},\"hoverlabel\":{\"align\":\"left\"},\"hovermode\":\"closest\",\"mapbox\":{\"style\":\"dark\"},\"paper_bgcolor\":\"rgb(17,17,17)\",\"plot_bgcolor\":\"rgb(17,17,17)\",\"polar\":{\"angularaxis\":{\"gridcolor\":\"#506784\",\"linecolor\":\"#506784\",\"ticks\":\"\"},\"bgcolor\":\"rgb(17,17,17)\",\"radialaxis\":{\"gridcolor\":\"#506784\",\"linecolor\":\"#506784\",\"ticks\":\"\"}},\"scene\":{\"xaxis\":{\"backgroundcolor\":\"rgb(17,17,17)\",\"gridcolor\":\"#506784\",\"gridwidth\":2,\"linecolor\":\"#506784\",\"showbackground\":true,\"ticks\":\"\",\"zerolinecolor\":\"#C8D4E3\"},\"yaxis\":{\"backgroundcolor\":\"rgb(17,17,17)\",\"gridcolor\":\"#506784\",\"gridwidth\":2,\"linecolor\":\"#506784\",\"showbackground\":true,\"ticks\":\"\",\"zerolinecolor\":\"#C8D4E3\"},\"zaxis\":{\"backgroundcolor\":\"rgb(17,17,17)\",\"gridcolor\":\"#506784\",\"gridwidth\":2,\"linecolor\":\"#506784\",\"showbackground\":true,\"ticks\":\"\",\"zerolinecolor\":\"#C8D4E3\"}},\"shapedefaults\":{\"line\":{\"color\":\"#f2f5fa\"}},\"sliderdefaults\":{\"bgcolor\":\"#C8D4E3\",\"bordercolor\":\"rgb(17,17,17)\",\"borderwidth\":1,\"tickwidth\":0},\"ternary\":{\"aaxis\":{\"gridcolor\":\"#506784\",\"linecolor\":\"#506784\",\"ticks\":\"\"},\"baxis\":{\"gridcolor\":\"#506784\",\"linecolor\":\"#506784\",\"ticks\":\"\"},\"bgcolor\":\"rgb(17,17,17)\",\"caxis\":{\"gridcolor\":\"#506784\",\"linecolor\":\"#506784\",\"ticks\":\"\"}},\"title\":{\"x\":0.05},\"updatemenudefaults\":{\"bgcolor\":\"#506784\",\"borderwidth\":0},\"xaxis\":{\"automargin\":true,\"gridcolor\":\"#283442\",\"linecolor\":\"#506784\",\"ticks\":\"\",\"title\":{\"standoff\":15},\"zerolinecolor\":\"#283442\",\"zerolinewidth\":2},\"yaxis\":{\"automargin\":true,\"gridcolor\":\"#283442\",\"linecolor\":\"#506784\",\"ticks\":\"\",\"title\":{\"standoff\":15},\"zerolinecolor\":\"#283442\",\"zerolinewidth\":2}}},\"xaxis\":{\"anchor\":\"y\",\"domain\":[0.0,1.0],\"title\":{\"text\":\"Date_clean\"}},\"yaxis\":{\"anchor\":\"x\",\"domain\":[0.0,1.0],\"title\":{\"text\":\"sum of Prix_clean\"}},\"legend\":{\"tracegroupgap\":0},\"title\":{\"text\":\"Meilleurs Ventes quotidiennes\"},\"barmode\":\"relative\",\"bargap\":0.3},                        {\"responsive\": true}                    ).then(function(){\n",
              "                            \n",
              "var gd = document.getElementById('2023896f-9911-44af-af57-6f0da9e31471');\n",
              "var x = new MutationObserver(function (mutations, observer) {{\n",
              "        var display = window.getComputedStyle(gd).display;\n",
              "        if (!display || display === 'none') {{\n",
              "            console.log([gd, 'removed!']);\n",
              "            Plotly.purge(gd);\n",
              "            observer.disconnect();\n",
              "        }}\n",
              "}});\n",
              "\n",
              "// Listen for the removal of the full notebook cells\n",
              "var notebookContainer = gd.closest('#notebook-container');\n",
              "if (notebookContainer) {{\n",
              "    x.observe(notebookContainer, {childList: true});\n",
              "}}\n",
              "\n",
              "// Listen for the clearing of the current output cell\n",
              "var outputEl = gd.closest('.output');\n",
              "if (outputEl) {{\n",
              "    x.observe(outputEl, {childList: true});\n",
              "}}\n",
              "\n",
              "                        })                };                            </script>        </div>\n",
              "</body>\n",
              "</html>"
            ]
          },
          "metadata": {}
        }
      ]
    },
    {
      "cell_type": "code",
      "source": [
        "#Dans cette partie nous allons faire ressortir les données qui nous intéresse sur les ventes réussies ebay\n",
        "\n",
        "print('le prix de la plus grosse vente est de :',DF[\"Prix_clean\"].max())\n",
        "\n",
        "print('le prix de la plus petite vente est de :', DF[\"Prix_clean\"].min())"
      ],
      "metadata": {
        "id": "Fc6HP0k1tOUn",
        "colab": {
          "base_uri": "https://localhost:8080/"
        },
        "outputId": "3091214a-b24f-4d00-b7b1-79550778f888"
      },
      "execution_count": 222,
      "outputs": [
        {
          "output_type": "stream",
          "name": "stdout",
          "text": [
            "le prix de la plus grosse vente est de : 999.0\n",
            "le prix de la plus petite vente est de : 0.0\n"
          ]
        }
      ]
    },
    {
      "cell_type": "markdown",
      "source": [
        "**#Moyenne**"
      ],
      "metadata": {
        "id": "eX7bZf5PhU8j"
      }
    },
    {
      "cell_type": "code",
      "source": [
        "# Nombre de vente par dates\n",
        "\n",
        "# Moyenne\n",
        "\n",
        "# On creer en index les dates, qu'on trie par moyenne et on reset l'index (reflexe a avoir) pour pouvoir utiliser la colonne date dans l histogramme.\n",
        "\n",
        "DF_Mean = DF.groupby([\"Date_clean\"]).mean().reset_index()\n",
        "\n",
        "fig = px.histogram(DF_Mean, \n",
        "             x='Date_clean',\n",
        "             y='Prix_clean',  \n",
        "             title='Moyenne des ventes par jour', nbins = len(DF_Mean),\n",
        "             color_discrete_sequence = px.colors.sequential.haline)\n",
        "\n",
        "fig.layout.template = 'plotly_dark'\n",
        "\n",
        "fig.update_layout(bargap=0.4)\n",
        "\n",
        "fig.show()\n",
        "\n",
        "#A titre informatif, la médiane fluctue entre 6 et 7 ce qui signifie que la moyenne est tirée vers le haut par les grosses valeurs.\n"
      ],
      "metadata": {
        "id": "Skn1d6CchiKB",
        "colab": {
          "base_uri": "https://localhost:8080/",
          "height": 542
        },
        "outputId": "b5764a74-cbf4-4be0-c5c8-3116664fde34"
      },
      "execution_count": 223,
      "outputs": [
        {
          "output_type": "display_data",
          "data": {
            "text/html": [
              "<html>\n",
              "<head><meta charset=\"utf-8\" /></head>\n",
              "<body>\n",
              "    <div>            <script src=\"https://cdnjs.cloudflare.com/ajax/libs/mathjax/2.7.5/MathJax.js?config=TeX-AMS-MML_SVG\"></script><script type=\"text/javascript\">if (window.MathJax) {MathJax.Hub.Config({SVG: {font: \"STIX-Web\"}});}</script>                <script type=\"text/javascript\">window.PlotlyConfig = {MathJaxConfig: 'local'};</script>\n",
              "        <script src=\"https://cdn.plot.ly/plotly-2.8.3.min.js\"></script>                <div id=\"108b605f-c287-4f67-91a8-9d0355290804\" class=\"plotly-graph-div\" style=\"height:525px; width:100%;\"></div>            <script type=\"text/javascript\">                                    window.PLOTLYENV=window.PLOTLYENV || {};                                    if (document.getElementById(\"108b605f-c287-4f67-91a8-9d0355290804\")) {                    Plotly.newPlot(                        \"108b605f-c287-4f67-91a8-9d0355290804\",                        [{\"alignmentgroup\":\"True\",\"bingroup\":\"x\",\"histfunc\":\"sum\",\"hovertemplate\":\"Date_clean=%{x}<br>sum of Prix_clean=%{y}<extra></extra>\",\"legendgroup\":\"\",\"marker\":{\"color\":\"rgb(41, 24, 107)\",\"pattern\":{\"shape\":\"\"}},\"name\":\"\",\"nbinsx\":13,\"offsetgroup\":\"\",\"orientation\":\"v\",\"showlegend\":false,\"x\":[\"2022-04-24T00:00:00\",\"2022-04-25T00:00:00\",\"2022-04-26T00:00:00\",\"2022-04-27T00:00:00\",\"2022-04-28T00:00:00\",\"2022-04-29T00:00:00\",\"2022-04-30T00:00:00\",\"2022-05-01T00:00:00\",\"2022-05-02T00:00:00\",\"2022-05-03T00:00:00\",\"2022-05-04T00:00:00\",\"2022-05-05T00:00:00\",\"2022-05-06T00:00:00\"],\"xaxis\":\"x\",\"y\":[22.585474860335196,19.10753424657534,17.104228329809725,20.794884488448847,21.069890795631824,26.724444444444444,17.07179487179487,26.352161100196465,23.664985163204747,21.19110824742268,16.633823529411764,23.36832298136646,18.080688336520076],\"yaxis\":\"y\",\"type\":\"histogram\"}],                        {\"template\":{\"data\":{\"barpolar\":[{\"marker\":{\"line\":{\"color\":\"rgb(17,17,17)\",\"width\":0.5},\"pattern\":{\"fillmode\":\"overlay\",\"size\":10,\"solidity\":0.2}},\"type\":\"barpolar\"}],\"bar\":[{\"error_x\":{\"color\":\"#f2f5fa\"},\"error_y\":{\"color\":\"#f2f5fa\"},\"marker\":{\"line\":{\"color\":\"rgb(17,17,17)\",\"width\":0.5},\"pattern\":{\"fillmode\":\"overlay\",\"size\":10,\"solidity\":0.2}},\"type\":\"bar\"}],\"carpet\":[{\"aaxis\":{\"endlinecolor\":\"#A2B1C6\",\"gridcolor\":\"#506784\",\"linecolor\":\"#506784\",\"minorgridcolor\":\"#506784\",\"startlinecolor\":\"#A2B1C6\"},\"baxis\":{\"endlinecolor\":\"#A2B1C6\",\"gridcolor\":\"#506784\",\"linecolor\":\"#506784\",\"minorgridcolor\":\"#506784\",\"startlinecolor\":\"#A2B1C6\"},\"type\":\"carpet\"}],\"choropleth\":[{\"colorbar\":{\"outlinewidth\":0,\"ticks\":\"\"},\"type\":\"choropleth\"}],\"contourcarpet\":[{\"colorbar\":{\"outlinewidth\":0,\"ticks\":\"\"},\"type\":\"contourcarpet\"}],\"contour\":[{\"colorbar\":{\"outlinewidth\":0,\"ticks\":\"\"},\"colorscale\":[[0.0,\"#0d0887\"],[0.1111111111111111,\"#46039f\"],[0.2222222222222222,\"#7201a8\"],[0.3333333333333333,\"#9c179e\"],[0.4444444444444444,\"#bd3786\"],[0.5555555555555556,\"#d8576b\"],[0.6666666666666666,\"#ed7953\"],[0.7777777777777778,\"#fb9f3a\"],[0.8888888888888888,\"#fdca26\"],[1.0,\"#f0f921\"]],\"type\":\"contour\"}],\"heatmapgl\":[{\"colorbar\":{\"outlinewidth\":0,\"ticks\":\"\"},\"colorscale\":[[0.0,\"#0d0887\"],[0.1111111111111111,\"#46039f\"],[0.2222222222222222,\"#7201a8\"],[0.3333333333333333,\"#9c179e\"],[0.4444444444444444,\"#bd3786\"],[0.5555555555555556,\"#d8576b\"],[0.6666666666666666,\"#ed7953\"],[0.7777777777777778,\"#fb9f3a\"],[0.8888888888888888,\"#fdca26\"],[1.0,\"#f0f921\"]],\"type\":\"heatmapgl\"}],\"heatmap\":[{\"colorbar\":{\"outlinewidth\":0,\"ticks\":\"\"},\"colorscale\":[[0.0,\"#0d0887\"],[0.1111111111111111,\"#46039f\"],[0.2222222222222222,\"#7201a8\"],[0.3333333333333333,\"#9c179e\"],[0.4444444444444444,\"#bd3786\"],[0.5555555555555556,\"#d8576b\"],[0.6666666666666666,\"#ed7953\"],[0.7777777777777778,\"#fb9f3a\"],[0.8888888888888888,\"#fdca26\"],[1.0,\"#f0f921\"]],\"type\":\"heatmap\"}],\"histogram2dcontour\":[{\"colorbar\":{\"outlinewidth\":0,\"ticks\":\"\"},\"colorscale\":[[0.0,\"#0d0887\"],[0.1111111111111111,\"#46039f\"],[0.2222222222222222,\"#7201a8\"],[0.3333333333333333,\"#9c179e\"],[0.4444444444444444,\"#bd3786\"],[0.5555555555555556,\"#d8576b\"],[0.6666666666666666,\"#ed7953\"],[0.7777777777777778,\"#fb9f3a\"],[0.8888888888888888,\"#fdca26\"],[1.0,\"#f0f921\"]],\"type\":\"histogram2dcontour\"}],\"histogram2d\":[{\"colorbar\":{\"outlinewidth\":0,\"ticks\":\"\"},\"colorscale\":[[0.0,\"#0d0887\"],[0.1111111111111111,\"#46039f\"],[0.2222222222222222,\"#7201a8\"],[0.3333333333333333,\"#9c179e\"],[0.4444444444444444,\"#bd3786\"],[0.5555555555555556,\"#d8576b\"],[0.6666666666666666,\"#ed7953\"],[0.7777777777777778,\"#fb9f3a\"],[0.8888888888888888,\"#fdca26\"],[1.0,\"#f0f921\"]],\"type\":\"histogram2d\"}],\"histogram\":[{\"marker\":{\"pattern\":{\"fillmode\":\"overlay\",\"size\":10,\"solidity\":0.2}},\"type\":\"histogram\"}],\"mesh3d\":[{\"colorbar\":{\"outlinewidth\":0,\"ticks\":\"\"},\"type\":\"mesh3d\"}],\"parcoords\":[{\"line\":{\"colorbar\":{\"outlinewidth\":0,\"ticks\":\"\"}},\"type\":\"parcoords\"}],\"pie\":[{\"automargin\":true,\"type\":\"pie\"}],\"scatter3d\":[{\"line\":{\"colorbar\":{\"outlinewidth\":0,\"ticks\":\"\"}},\"marker\":{\"colorbar\":{\"outlinewidth\":0,\"ticks\":\"\"}},\"type\":\"scatter3d\"}],\"scattercarpet\":[{\"marker\":{\"colorbar\":{\"outlinewidth\":0,\"ticks\":\"\"}},\"type\":\"scattercarpet\"}],\"scattergeo\":[{\"marker\":{\"colorbar\":{\"outlinewidth\":0,\"ticks\":\"\"}},\"type\":\"scattergeo\"}],\"scattergl\":[{\"marker\":{\"line\":{\"color\":\"#283442\"}},\"type\":\"scattergl\"}],\"scattermapbox\":[{\"marker\":{\"colorbar\":{\"outlinewidth\":0,\"ticks\":\"\"}},\"type\":\"scattermapbox\"}],\"scatterpolargl\":[{\"marker\":{\"colorbar\":{\"outlinewidth\":0,\"ticks\":\"\"}},\"type\":\"scatterpolargl\"}],\"scatterpolar\":[{\"marker\":{\"colorbar\":{\"outlinewidth\":0,\"ticks\":\"\"}},\"type\":\"scatterpolar\"}],\"scatter\":[{\"marker\":{\"line\":{\"color\":\"#283442\"}},\"type\":\"scatter\"}],\"scatterternary\":[{\"marker\":{\"colorbar\":{\"outlinewidth\":0,\"ticks\":\"\"}},\"type\":\"scatterternary\"}],\"surface\":[{\"colorbar\":{\"outlinewidth\":0,\"ticks\":\"\"},\"colorscale\":[[0.0,\"#0d0887\"],[0.1111111111111111,\"#46039f\"],[0.2222222222222222,\"#7201a8\"],[0.3333333333333333,\"#9c179e\"],[0.4444444444444444,\"#bd3786\"],[0.5555555555555556,\"#d8576b\"],[0.6666666666666666,\"#ed7953\"],[0.7777777777777778,\"#fb9f3a\"],[0.8888888888888888,\"#fdca26\"],[1.0,\"#f0f921\"]],\"type\":\"surface\"}],\"table\":[{\"cells\":{\"fill\":{\"color\":\"#506784\"},\"line\":{\"color\":\"rgb(17,17,17)\"}},\"header\":{\"fill\":{\"color\":\"#2a3f5f\"},\"line\":{\"color\":\"rgb(17,17,17)\"}},\"type\":\"table\"}]},\"layout\":{\"annotationdefaults\":{\"arrowcolor\":\"#f2f5fa\",\"arrowhead\":0,\"arrowwidth\":1},\"autotypenumbers\":\"strict\",\"coloraxis\":{\"colorbar\":{\"outlinewidth\":0,\"ticks\":\"\"}},\"colorscale\":{\"diverging\":[[0,\"#8e0152\"],[0.1,\"#c51b7d\"],[0.2,\"#de77ae\"],[0.3,\"#f1b6da\"],[0.4,\"#fde0ef\"],[0.5,\"#f7f7f7\"],[0.6,\"#e6f5d0\"],[0.7,\"#b8e186\"],[0.8,\"#7fbc41\"],[0.9,\"#4d9221\"],[1,\"#276419\"]],\"sequential\":[[0.0,\"#0d0887\"],[0.1111111111111111,\"#46039f\"],[0.2222222222222222,\"#7201a8\"],[0.3333333333333333,\"#9c179e\"],[0.4444444444444444,\"#bd3786\"],[0.5555555555555556,\"#d8576b\"],[0.6666666666666666,\"#ed7953\"],[0.7777777777777778,\"#fb9f3a\"],[0.8888888888888888,\"#fdca26\"],[1.0,\"#f0f921\"]],\"sequentialminus\":[[0.0,\"#0d0887\"],[0.1111111111111111,\"#46039f\"],[0.2222222222222222,\"#7201a8\"],[0.3333333333333333,\"#9c179e\"],[0.4444444444444444,\"#bd3786\"],[0.5555555555555556,\"#d8576b\"],[0.6666666666666666,\"#ed7953\"],[0.7777777777777778,\"#fb9f3a\"],[0.8888888888888888,\"#fdca26\"],[1.0,\"#f0f921\"]]},\"colorway\":[\"#636efa\",\"#EF553B\",\"#00cc96\",\"#ab63fa\",\"#FFA15A\",\"#19d3f3\",\"#FF6692\",\"#B6E880\",\"#FF97FF\",\"#FECB52\"],\"font\":{\"color\":\"#f2f5fa\"},\"geo\":{\"bgcolor\":\"rgb(17,17,17)\",\"lakecolor\":\"rgb(17,17,17)\",\"landcolor\":\"rgb(17,17,17)\",\"showlakes\":true,\"showland\":true,\"subunitcolor\":\"#506784\"},\"hoverlabel\":{\"align\":\"left\"},\"hovermode\":\"closest\",\"mapbox\":{\"style\":\"dark\"},\"paper_bgcolor\":\"rgb(17,17,17)\",\"plot_bgcolor\":\"rgb(17,17,17)\",\"polar\":{\"angularaxis\":{\"gridcolor\":\"#506784\",\"linecolor\":\"#506784\",\"ticks\":\"\"},\"bgcolor\":\"rgb(17,17,17)\",\"radialaxis\":{\"gridcolor\":\"#506784\",\"linecolor\":\"#506784\",\"ticks\":\"\"}},\"scene\":{\"xaxis\":{\"backgroundcolor\":\"rgb(17,17,17)\",\"gridcolor\":\"#506784\",\"gridwidth\":2,\"linecolor\":\"#506784\",\"showbackground\":true,\"ticks\":\"\",\"zerolinecolor\":\"#C8D4E3\"},\"yaxis\":{\"backgroundcolor\":\"rgb(17,17,17)\",\"gridcolor\":\"#506784\",\"gridwidth\":2,\"linecolor\":\"#506784\",\"showbackground\":true,\"ticks\":\"\",\"zerolinecolor\":\"#C8D4E3\"},\"zaxis\":{\"backgroundcolor\":\"rgb(17,17,17)\",\"gridcolor\":\"#506784\",\"gridwidth\":2,\"linecolor\":\"#506784\",\"showbackground\":true,\"ticks\":\"\",\"zerolinecolor\":\"#C8D4E3\"}},\"shapedefaults\":{\"line\":{\"color\":\"#f2f5fa\"}},\"sliderdefaults\":{\"bgcolor\":\"#C8D4E3\",\"bordercolor\":\"rgb(17,17,17)\",\"borderwidth\":1,\"tickwidth\":0},\"ternary\":{\"aaxis\":{\"gridcolor\":\"#506784\",\"linecolor\":\"#506784\",\"ticks\":\"\"},\"baxis\":{\"gridcolor\":\"#506784\",\"linecolor\":\"#506784\",\"ticks\":\"\"},\"bgcolor\":\"rgb(17,17,17)\",\"caxis\":{\"gridcolor\":\"#506784\",\"linecolor\":\"#506784\",\"ticks\":\"\"}},\"title\":{\"x\":0.05},\"updatemenudefaults\":{\"bgcolor\":\"#506784\",\"borderwidth\":0},\"xaxis\":{\"automargin\":true,\"gridcolor\":\"#283442\",\"linecolor\":\"#506784\",\"ticks\":\"\",\"title\":{\"standoff\":15},\"zerolinecolor\":\"#283442\",\"zerolinewidth\":2},\"yaxis\":{\"automargin\":true,\"gridcolor\":\"#283442\",\"linecolor\":\"#506784\",\"ticks\":\"\",\"title\":{\"standoff\":15},\"zerolinecolor\":\"#283442\",\"zerolinewidth\":2}}},\"xaxis\":{\"anchor\":\"y\",\"domain\":[0.0,1.0],\"title\":{\"text\":\"Date_clean\"}},\"yaxis\":{\"anchor\":\"x\",\"domain\":[0.0,1.0],\"title\":{\"text\":\"sum of Prix_clean\"}},\"legend\":{\"tracegroupgap\":0},\"title\":{\"text\":\"Moyenne des ventes par jour\"},\"barmode\":\"relative\",\"bargap\":0.4},                        {\"responsive\": true}                    ).then(function(){\n",
              "                            \n",
              "var gd = document.getElementById('108b605f-c287-4f67-91a8-9d0355290804');\n",
              "var x = new MutationObserver(function (mutations, observer) {{\n",
              "        var display = window.getComputedStyle(gd).display;\n",
              "        if (!display || display === 'none') {{\n",
              "            console.log([gd, 'removed!']);\n",
              "            Plotly.purge(gd);\n",
              "            observer.disconnect();\n",
              "        }}\n",
              "}});\n",
              "\n",
              "// Listen for the removal of the full notebook cells\n",
              "var notebookContainer = gd.closest('#notebook-container');\n",
              "if (notebookContainer) {{\n",
              "    x.observe(notebookContainer, {childList: true});\n",
              "}}\n",
              "\n",
              "// Listen for the clearing of the current output cell\n",
              "var outputEl = gd.closest('.output');\n",
              "if (outputEl) {{\n",
              "    x.observe(outputEl, {childList: true});\n",
              "}}\n",
              "\n",
              "                        })                };                            </script>        </div>\n",
              "</body>\n",
              "</html>"
            ]
          },
          "metadata": {}
        }
      ]
    },
    {
      "cell_type": "markdown",
      "source": [
        "**#Somme**"
      ],
      "metadata": {
        "id": "bf6fICslhXoJ"
      }
    },
    {
      "cell_type": "code",
      "source": [
        "# Nombre de vente par dates\n",
        "\n",
        "# Somme\n",
        "\n",
        "# On creer en index les dates, qu'on additionne et on reset l'index (reflexe a avoir) pour pouvoir utiliser la colonne date dans l histogramme.\n",
        "\n",
        "DF_Somme = DF.groupby([\"Date_clean\"]).sum().reset_index()\n",
        "\n",
        "fig = px.histogram(DF_Somme, \n",
        "             x='Date_clean',\n",
        "             y='Prix_clean',  \n",
        "             title='Somme des valeurs générées par les ventes quotidiennes', nbins = len(DF_Mean),\n",
        "             color_discrete_sequence = px.colors.sequential.haline)\n",
        "\n",
        "fig.layout.template = 'plotly_dark'\n",
        "\n",
        "fig.update_layout(bargap=0.4)\n",
        "\n",
        "fig.show()"
      ],
      "metadata": {
        "id": "y_Mz25J7hi8F",
        "colab": {
          "base_uri": "https://localhost:8080/",
          "height": 542
        },
        "outputId": "133b0b51-4a34-47e4-ef1e-e09d32397d4e"
      },
      "execution_count": 224,
      "outputs": [
        {
          "output_type": "display_data",
          "data": {
            "text/html": [
              "<html>\n",
              "<head><meta charset=\"utf-8\" /></head>\n",
              "<body>\n",
              "    <div>            <script src=\"https://cdnjs.cloudflare.com/ajax/libs/mathjax/2.7.5/MathJax.js?config=TeX-AMS-MML_SVG\"></script><script type=\"text/javascript\">if (window.MathJax) {MathJax.Hub.Config({SVG: {font: \"STIX-Web\"}});}</script>                <script type=\"text/javascript\">window.PlotlyConfig = {MathJaxConfig: 'local'};</script>\n",
              "        <script src=\"https://cdn.plot.ly/plotly-2.8.3.min.js\"></script>                <div id=\"13cb10ca-b84d-4714-bcdb-d62b6dd1bf14\" class=\"plotly-graph-div\" style=\"height:525px; width:100%;\"></div>            <script type=\"text/javascript\">                                    window.PLOTLYENV=window.PLOTLYENV || {};                                    if (document.getElementById(\"13cb10ca-b84d-4714-bcdb-d62b6dd1bf14\")) {                    Plotly.newPlot(                        \"13cb10ca-b84d-4714-bcdb-d62b6dd1bf14\",                        [{\"alignmentgroup\":\"True\",\"bingroup\":\"x\",\"histfunc\":\"sum\",\"hovertemplate\":\"Date_clean=%{x}<br>sum of Prix_clean=%{y}<extra></extra>\",\"legendgroup\":\"\",\"marker\":{\"color\":\"rgb(41, 24, 107)\",\"pattern\":{\"shape\":\"\"}},\"name\":\"\",\"nbinsx\":13,\"offsetgroup\":\"\",\"orientation\":\"v\",\"showlegend\":false,\"x\":[\"2022-04-24T00:00:00\",\"2022-04-25T00:00:00\",\"2022-04-26T00:00:00\",\"2022-04-27T00:00:00\",\"2022-04-28T00:00:00\",\"2022-04-29T00:00:00\",\"2022-04-30T00:00:00\",\"2022-05-01T00:00:00\",\"2022-05-02T00:00:00\",\"2022-05-03T00:00:00\",\"2022-05-04T00:00:00\",\"2022-05-05T00:00:00\",\"2022-05-06T00:00:00\"],\"xaxis\":\"x\",\"y\":[12128.4,13948.5,8090.3,12601.7,13505.8,13228.6,12650.2,26826.5,15950.2,16444.3,15835.4,18811.5,9456.2],\"yaxis\":\"y\",\"type\":\"histogram\"}],                        {\"template\":{\"data\":{\"barpolar\":[{\"marker\":{\"line\":{\"color\":\"rgb(17,17,17)\",\"width\":0.5},\"pattern\":{\"fillmode\":\"overlay\",\"size\":10,\"solidity\":0.2}},\"type\":\"barpolar\"}],\"bar\":[{\"error_x\":{\"color\":\"#f2f5fa\"},\"error_y\":{\"color\":\"#f2f5fa\"},\"marker\":{\"line\":{\"color\":\"rgb(17,17,17)\",\"width\":0.5},\"pattern\":{\"fillmode\":\"overlay\",\"size\":10,\"solidity\":0.2}},\"type\":\"bar\"}],\"carpet\":[{\"aaxis\":{\"endlinecolor\":\"#A2B1C6\",\"gridcolor\":\"#506784\",\"linecolor\":\"#506784\",\"minorgridcolor\":\"#506784\",\"startlinecolor\":\"#A2B1C6\"},\"baxis\":{\"endlinecolor\":\"#A2B1C6\",\"gridcolor\":\"#506784\",\"linecolor\":\"#506784\",\"minorgridcolor\":\"#506784\",\"startlinecolor\":\"#A2B1C6\"},\"type\":\"carpet\"}],\"choropleth\":[{\"colorbar\":{\"outlinewidth\":0,\"ticks\":\"\"},\"type\":\"choropleth\"}],\"contourcarpet\":[{\"colorbar\":{\"outlinewidth\":0,\"ticks\":\"\"},\"type\":\"contourcarpet\"}],\"contour\":[{\"colorbar\":{\"outlinewidth\":0,\"ticks\":\"\"},\"colorscale\":[[0.0,\"#0d0887\"],[0.1111111111111111,\"#46039f\"],[0.2222222222222222,\"#7201a8\"],[0.3333333333333333,\"#9c179e\"],[0.4444444444444444,\"#bd3786\"],[0.5555555555555556,\"#d8576b\"],[0.6666666666666666,\"#ed7953\"],[0.7777777777777778,\"#fb9f3a\"],[0.8888888888888888,\"#fdca26\"],[1.0,\"#f0f921\"]],\"type\":\"contour\"}],\"heatmapgl\":[{\"colorbar\":{\"outlinewidth\":0,\"ticks\":\"\"},\"colorscale\":[[0.0,\"#0d0887\"],[0.1111111111111111,\"#46039f\"],[0.2222222222222222,\"#7201a8\"],[0.3333333333333333,\"#9c179e\"],[0.4444444444444444,\"#bd3786\"],[0.5555555555555556,\"#d8576b\"],[0.6666666666666666,\"#ed7953\"],[0.7777777777777778,\"#fb9f3a\"],[0.8888888888888888,\"#fdca26\"],[1.0,\"#f0f921\"]],\"type\":\"heatmapgl\"}],\"heatmap\":[{\"colorbar\":{\"outlinewidth\":0,\"ticks\":\"\"},\"colorscale\":[[0.0,\"#0d0887\"],[0.1111111111111111,\"#46039f\"],[0.2222222222222222,\"#7201a8\"],[0.3333333333333333,\"#9c179e\"],[0.4444444444444444,\"#bd3786\"],[0.5555555555555556,\"#d8576b\"],[0.6666666666666666,\"#ed7953\"],[0.7777777777777778,\"#fb9f3a\"],[0.8888888888888888,\"#fdca26\"],[1.0,\"#f0f921\"]],\"type\":\"heatmap\"}],\"histogram2dcontour\":[{\"colorbar\":{\"outlinewidth\":0,\"ticks\":\"\"},\"colorscale\":[[0.0,\"#0d0887\"],[0.1111111111111111,\"#46039f\"],[0.2222222222222222,\"#7201a8\"],[0.3333333333333333,\"#9c179e\"],[0.4444444444444444,\"#bd3786\"],[0.5555555555555556,\"#d8576b\"],[0.6666666666666666,\"#ed7953\"],[0.7777777777777778,\"#fb9f3a\"],[0.8888888888888888,\"#fdca26\"],[1.0,\"#f0f921\"]],\"type\":\"histogram2dcontour\"}],\"histogram2d\":[{\"colorbar\":{\"outlinewidth\":0,\"ticks\":\"\"},\"colorscale\":[[0.0,\"#0d0887\"],[0.1111111111111111,\"#46039f\"],[0.2222222222222222,\"#7201a8\"],[0.3333333333333333,\"#9c179e\"],[0.4444444444444444,\"#bd3786\"],[0.5555555555555556,\"#d8576b\"],[0.6666666666666666,\"#ed7953\"],[0.7777777777777778,\"#fb9f3a\"],[0.8888888888888888,\"#fdca26\"],[1.0,\"#f0f921\"]],\"type\":\"histogram2d\"}],\"histogram\":[{\"marker\":{\"pattern\":{\"fillmode\":\"overlay\",\"size\":10,\"solidity\":0.2}},\"type\":\"histogram\"}],\"mesh3d\":[{\"colorbar\":{\"outlinewidth\":0,\"ticks\":\"\"},\"type\":\"mesh3d\"}],\"parcoords\":[{\"line\":{\"colorbar\":{\"outlinewidth\":0,\"ticks\":\"\"}},\"type\":\"parcoords\"}],\"pie\":[{\"automargin\":true,\"type\":\"pie\"}],\"scatter3d\":[{\"line\":{\"colorbar\":{\"outlinewidth\":0,\"ticks\":\"\"}},\"marker\":{\"colorbar\":{\"outlinewidth\":0,\"ticks\":\"\"}},\"type\":\"scatter3d\"}],\"scattercarpet\":[{\"marker\":{\"colorbar\":{\"outlinewidth\":0,\"ticks\":\"\"}},\"type\":\"scattercarpet\"}],\"scattergeo\":[{\"marker\":{\"colorbar\":{\"outlinewidth\":0,\"ticks\":\"\"}},\"type\":\"scattergeo\"}],\"scattergl\":[{\"marker\":{\"line\":{\"color\":\"#283442\"}},\"type\":\"scattergl\"}],\"scattermapbox\":[{\"marker\":{\"colorbar\":{\"outlinewidth\":0,\"ticks\":\"\"}},\"type\":\"scattermapbox\"}],\"scatterpolargl\":[{\"marker\":{\"colorbar\":{\"outlinewidth\":0,\"ticks\":\"\"}},\"type\":\"scatterpolargl\"}],\"scatterpolar\":[{\"marker\":{\"colorbar\":{\"outlinewidth\":0,\"ticks\":\"\"}},\"type\":\"scatterpolar\"}],\"scatter\":[{\"marker\":{\"line\":{\"color\":\"#283442\"}},\"type\":\"scatter\"}],\"scatterternary\":[{\"marker\":{\"colorbar\":{\"outlinewidth\":0,\"ticks\":\"\"}},\"type\":\"scatterternary\"}],\"surface\":[{\"colorbar\":{\"outlinewidth\":0,\"ticks\":\"\"},\"colorscale\":[[0.0,\"#0d0887\"],[0.1111111111111111,\"#46039f\"],[0.2222222222222222,\"#7201a8\"],[0.3333333333333333,\"#9c179e\"],[0.4444444444444444,\"#bd3786\"],[0.5555555555555556,\"#d8576b\"],[0.6666666666666666,\"#ed7953\"],[0.7777777777777778,\"#fb9f3a\"],[0.8888888888888888,\"#fdca26\"],[1.0,\"#f0f921\"]],\"type\":\"surface\"}],\"table\":[{\"cells\":{\"fill\":{\"color\":\"#506784\"},\"line\":{\"color\":\"rgb(17,17,17)\"}},\"header\":{\"fill\":{\"color\":\"#2a3f5f\"},\"line\":{\"color\":\"rgb(17,17,17)\"}},\"type\":\"table\"}]},\"layout\":{\"annotationdefaults\":{\"arrowcolor\":\"#f2f5fa\",\"arrowhead\":0,\"arrowwidth\":1},\"autotypenumbers\":\"strict\",\"coloraxis\":{\"colorbar\":{\"outlinewidth\":0,\"ticks\":\"\"}},\"colorscale\":{\"diverging\":[[0,\"#8e0152\"],[0.1,\"#c51b7d\"],[0.2,\"#de77ae\"],[0.3,\"#f1b6da\"],[0.4,\"#fde0ef\"],[0.5,\"#f7f7f7\"],[0.6,\"#e6f5d0\"],[0.7,\"#b8e186\"],[0.8,\"#7fbc41\"],[0.9,\"#4d9221\"],[1,\"#276419\"]],\"sequential\":[[0.0,\"#0d0887\"],[0.1111111111111111,\"#46039f\"],[0.2222222222222222,\"#7201a8\"],[0.3333333333333333,\"#9c179e\"],[0.4444444444444444,\"#bd3786\"],[0.5555555555555556,\"#d8576b\"],[0.6666666666666666,\"#ed7953\"],[0.7777777777777778,\"#fb9f3a\"],[0.8888888888888888,\"#fdca26\"],[1.0,\"#f0f921\"]],\"sequentialminus\":[[0.0,\"#0d0887\"],[0.1111111111111111,\"#46039f\"],[0.2222222222222222,\"#7201a8\"],[0.3333333333333333,\"#9c179e\"],[0.4444444444444444,\"#bd3786\"],[0.5555555555555556,\"#d8576b\"],[0.6666666666666666,\"#ed7953\"],[0.7777777777777778,\"#fb9f3a\"],[0.8888888888888888,\"#fdca26\"],[1.0,\"#f0f921\"]]},\"colorway\":[\"#636efa\",\"#EF553B\",\"#00cc96\",\"#ab63fa\",\"#FFA15A\",\"#19d3f3\",\"#FF6692\",\"#B6E880\",\"#FF97FF\",\"#FECB52\"],\"font\":{\"color\":\"#f2f5fa\"},\"geo\":{\"bgcolor\":\"rgb(17,17,17)\",\"lakecolor\":\"rgb(17,17,17)\",\"landcolor\":\"rgb(17,17,17)\",\"showlakes\":true,\"showland\":true,\"subunitcolor\":\"#506784\"},\"hoverlabel\":{\"align\":\"left\"},\"hovermode\":\"closest\",\"mapbox\":{\"style\":\"dark\"},\"paper_bgcolor\":\"rgb(17,17,17)\",\"plot_bgcolor\":\"rgb(17,17,17)\",\"polar\":{\"angularaxis\":{\"gridcolor\":\"#506784\",\"linecolor\":\"#506784\",\"ticks\":\"\"},\"bgcolor\":\"rgb(17,17,17)\",\"radialaxis\":{\"gridcolor\":\"#506784\",\"linecolor\":\"#506784\",\"ticks\":\"\"}},\"scene\":{\"xaxis\":{\"backgroundcolor\":\"rgb(17,17,17)\",\"gridcolor\":\"#506784\",\"gridwidth\":2,\"linecolor\":\"#506784\",\"showbackground\":true,\"ticks\":\"\",\"zerolinecolor\":\"#C8D4E3\"},\"yaxis\":{\"backgroundcolor\":\"rgb(17,17,17)\",\"gridcolor\":\"#506784\",\"gridwidth\":2,\"linecolor\":\"#506784\",\"showbackground\":true,\"ticks\":\"\",\"zerolinecolor\":\"#C8D4E3\"},\"zaxis\":{\"backgroundcolor\":\"rgb(17,17,17)\",\"gridcolor\":\"#506784\",\"gridwidth\":2,\"linecolor\":\"#506784\",\"showbackground\":true,\"ticks\":\"\",\"zerolinecolor\":\"#C8D4E3\"}},\"shapedefaults\":{\"line\":{\"color\":\"#f2f5fa\"}},\"sliderdefaults\":{\"bgcolor\":\"#C8D4E3\",\"bordercolor\":\"rgb(17,17,17)\",\"borderwidth\":1,\"tickwidth\":0},\"ternary\":{\"aaxis\":{\"gridcolor\":\"#506784\",\"linecolor\":\"#506784\",\"ticks\":\"\"},\"baxis\":{\"gridcolor\":\"#506784\",\"linecolor\":\"#506784\",\"ticks\":\"\"},\"bgcolor\":\"rgb(17,17,17)\",\"caxis\":{\"gridcolor\":\"#506784\",\"linecolor\":\"#506784\",\"ticks\":\"\"}},\"title\":{\"x\":0.05},\"updatemenudefaults\":{\"bgcolor\":\"#506784\",\"borderwidth\":0},\"xaxis\":{\"automargin\":true,\"gridcolor\":\"#283442\",\"linecolor\":\"#506784\",\"ticks\":\"\",\"title\":{\"standoff\":15},\"zerolinecolor\":\"#283442\",\"zerolinewidth\":2},\"yaxis\":{\"automargin\":true,\"gridcolor\":\"#283442\",\"linecolor\":\"#506784\",\"ticks\":\"\",\"title\":{\"standoff\":15},\"zerolinecolor\":\"#283442\",\"zerolinewidth\":2}}},\"xaxis\":{\"anchor\":\"y\",\"domain\":[0.0,1.0],\"title\":{\"text\":\"Date_clean\"}},\"yaxis\":{\"anchor\":\"x\",\"domain\":[0.0,1.0],\"title\":{\"text\":\"sum of Prix_clean\"}},\"legend\":{\"tracegroupgap\":0},\"title\":{\"text\":\"Somme des valeurs g\\u00e9n\\u00e9r\\u00e9es par les ventes quotidiennes\"},\"barmode\":\"relative\",\"bargap\":0.4},                        {\"responsive\": true}                    ).then(function(){\n",
              "                            \n",
              "var gd = document.getElementById('13cb10ca-b84d-4714-bcdb-d62b6dd1bf14');\n",
              "var x = new MutationObserver(function (mutations, observer) {{\n",
              "        var display = window.getComputedStyle(gd).display;\n",
              "        if (!display || display === 'none') {{\n",
              "            console.log([gd, 'removed!']);\n",
              "            Plotly.purge(gd);\n",
              "            observer.disconnect();\n",
              "        }}\n",
              "}});\n",
              "\n",
              "// Listen for the removal of the full notebook cells\n",
              "var notebookContainer = gd.closest('#notebook-container');\n",
              "if (notebookContainer) {{\n",
              "    x.observe(notebookContainer, {childList: true});\n",
              "}}\n",
              "\n",
              "// Listen for the clearing of the current output cell\n",
              "var outputEl = gd.closest('.output');\n",
              "if (outputEl) {{\n",
              "    x.observe(outputEl, {childList: true});\n",
              "}}\n",
              "\n",
              "                        })                };                            </script>        </div>\n",
              "</body>\n",
              "</html>"
            ]
          },
          "metadata": {}
        }
      ]
    },
    {
      "cell_type": "code",
      "source": [
        "# Quel est la moyenne des sommes quotidiennes vendues sur eBay ?\n",
        "\n",
        "Moyenne_Ventes_Quotidiennes = DF_Somme['Prix_clean'].mean()\n",
        "\n",
        "Moyenne_Ventes_Quotidiennes"
      ],
      "metadata": {
        "colab": {
          "base_uri": "https://localhost:8080/"
        },
        "id": "qdEEGClYQPds",
        "outputId": "4c0c482d-37ec-4483-defe-ed77f8c8bb56"
      },
      "execution_count": 228,
      "outputs": [
        {
          "output_type": "execute_result",
          "data": {
            "text/plain": [
              "14575.2"
            ]
          },
          "metadata": {},
          "execution_count": 228
        }
      ]
    },
    {
      "cell_type": "markdown",
      "source": [
        "**#Volumes**"
      ],
      "metadata": {
        "id": "4wcP-LghhZtA"
      }
    },
    {
      "cell_type": "code",
      "source": [
        "# Nombre de vente par dates\n",
        "\n",
        "#Tout d'abord, on va creer une colonne 'count' qui va prendre la valeur de 1 afin de compter chaque ligne du DF.\n",
        "\n",
        "DF['count'] = 1\n",
        "\n",
        "#Ensuite on créer un DF qui va compter le nombre de vente réalisées par jours et les additionner\n",
        "\n",
        "DF_Count = DF.groupby([\"Date_clean\"]).sum().reset_index()\n",
        "\n",
        "fig = px.histogram(DF_Count, \n",
        "             x='Date_clean',\n",
        "             y='count',  \n",
        "             title='Nombre de ventes réalisées par jour', nbins = len(DF_Count),\n",
        "             color_discrete_sequence = px.colors.sequential.haline)\n",
        "\n",
        "fig.layout.template = 'plotly_dark'\n",
        "\n",
        "fig.update_layout(bargap=0.4)\n",
        "\n",
        "fig.show()\n",
        "\n",
        "# Volume"
      ],
      "metadata": {
        "id": "6iUl7x4EhnMw"
      },
      "execution_count": null,
      "outputs": []
    },
    {
      "cell_type": "markdown",
      "source": [
        "**Remarque** : Ce graphique communique l information que les ventes sont plus elevées en debut de mois, probablement car les salaires tombent et donc les ventes se font plus facilement.\n",
        "\n",
        "# **Rappel** : le 1 mai est un Dimanche"
      ],
      "metadata": {
        "id": "K-V8mhwcrDfH"
      }
    },
    {
      "cell_type": "markdown",
      "source": [
        "# **TOP 10 des plus grosses ventes ebay**"
      ],
      "metadata": {
        "id": "LPU__XgSHbjx"
      }
    },
    {
      "cell_type": "code",
      "source": [
        "#Top 10 ventes Ebay (top par classement MAXIMUM)\n",
        "\n",
        "#On creer un DF avec les colonnes qui nous intéressent et se basant sur la colonne prix, TRI = decroissant.\n",
        "DF_Prix = DF.drop_duplicates(\"Titre\").sort_values(by='Prix_clean', ascending=False).head(10)\n",
        "\n",
        "#On applique \"head\" pour avoir les x premier et \"tail\" pour les x derniers\n",
        "\n",
        "fig = px.histogram(DF_Prix, \n",
        "             x='Titre', \n",
        "             y='Prix_clean',  \n",
        "             title='TOP 10 : Produits vendus Ebay',\n",
        "             color_discrete_sequence = px.colors.sequential.haline)\n",
        "\n",
        "fig.layout.template = 'plotly_dark'\n",
        "\n",
        "fig.update_layout(bargap=0.5)\n",
        "\n",
        "fig.show()\n"
      ],
      "metadata": {
        "id": "gZ_bxp05wSkC"
      },
      "execution_count": null,
      "outputs": []
    },
    {
      "cell_type": "code",
      "source": [
        "# DF.info()"
      ],
      "metadata": {
        "id": "t6TyXUeS7e1U"
      },
      "execution_count": null,
      "outputs": []
    },
    {
      "cell_type": "markdown",
      "source": [
        "\n",
        "\n",
        "# **> FIN**\n",
        "\n"
      ],
      "metadata": {
        "id": "hEg344dhr-sa"
      }
    },
    {
      "cell_type": "markdown",
      "source": [
        "\n",
        "\n",
        "# **> By Raphaël FUENTES**\n",
        "\n"
      ],
      "metadata": {
        "id": "lkNQkSdDsElf"
      }
    }
  ]
}